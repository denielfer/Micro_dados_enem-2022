{
 "cells": [
  {
   "cell_type": "markdown",
   "metadata": {},
   "source": [
    "Caregando base de dados usado para analize e resposta das quetões"
   ]
  },
  {
   "cell_type": "code",
   "execution_count": 2,
   "metadata": {},
   "outputs": [],
   "source": [
    "import pandas as pd\n",
    "db = pd.read_csv('base_dados.csv', encoding=\"cp1252\")"
   ]
  },
  {
   "cell_type": "markdown",
   "metadata": {},
   "source": [
    "# Questao 2 #\n",
    "Quais são os tipos de dados dos atributos (cf slides da aula sobre dados) disponíveis na base?"
   ]
  },
  {
   "cell_type": "markdown",
   "metadata": {},
   "source": []
  },
  {
   "cell_type": "markdown",
   "metadata": {},
   "source": [
    "# Questao 3 #"
   ]
  },
  {
   "cell_type": "markdown",
   "metadata": {},
   "source": [
    "Quais são as cidades das escolas dos inscritos com dados disponíveis na base? "
   ]
  },
  {
   "cell_type": "markdown",
   "metadata": {},
   "source": [
    "R:Atravez da coluna \"NO_MUNICIPIO_ESC\" obetmos os nomes dos municipios das escolas, assim para obermos isso pegamos os valores unicos desta coluna"
   ]
  },
  {
   "cell_type": "code",
   "execution_count": 12,
   "metadata": {},
   "outputs": [
    {
     "data": {
      "text/plain": [
       "array([nan, 'Salvador', 'Una', 'Lauro de Freitas', 'Candeias',\n",
       "       'Mata de São João', 'Jaboatão dos Guararapes', 'Juazeiro',\n",
       "       'Eunápolis', 'Simões Filho', 'Madre de Deus', 'Apuarema',\n",
       "       'Vera Cruz', 'Planalto', 'Serrinha', 'Camamu', 'Itaberaba',\n",
       "       'Rio Verde', 'Remanso', 'Camaçari', 'Amargosa', 'Jequié',\n",
       "       'Porto Seguro', 'São Sebastião do Passé', 'Caém', 'Ibicoara',\n",
       "       'Cafarnaum', 'Pojuca', 'América Dourada', 'João Pessoa',\n",
       "       'Jaguaquara', 'Santa Inês', 'Barreiras', 'Itaparica', 'Rio Real',\n",
       "       'Feira de Santana', 'São Francisco do Conde', 'Serra Dourada',\n",
       "       'Presidente Tancredo Neves', 'Salinas da Margarida',\n",
       "       'Vitória da Conquista', 'Bom Jesus da Lapa', 'São Paulo',\n",
       "       'Palmas de Monte Alto', 'Teolândia', 'Ubaíra', 'Jaguarari',\n",
       "       'Castanhal', 'Chã de Alegria', 'Paragominas', 'Duque de Caxias',\n",
       "       'Tapiramutá', 'Itambé', 'Santa Bárbara', 'Santo Antônio de Jesus',\n",
       "       'Curitiba', 'Cotia', 'Jandaíra', 'Ouricuri', 'Rio de Janeiro',\n",
       "       'Natal', 'Cícero Dantas', 'Terra Nova', 'Fortaleza', 'Iramaia',\n",
       "       'Valença', 'Luís Eduardo Magalhães', 'Paulo Afonso', 'Serra Preta',\n",
       "       'Senhor do Bonfim', 'Jeremoabo', 'Aracaju', 'São José',\n",
       "       'Entre Rios', 'Teófilo Otoni', 'Santo Amaro', 'Maricá', 'Poções',\n",
       "       'Marituba', 'Barbacena', \"Dias d'Ávila\"], dtype=object)"
      ]
     },
     "execution_count": 12,
     "metadata": {},
     "output_type": "execute_result"
    }
   ],
   "source": [
    "db[\"NO_MUNICIPIO_ESC\"].unique()"
   ]
  },
  {
   "cell_type": "markdown",
   "metadata": {},
   "source": [
    "Quais são as cidades de aplicação de provas com dados disponíveis na base? "
   ]
  },
  {
   "cell_type": "markdown",
   "metadata": {},
   "source": [
    "Como a filtragem foi feita encima deste atributo sabesmos que tal cidade é Salvador, para confirma pegamos os valores unicos ta coluna \"NO_MUNICIPIO_PROVA\""
   ]
  },
  {
   "cell_type": "code",
   "execution_count": 13,
   "metadata": {},
   "outputs": [
    {
     "data": {
      "text/plain": [
       "array(['Salvador'], dtype=object)"
      ]
     },
     "execution_count": 13,
     "metadata": {},
     "output_type": "execute_result"
    }
   ],
   "source": [
    "db[\"NO_MUNICIPIO_PROVA\"].unique()"
   ]
  },
  {
   "cell_type": "markdown",
   "metadata": {},
   "source": [
    "Quantos candidatos há nas cidades das escolas e nas cidades de aplicação? Compare e discuta os resultados."
   ]
  },
  {
   "cell_type": "markdown",
   "metadata": {},
   "source": [
    "Para saber a quantidade de alunos por cidade pedimos um agrupamento da coluna \"NO_MUNICIPIO_ESC\" e fazemos a contagem de quantos balores temos. Para essa contagem foi usado o methodo count, e mostrado os valores da 1 coluna ( que neste caso guarda o index inicial do candidato nos microdados, assim sendo uma coluna que se tem certeza que não havera valores nulos para atrapalhar a contagem )\n",
    "\n",
    "Pode ser observado que existem 4 vezes mais candidados que não informaram do que que informaram."
   ]
  },
  {
   "cell_type": "code",
   "execution_count": 44,
   "metadata": {},
   "outputs": [
    {
     "name": "stdout",
     "output_type": "stream",
     "text": [
      "Candidados por Cidade das escolas:  {'Amargosa': 1, 'América Dourada': 1, 'Apuarema': 1, 'Aracaju': 1, 'Barbacena': 1, 'Barreiras': 2, 'Bom Jesus da Lapa': 1, 'Cafarnaum': 2, 'Camamu': 1, 'Camaçari': 22, 'Candeias': 2, 'Castanhal': 1, 'Caém': 1, 'Chã de Alegria': 1, 'Cotia': 1, 'Curitiba': 2, 'Cícero Dantas': 1, \"Dias d'Ávila\": 1, 'Duque de Caxias': 3, 'Entre Rios': 1, 'Eunápolis': 3, 'Feira de Santana': 3, 'Fortaleza': 1, 'Ibicoara': 1, 'Iramaia': 1, 'Itaberaba': 2, 'Itambé': 1, 'Itaparica': 2, 'Jaboatão dos Guararapes': 1, 'Jaguaquara': 1, 'Jaguarari': 1, 'Jandaíra': 1, 'Jequié': 2, 'Jeremoabo': 1, 'João Pessoa': 4, 'Juazeiro': 3, 'Lauro de Freitas': 72, 'Luís Eduardo Magalhães': 2, 'Madre de Deus': 8, 'Maricá': 1, 'Marituba': 1, 'Mata de São João': 11, 'Natal': 1, 'Ouricuri': 1, 'Palmas de Monte Alto': 1, 'Paragominas': 7, 'Paulo Afonso': 1, 'Planalto': 1, 'Pojuca': 1, 'Porto Seguro': 2, 'Poções': 1, 'Presidente Tancredo Neves': 1, 'Remanso': 1, 'Rio Real': 1, 'Rio Verde': 1, 'Rio de Janeiro': 2, 'Salinas da Margarida': 1, 'Salvador': 9772, 'Santa Bárbara': 3, 'Santa Inês': 1, 'Santo Amaro': 1, 'Santo Antônio de Jesus': 1, 'Senhor do Bonfim': 1, 'Serra Dourada': 1, 'Serra Preta': 1, 'Serrinha': 1, 'Simões Filho': 43, 'São Francisco do Conde': 1, 'São José': 1, 'São Paulo': 1, 'São Sebastião do Passé': 1, 'Tapiramutá': 1, 'Teolândia': 1, 'Terra Nova': 1, 'Teófilo Otoni': 1, 'Ubaíra': 1, 'Una': 1, 'Valença': 1, 'Vera Cruz': 2, 'Vitória da Conquista': 2}\n",
      "Quantidade de Candidados que temos informação da cidade da escola: 10033\n",
      "Quantidade de Candidatos que não temos informação da cidade da escola: 44571\n",
      "A quantidade de valores dos Candidatos que informaram e não informaram é a mesma quantidade de valores do dataframe original?  True\n"
     ]
    }
   ],
   "source": [
    "print(\"Candidados por Cidade das escolas: \",dict(db.groupby(\"NO_MUNICIPIO_ESC\").count().iloc[:,1]))\n",
    "print(\"Quantidade de Candidados que temos informação da cidade da escola:\",sum(list(db.groupby(\"NO_MUNICIPIO_ESC\").count().iloc[:,1])))\n",
    "print(\"Quantidade de Candidatos que não temos informação da cidade da escola:\",len(db[db.get(\"NO_MUNICIPIO_ESC\").isna()]))\n",
    "print(\"A quantidade de valores dos Candidatos que informaram e não informaram é a mesma quantidade de valores do dataframe original? \",db.iloc[:,1].count() == sum(list(db.groupby(\"NO_MUNICIPIO_ESC\").count().iloc[:,1]))+len(db[db.get(\"NO_MUNICIPIO_ESC\").isna()]))"
   ]
  },
  {
   "cell_type": "markdown",
   "metadata": {},
   "source": [
    "Como o criterio escolhido foi a cidade de aplicação então sabemos que todos os candidatos realizaram em Salvador"
   ]
  },
  {
   "cell_type": "code",
   "execution_count": 45,
   "metadata": {},
   "outputs": [
    {
     "name": "stdout",
     "output_type": "stream",
     "text": [
      "Candidados por Cidade de aplicação:  {'Salvador': 54604}\n",
      "Quantidade de Candidados que temos informação da cidade de aplicação: 54604\n",
      "Quantidade de Candidatos que não temos informação da cidade de aplicação: 0\n"
     ]
    }
   ],
   "source": [
    "print(\"Candidados por Cidade de aplicação: \",dict(db.groupby(\"NO_MUNICIPIO_PROVA\").count().iloc[:,1]))\n",
    "print(\"Quantidade de Candidados que temos informação da cidade de aplicação:\",sum(list(db.groupby(\"NO_MUNICIPIO_PROVA\").count().iloc[:,1])))\n",
    "print(\"Quantidade de Candidatos que não temos informação da cidade de aplicação:\",len(db[db.get(\"NO_MUNICIPIO_PROVA\").isna()]))"
   ]
  },
  {
   "cell_type": "markdown",
   "metadata": {},
   "source": [
    "# Questao 4 #\n",
    "Escolha duas cidades das escolas. Para cada cidade, calcule a tendência central (média, mediana e/ou moda, conforme possibilidade) e desvio padrão de nota de redação para os inscritos. Que análise pode ser feita observando os valores obtidos?"
   ]
  },
  {
   "cell_type": "markdown",
   "metadata": {},
   "source": [
    "Para escolher a escola filtramos as cidades e notas da redação, removemos as que tem valor vazio ( tando de cidade quanto de nota ) e vemos quantos valor temos por cidade. Assim escolhemos Salvador e Lauro de Freitas que são as 2 cidades com maior numero de candidados."
   ]
  },
  {
   "cell_type": "code",
   "execution_count": 74,
   "metadata": {},
   "outputs": [
    {
     "data": {
      "text/plain": [
       "NO_MUNICIPIO_ESC\n",
       "Salvador            8131\n",
       "Lauro de Freitas      48\n",
       "Simões Filho          33\n",
       "Camaçari              16\n",
       "Mata de São João       7\n",
       "Name: count, dtype: int64"
      ]
     },
     "execution_count": 74,
     "metadata": {},
     "output_type": "execute_result"
    }
   ],
   "source": [
    "db.get(['NO_MUNICIPIO_ESC','NU_NOTA_REDACAO']).dropna().NO_MUNICIPIO_ESC.value_counts()[:5]"
   ]
  },
  {
   "cell_type": "code",
   "execution_count": 6,
   "metadata": {},
   "outputs": [
    {
     "data": {
      "text/html": [
       "<div>\n",
       "<style scoped>\n",
       "    .dataframe tbody tr th:only-of-type {\n",
       "        vertical-align: middle;\n",
       "    }\n",
       "\n",
       "    .dataframe tbody tr th {\n",
       "        vertical-align: top;\n",
       "    }\n",
       "\n",
       "    .dataframe thead th {\n",
       "        text-align: right;\n",
       "    }\n",
       "</style>\n",
       "<table border=\"1\" class=\"dataframe\">\n",
       "  <thead>\n",
       "    <tr style=\"text-align: right;\">\n",
       "      <th></th>\n",
       "      <th>NU_NOTA_REDACAO</th>\n",
       "    </tr>\n",
       "  </thead>\n",
       "  <tbody>\n",
       "    <tr>\n",
       "      <th>count</th>\n",
       "      <td>8131.000000</td>\n",
       "    </tr>\n",
       "    <tr>\n",
       "      <th>mean</th>\n",
       "      <td>666.525643</td>\n",
       "    </tr>\n",
       "    <tr>\n",
       "      <th>std</th>\n",
       "      <td>205.890067</td>\n",
       "    </tr>\n",
       "    <tr>\n",
       "      <th>min</th>\n",
       "      <td>0.000000</td>\n",
       "    </tr>\n",
       "    <tr>\n",
       "      <th>25%</th>\n",
       "      <td>560.000000</td>\n",
       "    </tr>\n",
       "    <tr>\n",
       "      <th>50%</th>\n",
       "      <td>700.000000</td>\n",
       "    </tr>\n",
       "    <tr>\n",
       "      <th>75%</th>\n",
       "      <td>820.000000</td>\n",
       "    </tr>\n",
       "    <tr>\n",
       "      <th>max</th>\n",
       "      <td>980.000000</td>\n",
       "    </tr>\n",
       "  </tbody>\n",
       "</table>\n",
       "</div>"
      ],
      "text/plain": [
       "       NU_NOTA_REDACAO\n",
       "count      8131.000000\n",
       "mean        666.525643\n",
       "std         205.890067\n",
       "min           0.000000\n",
       "25%         560.000000\n",
       "50%         700.000000\n",
       "75%         820.000000\n",
       "max         980.000000"
      ]
     },
     "metadata": {},
     "output_type": "display_data"
    },
    {
     "data": {
      "text/html": [
       "<div>\n",
       "<style scoped>\n",
       "    .dataframe tbody tr th:only-of-type {\n",
       "        vertical-align: middle;\n",
       "    }\n",
       "\n",
       "    .dataframe tbody tr th {\n",
       "        vertical-align: top;\n",
       "    }\n",
       "\n",
       "    .dataframe thead th {\n",
       "        text-align: right;\n",
       "    }\n",
       "</style>\n",
       "<table border=\"1\" class=\"dataframe\">\n",
       "  <thead>\n",
       "    <tr style=\"text-align: right;\">\n",
       "      <th></th>\n",
       "      <th>NU_NOTA_REDACAO</th>\n",
       "    </tr>\n",
       "  </thead>\n",
       "  <tbody>\n",
       "    <tr>\n",
       "      <th>count</th>\n",
       "      <td>48.000000</td>\n",
       "    </tr>\n",
       "    <tr>\n",
       "      <th>mean</th>\n",
       "      <td>710.833333</td>\n",
       "    </tr>\n",
       "    <tr>\n",
       "      <th>std</th>\n",
       "      <td>214.494292</td>\n",
       "    </tr>\n",
       "    <tr>\n",
       "      <th>min</th>\n",
       "      <td>0.000000</td>\n",
       "    </tr>\n",
       "    <tr>\n",
       "      <th>25%</th>\n",
       "      <td>665.000000</td>\n",
       "    </tr>\n",
       "    <tr>\n",
       "      <th>50%</th>\n",
       "      <td>770.000000</td>\n",
       "    </tr>\n",
       "    <tr>\n",
       "      <th>75%</th>\n",
       "      <td>860.000000</td>\n",
       "    </tr>\n",
       "    <tr>\n",
       "      <th>max</th>\n",
       "      <td>940.000000</td>\n",
       "    </tr>\n",
       "  </tbody>\n",
       "</table>\n",
       "</div>"
      ],
      "text/plain": [
       "       NU_NOTA_REDACAO\n",
       "count        48.000000\n",
       "mean        710.833333\n",
       "std         214.494292\n",
       "min           0.000000\n",
       "25%         665.000000\n",
       "50%         770.000000\n",
       "75%         860.000000\n",
       "max         940.000000"
      ]
     },
     "metadata": {},
     "output_type": "display_data"
    },
    {
     "name": "stdout",
     "output_type": "stream",
     "text": [
      "moda salvador: (880.0,)\n",
      "moda lauro de freitas: (820.0,)\n"
     ]
    }
   ],
   "source": [
    "nota_redação_salvador = db[db[\"NO_MUNICIPIO_ESC\"] == \"Salvador\"].get([\"NU_NOTA_REDACAO\"])\n",
    "nota_redação_lauro = db[db[\"NO_MUNICIPIO_ESC\"] == \"Lauro de Freitas\"].get([\"NU_NOTA_REDACAO\"])\n",
    "display(nota_redação_salvador.describe(),\n",
    "        nota_redação_lauro.describe())\n",
    "print(f'moda salvador: {nota_redação_salvador.value_counts().index[0]}',\n",
    "      f'moda lauro de freitas: {nota_redação_lauro.value_counts().index[0]}', sep = '\\n')"
   ]
  },
  {
   "cell_type": "code",
   "execution_count": 26,
   "metadata": {},
   "outputs": [
    {
     "name": "stdout",
     "output_type": "stream",
     "text": [
      "Coeficiente de variação:\n",
      "Salvador:30.175\n",
      "Lauro de Freitas:30.175\n"
     ]
    }
   ],
   "source": [
    "cv_salvador = (nota_redação_lauro.std()/nota_redação_lauro.mean()).iloc[0]\n",
    "cv_lauro = (nota_redação_lauro.std()/nota_redação_lauro.mean()).iloc[0]\n",
    "print(f'Coeficiente de variação:\\nSalvador:{cv_salvador*100:.05}\\nLauro de Freitas:{cv_lauro*100:.05}')"
   ]
  },
  {
   "cell_type": "code",
   "execution_count": 34,
   "metadata": {},
   "outputs": [
    {
     "data": {
      "text/plain": [
       "array([[<Axes: title={'center': 'NU_NOTA_REDACAO'}>]], dtype=object)"
      ]
     },
     "execution_count": 34,
     "metadata": {},
     "output_type": "execute_result"
    },
    {
     "data": {
      "image/png": "[encoded data removed]",
      "text/plain": [
       "<Figure size 640x480 with 1 Axes>"
      ]
     },
     "metadata": {},
     "output_type": "display_data"
    }
   ],
   "source": [
    "nota_redação_salvador.hist(bins=10)"
   ]
  },
  {
   "cell_type": "code",
   "execution_count": 33,
   "metadata": {},
   "outputs": [
    {
     "data": {
      "text/plain": [
       "array([[<Axes: title={'center': 'NU_NOTA_REDACAO'}>]], dtype=object)"
      ]
     },
     "execution_count": 33,
     "metadata": {},
     "output_type": "execute_result"
    },
    {
     "data": {
      "image/png": "[encoded data removed]",
      "text/plain": [
       "<Figure size 640x480 with 1 Axes>"
      ]
     },
     "metadata": {},
     "output_type": "display_data"
    }
   ],
   "source": [
    "nota_redação_lauro.hist(bins=10)"
   ]
  },
  {
   "cell_type": "markdown",
   "metadata": {},
   "source": [
    "Percebemos que apesar de todos os quartils e media da nota da redação dos canditos que estudaram em Lauro de Freitas ser maior que os de Salvador tanto a moda quando a nota maxima são maiores em salvador \n",
    "\n",
    "Ambas são distribuições assimetricas positivas ou a direita, uma vez que a moda é maior que a mediana ( 50% ou 2 quartil ), que por sua vez é maior que a media\n",
    "\n",
    "E apesar da media e desvio padrao ser diferentes ambos possuem o mesmo coeficiente de variação"
   ]
  },
  {
   "cell_type": "markdown",
   "metadata": {},
   "source": [
    "# Questao 5 #\n",
    "Escolha uma cidade de escola, faça histogramas sobrepostos da nota de redação dos inscritos por sexo biológico. Faça o mesmo para nota de matemática. O que você observa? Comente.\n"
   ]
  },
  {
   "cell_type": "code",
   "execution_count": 42,
   "metadata": {},
   "outputs": [
    {
     "name": "stdout",
     "output_type": "stream",
     "text": [
      "Histograma para sexo M\n",
      "Histograma para sexo F\n"
     ]
    },
    {
     "data": {
      "image/png": "[encoded data removed]",
      "text/plain": [
       "<Figure size 640x480 with 2 Axes>"
      ]
     },
     "metadata": {},
     "output_type": "display_data"
    },
    {
     "data": {
      "image/png": "[encoded data removed]",
      "text/plain": [
       "<Figure size 640x480 with 2 Axes>"
      ]
     },
     "metadata": {},
     "output_type": "display_data"
    }
   ],
   "source": [
    "db.columns\n",
    "for a in db.TP_SEXO.unique():\n",
    "    print(f'Histograma para sexo {a}') # nao conseguir setar o titulo\n",
    "    db[db['TP_SEXO'] == a].get(['NU_NOTA_REDACAO','NU_NOTA_MT']).hist(bins=100)"
   ]
  },
  {
   "cell_type": "markdown",
   "metadata": {},
   "source": []
  }
 ],
 "metadata": {
  "kernelspec": {
   "display_name": "env",
   "language": "python",
   "name": "python3"
  },
  "language_info": {
   "codemirror_mode": {
    "name": "ipython",
    "version": 3
   },
   "file_extension": ".py",
   "mimetype": "text/x-python",
   "name": "python",
   "nbconvert_exporter": "python",
   "pygments_lexer": "ipython3",
   "version": "3.10.4"
  },
  "orig_nbformat": 4
 },
 "nbformat": 4,
 "nbformat_minor": 2
}
