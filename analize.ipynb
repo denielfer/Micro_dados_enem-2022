{
 "cells": [
  {
   "cell_type": "markdown",
   "metadata": {},
   "source": [
    "Caregando base de dados usado para analize e resposta das quetões"
   ]
  },
  {
   "cell_type": "code",
   "execution_count": 1,
   "metadata": {},
   "outputs": [],
   "source": [
    "import pandas as pd\n",
    "db = pd.read_csv('base_dados.csv', encoding=\"cp1252\")"
   ]
  },
  {
   "cell_type": "markdown",
   "metadata": {},
   "source": [
    "# Questao 2 #\n",
    "Quais são os tipos de dados dos atributos (cf slides da aula sobre dados) disponíveis na base?"
   ]
  },
  {
   "cell_type": "markdown",
   "metadata": {},
   "source": []
  },
  {
   "cell_type": "markdown",
   "metadata": {},
   "source": [
    "# Questao 3 #"
   ]
  },
  {
   "cell_type": "markdown",
   "metadata": {},
   "source": [
    "Quais são as cidades das escolas dos inscritos com dados disponíveis na base? "
   ]
  },
  {
   "cell_type": "markdown",
   "metadata": {},
   "source": [
    "R:Atravez da coluna \"NO_MUNICIPIO_ESC\" obetmos os nomes dos municipios das escolas, assim para obermos isso pegamos os valores unicos desta coluna"
   ]
  },
  {
   "cell_type": "code",
   "execution_count": 12,
   "metadata": {},
   "outputs": [
    {
     "data": {
      "text/plain": [
       "array([nan, 'Salvador', 'Una', 'Lauro de Freitas', 'Candeias',\n",
       "       'Mata de São João', 'Jaboatão dos Guararapes', 'Juazeiro',\n",
       "       'Eunápolis', 'Simões Filho', 'Madre de Deus', 'Apuarema',\n",
       "       'Vera Cruz', 'Planalto', 'Serrinha', 'Camamu', 'Itaberaba',\n",
       "       'Rio Verde', 'Remanso', 'Camaçari', 'Amargosa', 'Jequié',\n",
       "       'Porto Seguro', 'São Sebastião do Passé', 'Caém', 'Ibicoara',\n",
       "       'Cafarnaum', 'Pojuca', 'América Dourada', 'João Pessoa',\n",
       "       'Jaguaquara', 'Santa Inês', 'Barreiras', 'Itaparica', 'Rio Real',\n",
       "       'Feira de Santana', 'São Francisco do Conde', 'Serra Dourada',\n",
       "       'Presidente Tancredo Neves', 'Salinas da Margarida',\n",
       "       'Vitória da Conquista', 'Bom Jesus da Lapa', 'São Paulo',\n",
       "       'Palmas de Monte Alto', 'Teolândia', 'Ubaíra', 'Jaguarari',\n",
       "       'Castanhal', 'Chã de Alegria', 'Paragominas', 'Duque de Caxias',\n",
       "       'Tapiramutá', 'Itambé', 'Santa Bárbara', 'Santo Antônio de Jesus',\n",
       "       'Curitiba', 'Cotia', 'Jandaíra', 'Ouricuri', 'Rio de Janeiro',\n",
       "       'Natal', 'Cícero Dantas', 'Terra Nova', 'Fortaleza', 'Iramaia',\n",
       "       'Valença', 'Luís Eduardo Magalhães', 'Paulo Afonso', 'Serra Preta',\n",
       "       'Senhor do Bonfim', 'Jeremoabo', 'Aracaju', 'São José',\n",
       "       'Entre Rios', 'Teófilo Otoni', 'Santo Amaro', 'Maricá', 'Poções',\n",
       "       'Marituba', 'Barbacena', \"Dias d'Ávila\"], dtype=object)"
      ]
     },
     "execution_count": 12,
     "metadata": {},
     "output_type": "execute_result"
    }
   ],
   "source": [
    "db[\"NO_MUNICIPIO_ESC\"].unique()"
   ]
  },
  {
   "cell_type": "markdown",
   "metadata": {},
   "source": [
    "Quais são as cidades de aplicação de provas com dados disponíveis na base? "
   ]
  },
  {
   "cell_type": "markdown",
   "metadata": {},
   "source": [
    "Como a filtragem foi feita encima deste atributo sabesmos que tal cidade é Salvador, para confirma pegamos os valores unicos ta coluna \"NO_MUNICIPIO_PROVA\""
   ]
  },
  {
   "cell_type": "code",
   "execution_count": 13,
   "metadata": {},
   "outputs": [
    {
     "data": {
      "text/plain": [
       "array(['Salvador'], dtype=object)"
      ]
     },
     "execution_count": 13,
     "metadata": {},
     "output_type": "execute_result"
    }
   ],
   "source": [
    "db[\"NO_MUNICIPIO_PROVA\"].unique()"
   ]
  },
  {
   "cell_type": "markdown",
   "metadata": {},
   "source": [
    "Quantos candidatos há nas cidades das escolas e nas cidades de aplicação? Compare e discuta os resultados."
   ]
  },
  {
   "cell_type": "markdown",
   "metadata": {},
   "source": [
    "Para saber a quantidade de alunos por cidade pedimos um agrupamento da coluna \"NO_MUNICIPIO_ESC\" e fazemos a contagem de quantos balores temos. Para essa contagem foi usado o methodo count, e mostrado os valores da 1 coluna ( que neste caso guarda o index inicial do candidato nos microdados, assim sendo uma coluna que se tem certeza que não havera valores nulos para atrapalhar a contagem )\n",
    "\n",
    "Pode ser observado que existem 4 vezes mais candidados que não informaram do que que informaram."
   ]
  },
  {
   "cell_type": "code",
   "execution_count": 44,
   "metadata": {},
   "outputs": [
    {
     "name": "stdout",
     "output_type": "stream",
     "text": [
      "Candidados por Cidade das escolas:  {'Amargosa': 1, 'América Dourada': 1, 'Apuarema': 1, 'Aracaju': 1, 'Barbacena': 1, 'Barreiras': 2, 'Bom Jesus da Lapa': 1, 'Cafarnaum': 2, 'Camamu': 1, 'Camaçari': 22, 'Candeias': 2, 'Castanhal': 1, 'Caém': 1, 'Chã de Alegria': 1, 'Cotia': 1, 'Curitiba': 2, 'Cícero Dantas': 1, \"Dias d'Ávila\": 1, 'Duque de Caxias': 3, 'Entre Rios': 1, 'Eunápolis': 3, 'Feira de Santana': 3, 'Fortaleza': 1, 'Ibicoara': 1, 'Iramaia': 1, 'Itaberaba': 2, 'Itambé': 1, 'Itaparica': 2, 'Jaboatão dos Guararapes': 1, 'Jaguaquara': 1, 'Jaguarari': 1, 'Jandaíra': 1, 'Jequié': 2, 'Jeremoabo': 1, 'João Pessoa': 4, 'Juazeiro': 3, 'Lauro de Freitas': 72, 'Luís Eduardo Magalhães': 2, 'Madre de Deus': 8, 'Maricá': 1, 'Marituba': 1, 'Mata de São João': 11, 'Natal': 1, 'Ouricuri': 1, 'Palmas de Monte Alto': 1, 'Paragominas': 7, 'Paulo Afonso': 1, 'Planalto': 1, 'Pojuca': 1, 'Porto Seguro': 2, 'Poções': 1, 'Presidente Tancredo Neves': 1, 'Remanso': 1, 'Rio Real': 1, 'Rio Verde': 1, 'Rio de Janeiro': 2, 'Salinas da Margarida': 1, 'Salvador': 9772, 'Santa Bárbara': 3, 'Santa Inês': 1, 'Santo Amaro': 1, 'Santo Antônio de Jesus': 1, 'Senhor do Bonfim': 1, 'Serra Dourada': 1, 'Serra Preta': 1, 'Serrinha': 1, 'Simões Filho': 43, 'São Francisco do Conde': 1, 'São José': 1, 'São Paulo': 1, 'São Sebastião do Passé': 1, 'Tapiramutá': 1, 'Teolândia': 1, 'Terra Nova': 1, 'Teófilo Otoni': 1, 'Ubaíra': 1, 'Una': 1, 'Valença': 1, 'Vera Cruz': 2, 'Vitória da Conquista': 2}\n",
      "Quantidade de Candidados que temos informação da cidade da escola: 10033\n",
      "Quantidade de Candidatos que não temos informação da cidade da escola: 44571\n",
      "A quantidade de valores dos Candidatos que informaram e não informaram é a mesma quantidade de valores do dataframe original?  True\n"
     ]
    }
   ],
   "source": [
    "print(\"Candidados por Cidade das escolas: \",dict(db.groupby(\"NO_MUNICIPIO_ESC\").count().iloc[:,1]))\n",
    "print(\"Quantidade de Candidados que temos informação da cidade da escola:\",sum(list(db.groupby(\"NO_MUNICIPIO_ESC\").count().iloc[:,1])))\n",
    "print(\"Quantidade de Candidatos que não temos informação da cidade da escola:\",len(db[db.get(\"NO_MUNICIPIO_ESC\").isna()]))\n",
    "print(\"A quantidade de valores dos Candidatos que informaram e não informaram é a mesma quantidade de valores do dataframe original? \",db.iloc[:,1].count() == sum(list(db.groupby(\"NO_MUNICIPIO_ESC\").count().iloc[:,1]))+len(db[db.get(\"NO_MUNICIPIO_ESC\").isna()]))"
   ]
  },
  {
   "cell_type": "code",
   "execution_count": null,
   "metadata": {},
   "outputs": [],
   "source": []
  },
  {
   "cell_type": "markdown",
   "metadata": {},
   "source": [
    "Como o criterio escolhido foi a cidade de aplicação então sabemos que todos os candidatos realizaram em Salvador"
   ]
  },
  {
   "cell_type": "code",
   "execution_count": 45,
   "metadata": {},
   "outputs": [
    {
     "name": "stdout",
     "output_type": "stream",
     "text": [
      "Candidados por Cidade de aplicação:  {'Salvador': 54604}\n",
      "Quantidade de Candidados que temos informação da cidade de aplicação: 54604\n",
      "Quantidade de Candidatos que não temos informação da cidade de aplicação: 0\n"
     ]
    }
   ],
   "source": [
    "print(\"Candidados por Cidade de aplicação: \",dict(db.groupby(\"NO_MUNICIPIO_PROVA\").count().iloc[:,1]))\n",
    "print(\"Quantidade de Candidados que temos informação da cidade de aplicação:\",sum(list(db.groupby(\"NO_MUNICIPIO_PROVA\").count().iloc[:,1])))\n",
    "print(\"Quantidade de Candidatos que não temos informação da cidade de aplicação:\",len(db[db.get(\"NO_MUNICIPIO_PROVA\").isna()]))"
   ]
  },
  {
   "cell_type": "markdown",
   "metadata": {},
   "source": [
    "# Questao 4 #\n",
    "Escolha duas cidades das escolas. Para cada cidade, calcule a tendência central (média, mediana e/ou moda, conforme possibilidade) e desvio padrão de nota de redação para os inscritos. Que análise pode ser feita observando os valores obtidos?"
   ]
  },
  {
   "cell_type": "code",
   "execution_count": null,
   "metadata": {},
   "outputs": [],
   "source": []
  }
 ],
 "metadata": {
  "kernelspec": {
   "display_name": "env",
   "language": "python",
   "name": "python3"
  },
  "language_info": {
   "codemirror_mode": {
    "name": "ipython",
    "version": 3
   },
   "file_extension": ".py",
   "mimetype": "text/x-python",
   "name": "python",
   "nbconvert_exporter": "python",
   "pygments_lexer": "ipython3",
   "version": "3.10.4"
  },
  "orig_nbformat": 4
 },
 "nbformat": 4,
 "nbformat_minor": 2
}
