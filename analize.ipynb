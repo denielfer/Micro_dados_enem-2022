{
 "cells": [
  {
   "cell_type": "markdown",
   "metadata": {},
   "source": [
    "Caregando base de dados usado para analize e resposta das quetões"
   ]
  },
  {
   "cell_type": "code",
   "execution_count": 3,
   "metadata": {},
   "outputs": [],
   "source": [
    "import pandas as pd\n",
    "db = pd.read_csv('base_dados.csv', encoding=\"cp1252\")"
   ]
  },
  {
   "cell_type": "markdown",
   "metadata": {},
   "source": [
    "# Questao 2 #\n",
    "Quais são os tipos de dados dos atributos (cf slides da aula sobre dados) disponíveis na base?"
   ]
  },
  {
   "cell_type": "markdown",
   "metadata": {},
   "source": []
  },
  {
   "cell_type": "markdown",
   "metadata": {},
   "source": [
    "# Questao 3 #"
   ]
  },
  {
   "cell_type": "markdown",
   "metadata": {},
   "source": [
    "Quais são as cidades das escolas dos inscritos com dados disponíveis na base? "
   ]
  },
  {
   "cell_type": "markdown",
   "metadata": {},
   "source": [
    "R:Atravez da coluna \"NO_MUNICIPIO_ESC\" obetmos os nomes dos municipios das escolas, assim para obermos isso pegamos os valores unicos desta coluna"
   ]
  },
  {
   "cell_type": "code",
   "execution_count": 12,
   "metadata": {},
   "outputs": [
    {
     "data": {
      "text/plain": [
       "array([nan, 'Salvador', 'Una', 'Lauro de Freitas', 'Candeias',\n",
       "       'Mata de São João', 'Jaboatão dos Guararapes', 'Juazeiro',\n",
       "       'Eunápolis', 'Simões Filho', 'Madre de Deus', 'Apuarema',\n",
       "       'Vera Cruz', 'Planalto', 'Serrinha', 'Camamu', 'Itaberaba',\n",
       "       'Rio Verde', 'Remanso', 'Camaçari', 'Amargosa', 'Jequié',\n",
       "       'Porto Seguro', 'São Sebastião do Passé', 'Caém', 'Ibicoara',\n",
       "       'Cafarnaum', 'Pojuca', 'América Dourada', 'João Pessoa',\n",
       "       'Jaguaquara', 'Santa Inês', 'Barreiras', 'Itaparica', 'Rio Real',\n",
       "       'Feira de Santana', 'São Francisco do Conde', 'Serra Dourada',\n",
       "       'Presidente Tancredo Neves', 'Salinas da Margarida',\n",
       "       'Vitória da Conquista', 'Bom Jesus da Lapa', 'São Paulo',\n",
       "       'Palmas de Monte Alto', 'Teolândia', 'Ubaíra', 'Jaguarari',\n",
       "       'Castanhal', 'Chã de Alegria', 'Paragominas', 'Duque de Caxias',\n",
       "       'Tapiramutá', 'Itambé', 'Santa Bárbara', 'Santo Antônio de Jesus',\n",
       "       'Curitiba', 'Cotia', 'Jandaíra', 'Ouricuri', 'Rio de Janeiro',\n",
       "       'Natal', 'Cícero Dantas', 'Terra Nova', 'Fortaleza', 'Iramaia',\n",
       "       'Valença', 'Luís Eduardo Magalhães', 'Paulo Afonso', 'Serra Preta',\n",
       "       'Senhor do Bonfim', 'Jeremoabo', 'Aracaju', 'São José',\n",
       "       'Entre Rios', 'Teófilo Otoni', 'Santo Amaro', 'Maricá', 'Poções',\n",
       "       'Marituba', 'Barbacena', \"Dias d'Ávila\"], dtype=object)"
      ]
     },
     "execution_count": 12,
     "metadata": {},
     "output_type": "execute_result"
    }
   ],
   "source": [
    "db[\"NO_MUNICIPIO_ESC\"].unique()"
   ]
  },
  {
   "cell_type": "markdown",
   "metadata": {},
   "source": [
    "Quais são as cidades de aplicação de provas com dados disponíveis na base? "
   ]
  },
  {
   "cell_type": "markdown",
   "metadata": {},
   "source": [
    "Como a filtragem foi feita encima deste atributo sabesmos que tal cidade é Salvador, para confirma pegamos os valores unicos ta coluna \"NO_MUNICIPIO_PROVA\""
   ]
  },
  {
   "cell_type": "code",
   "execution_count": 13,
   "metadata": {},
   "outputs": [
    {
     "data": {
      "text/plain": [
       "array(['Salvador'], dtype=object)"
      ]
     },
     "execution_count": 13,
     "metadata": {},
     "output_type": "execute_result"
    }
   ],
   "source": [
    "db[\"NO_MUNICIPIO_PROVA\"].unique()"
   ]
  },
  {
   "cell_type": "markdown",
   "metadata": {},
   "source": [
    "Quantos candidatos há nas cidades das escolas e nas cidades de aplicação? Compare e discuta os resultados."
   ]
  },
  {
   "cell_type": "markdown",
   "metadata": {},
   "source": [
    "Para saber a quantidade de alunos por cidade pedimos um agrupamento da coluna \"NO_MUNICIPIO_ESC\" e fazemos a contagem de quantos balores temos. Para essa contagem foi usado o methodo count, e mostrado os valores da 1 coluna ( que neste caso guarda o index inicial do candidato nos microdados, assim sendo uma coluna que se tem certeza que não havera valores nulos para atrapalhar a contagem )\n",
    "\n",
    "Pode ser observado que existem 4 vezes mais candidados que não informaram do que que informaram."
   ]
  },
  {
   "cell_type": "code",
   "execution_count": 44,
   "metadata": {},
   "outputs": [
    {
     "name": "stdout",
     "output_type": "stream",
     "text": [
      "Candidados por Cidade das escolas:  {'Amargosa': 1, 'América Dourada': 1, 'Apuarema': 1, 'Aracaju': 1, 'Barbacena': 1, 'Barreiras': 2, 'Bom Jesus da Lapa': 1, 'Cafarnaum': 2, 'Camamu': 1, 'Camaçari': 22, 'Candeias': 2, 'Castanhal': 1, 'Caém': 1, 'Chã de Alegria': 1, 'Cotia': 1, 'Curitiba': 2, 'Cícero Dantas': 1, \"Dias d'Ávila\": 1, 'Duque de Caxias': 3, 'Entre Rios': 1, 'Eunápolis': 3, 'Feira de Santana': 3, 'Fortaleza': 1, 'Ibicoara': 1, 'Iramaia': 1, 'Itaberaba': 2, 'Itambé': 1, 'Itaparica': 2, 'Jaboatão dos Guararapes': 1, 'Jaguaquara': 1, 'Jaguarari': 1, 'Jandaíra': 1, 'Jequié': 2, 'Jeremoabo': 1, 'João Pessoa': 4, 'Juazeiro': 3, 'Lauro de Freitas': 72, 'Luís Eduardo Magalhães': 2, 'Madre de Deus': 8, 'Maricá': 1, 'Marituba': 1, 'Mata de São João': 11, 'Natal': 1, 'Ouricuri': 1, 'Palmas de Monte Alto': 1, 'Paragominas': 7, 'Paulo Afonso': 1, 'Planalto': 1, 'Pojuca': 1, 'Porto Seguro': 2, 'Poções': 1, 'Presidente Tancredo Neves': 1, 'Remanso': 1, 'Rio Real': 1, 'Rio Verde': 1, 'Rio de Janeiro': 2, 'Salinas da Margarida': 1, 'Salvador': 9772, 'Santa Bárbara': 3, 'Santa Inês': 1, 'Santo Amaro': 1, 'Santo Antônio de Jesus': 1, 'Senhor do Bonfim': 1, 'Serra Dourada': 1, 'Serra Preta': 1, 'Serrinha': 1, 'Simões Filho': 43, 'São Francisco do Conde': 1, 'São José': 1, 'São Paulo': 1, 'São Sebastião do Passé': 1, 'Tapiramutá': 1, 'Teolândia': 1, 'Terra Nova': 1, 'Teófilo Otoni': 1, 'Ubaíra': 1, 'Una': 1, 'Valença': 1, 'Vera Cruz': 2, 'Vitória da Conquista': 2}\n",
      "Quantidade de Candidados que temos informação da cidade da escola: 10033\n",
      "Quantidade de Candidatos que não temos informação da cidade da escola: 44571\n",
      "A quantidade de valores dos Candidatos que informaram e não informaram é a mesma quantidade de valores do dataframe original?  True\n"
     ]
    }
   ],
   "source": [
    "print(\"Candidados por Cidade das escolas: \",dict(db.groupby(\"NO_MUNICIPIO_ESC\").count().iloc[:,1]))\n",
    "print(\"Quantidade de Candidados que temos informação da cidade da escola:\",sum(list(db.groupby(\"NO_MUNICIPIO_ESC\").count().iloc[:,1])))\n",
    "print(\"Quantidade de Candidatos que não temos informação da cidade da escola:\",len(db[db.get(\"NO_MUNICIPIO_ESC\").isna()]))\n",
    "print(\"A quantidade de valores dos Candidatos que informaram e não informaram é a mesma quantidade de valores do dataframe original? \",db.iloc[:,1].count() == sum(list(db.groupby(\"NO_MUNICIPIO_ESC\").count().iloc[:,1]))+len(db[db.get(\"NO_MUNICIPIO_ESC\").isna()]))"
   ]
  },
  {
   "cell_type": "markdown",
   "metadata": {},
   "source": [
    "Como o criterio escolhido foi a cidade de aplicação então sabemos que todos os candidatos realizaram em Salvador"
   ]
  },
  {
   "cell_type": "code",
   "execution_count": 45,
   "metadata": {},
   "outputs": [
    {
     "name": "stdout",
     "output_type": "stream",
     "text": [
      "Candidados por Cidade de aplicação:  {'Salvador': 54604}\n",
      "Quantidade de Candidados que temos informação da cidade de aplicação: 54604\n",
      "Quantidade de Candidatos que não temos informação da cidade de aplicação: 0\n"
     ]
    }
   ],
   "source": [
    "print(\"Candidados por Cidade de aplicação: \",dict(db.groupby(\"NO_MUNICIPIO_PROVA\").count().iloc[:,1]))\n",
    "print(\"Quantidade de Candidados que temos informação da cidade de aplicação:\",sum(list(db.groupby(\"NO_MUNICIPIO_PROVA\").count().iloc[:,1])))\n",
    "print(\"Quantidade de Candidatos que não temos informação da cidade de aplicação:\",len(db[db.get(\"NO_MUNICIPIO_PROVA\").isna()]))"
   ]
  },
  {
   "cell_type": "markdown",
   "metadata": {},
   "source": [
    "# Questao 4 #\n",
    "Escolha duas cidades das escolas. Para cada cidade, calcule a tendência central (média, mediana e/ou moda, conforme possibilidade) e desvio padrão de nota de redação para os inscritos. Que análise pode ser feita observando os valores obtidos?"
   ]
  },
  {
   "cell_type": "markdown",
   "metadata": {},
   "source": [
    "Para escolher a escola filtramos as cidades e notas da redação, removemos as que tem valor vazio ( tando de cidade quanto de nota ) e vemos quantos valor temos por cidade. Assim escolhemos Salvador e Lauro de Freitas que são as 2 cidades com maior numero de candidados."
   ]
  },
  {
   "cell_type": "code",
   "execution_count": 74,
   "metadata": {},
   "outputs": [
    {
     "data": {
      "text/plain": [
       "NO_MUNICIPIO_ESC\n",
       "Salvador            8131\n",
       "Lauro de Freitas      48\n",
       "Simões Filho          33\n",
       "Camaçari              16\n",
       "Mata de São João       7\n",
       "Name: count, dtype: int64"
      ]
     },
     "execution_count": 74,
     "metadata": {},
     "output_type": "execute_result"
    }
   ],
   "source": [
    "db.get(['NO_MUNICIPIO_ESC','NU_NOTA_REDACAO']).dropna().NO_MUNICIPIO_ESC.value_counts()[:5]"
   ]
  },
  {
   "cell_type": "code",
   "execution_count": 6,
   "metadata": {},
   "outputs": [
    {
     "data": {
      "text/html": [
       "<div>\n",
       "<style scoped>\n",
       "    .dataframe tbody tr th:only-of-type {\n",
       "        vertical-align: middle;\n",
       "    }\n",
       "\n",
       "    .dataframe tbody tr th {\n",
       "        vertical-align: top;\n",
       "    }\n",
       "\n",
       "    .dataframe thead th {\n",
       "        text-align: right;\n",
       "    }\n",
       "</style>\n",
       "<table border=\"1\" class=\"dataframe\">\n",
       "  <thead>\n",
       "    <tr style=\"text-align: right;\">\n",
       "      <th></th>\n",
       "      <th>NU_NOTA_REDACAO</th>\n",
       "    </tr>\n",
       "  </thead>\n",
       "  <tbody>\n",
       "    <tr>\n",
       "      <th>count</th>\n",
       "      <td>8131.000000</td>\n",
       "    </tr>\n",
       "    <tr>\n",
       "      <th>mean</th>\n",
       "      <td>666.525643</td>\n",
       "    </tr>\n",
       "    <tr>\n",
       "      <th>std</th>\n",
       "      <td>205.890067</td>\n",
       "    </tr>\n",
       "    <tr>\n",
       "      <th>min</th>\n",
       "      <td>0.000000</td>\n",
       "    </tr>\n",
       "    <tr>\n",
       "      <th>25%</th>\n",
       "      <td>560.000000</td>\n",
       "    </tr>\n",
       "    <tr>\n",
       "      <th>50%</th>\n",
       "      <td>700.000000</td>\n",
       "    </tr>\n",
       "    <tr>\n",
       "      <th>75%</th>\n",
       "      <td>820.000000</td>\n",
       "    </tr>\n",
       "    <tr>\n",
       "      <th>max</th>\n",
       "      <td>980.000000</td>\n",
       "    </tr>\n",
       "  </tbody>\n",
       "</table>\n",
       "</div>"
      ],
      "text/plain": [
       "       NU_NOTA_REDACAO\n",
       "count      8131.000000\n",
       "mean        666.525643\n",
       "std         205.890067\n",
       "min           0.000000\n",
       "25%         560.000000\n",
       "50%         700.000000\n",
       "75%         820.000000\n",
       "max         980.000000"
      ]
     },
     "metadata": {},
     "output_type": "display_data"
    },
    {
     "data": {
      "text/html": [
       "<div>\n",
       "<style scoped>\n",
       "    .dataframe tbody tr th:only-of-type {\n",
       "        vertical-align: middle;\n",
       "    }\n",
       "\n",
       "    .dataframe tbody tr th {\n",
       "        vertical-align: top;\n",
       "    }\n",
       "\n",
       "    .dataframe thead th {\n",
       "        text-align: right;\n",
       "    }\n",
       "</style>\n",
       "<table border=\"1\" class=\"dataframe\">\n",
       "  <thead>\n",
       "    <tr style=\"text-align: right;\">\n",
       "      <th></th>\n",
       "      <th>NU_NOTA_REDACAO</th>\n",
       "    </tr>\n",
       "  </thead>\n",
       "  <tbody>\n",
       "    <tr>\n",
       "      <th>count</th>\n",
       "      <td>48.000000</td>\n",
       "    </tr>\n",
       "    <tr>\n",
       "      <th>mean</th>\n",
       "      <td>710.833333</td>\n",
       "    </tr>\n",
       "    <tr>\n",
       "      <th>std</th>\n",
       "      <td>214.494292</td>\n",
       "    </tr>\n",
       "    <tr>\n",
       "      <th>min</th>\n",
       "      <td>0.000000</td>\n",
       "    </tr>\n",
       "    <tr>\n",
       "      <th>25%</th>\n",
       "      <td>665.000000</td>\n",
       "    </tr>\n",
       "    <tr>\n",
       "      <th>50%</th>\n",
       "      <td>770.000000</td>\n",
       "    </tr>\n",
       "    <tr>\n",
       "      <th>75%</th>\n",
       "      <td>860.000000</td>\n",
       "    </tr>\n",
       "    <tr>\n",
       "      <th>max</th>\n",
       "      <td>940.000000</td>\n",
       "    </tr>\n",
       "  </tbody>\n",
       "</table>\n",
       "</div>"
      ],
      "text/plain": [
       "       NU_NOTA_REDACAO\n",
       "count        48.000000\n",
       "mean        710.833333\n",
       "std         214.494292\n",
       "min           0.000000\n",
       "25%         665.000000\n",
       "50%         770.000000\n",
       "75%         860.000000\n",
       "max         940.000000"
      ]
     },
     "metadata": {},
     "output_type": "display_data"
    },
    {
     "name": "stdout",
     "output_type": "stream",
     "text": [
      "moda salvador: (880.0,)\n",
      "moda lauro de freitas: (820.0,)\n"
     ]
    }
   ],
   "source": [
    "nota_redação_salvador = db[db[\"NO_MUNICIPIO_ESC\"] == \"Salvador\"].get([\"NU_NOTA_REDACAO\"])\n",
    "nota_redação_lauro = db[db[\"NO_MUNICIPIO_ESC\"] == \"Lauro de Freitas\"].get([\"NU_NOTA_REDACAO\"])\n",
    "display(nota_redação_salvador.describe(),\n",
    "        nota_redação_lauro.describe())\n",
    "print(f'moda salvador: {nota_redação_salvador.value_counts().index[0]}',\n",
    "      f'moda lauro de freitas: {nota_redação_lauro.value_counts().index[0]}', sep = '\\n')"
   ]
  },
  {
   "cell_type": "code",
   "execution_count": 26,
   "metadata": {},
   "outputs": [
    {
     "name": "stdout",
     "output_type": "stream",
     "text": [
      "Coeficiente de variação:\n",
      "Salvador:30.175\n",
      "Lauro de Freitas:30.175\n"
     ]
    }
   ],
   "source": [
    "cv_salvador = (nota_redação_lauro.std()/nota_redação_lauro.mean()).iloc[0]\n",
    "cv_lauro = (nota_redação_lauro.std()/nota_redação_lauro.mean()).iloc[0]\n",
    "print(f'Coeficiente de variação:\\nSalvador:{cv_salvador*100:.05}\\nLauro de Freitas:{cv_lauro*100:.05}')"
   ]
  },
  {
   "cell_type": "code",
   "execution_count": 34,
   "metadata": {},
   "outputs": [
    {
     "data": {
      "text/plain": [
       "array([[<Axes: title={'center': 'NU_NOTA_REDACAO'}>]], dtype=object)"
      ]
     },
     "execution_count": 34,
     "metadata": {},
     "output_type": "execute_result"
    },
    {
     "data": {
      "image/png": "[encoded data removed]",
      "text/plain": [
       "<Figure size 640x480 with 1 Axes>"
      ]
     },
     "metadata": {},
     "output_type": "display_data"
    }
   ],
   "source": [
    "nota_redação_salvador.hist(bins=10)"
   ]
  },
  {
   "cell_type": "code",
   "execution_count": 33,
   "metadata": {},
   "outputs": [
    {
     "data": {
      "text/plain": [
       "array([[<Axes: title={'center': 'NU_NOTA_REDACAO'}>]], dtype=object)"
      ]
     },
     "execution_count": 33,
     "metadata": {},
     "output_type": "execute_result"
    },
    {
     "data": {
      "image/png": "[encoded data removed]",
      "text/plain": [
       "<Figure size 640x480 with 1 Axes>"
      ]
     },
     "metadata": {},
     "output_type": "display_data"
    }
   ],
   "source": [
    "nota_redação_lauro.hist(bins=10)"
   ]
  },
  {
   "cell_type": "markdown",
   "metadata": {},
   "source": [
    "Percebemos que apesar de todos os quartils e media da nota da redação dos canditos que estudaram em Lauro de Freitas ser maior que os de Salvador tanto a moda quando a nota maxima são maiores em salvador \n",
    "\n",
    "Ambas são distribuições assimetricas positivas ou a direita, uma vez que a moda é maior que a mediana ( 50% ou 2 quartil ), que por sua vez é maior que a media\n",
    "\n",
    "E apesar da media e desvio padrao ser diferentes ambos possuem o mesmo coeficiente de variação"
   ]
  },
  {
   "cell_type": "markdown",
   "metadata": {},
   "source": [
    "# Questao 5 #\n",
    "Escolha uma cidade de escola, faça histogramas sobrepostos da nota de redação dos inscritos por sexo biológico. Faça o mesmo para nota de matemática. O que você observa? Comente.\n"
   ]
  },
  {
   "cell_type": "code",
   "execution_count": 19,
   "metadata": {},
   "outputs": [
    {
     "name": "stdout",
     "output_type": "stream",
     "text": [
      "Histograma para sexo M\n",
      "[ nan  nan  nan ...  nan 760. 600.]\n"
     ]
    },
    {
     "ename": "KeyError",
     "evalue": "620.0",
     "output_type": "error",
     "traceback": [
      "\u001b[0;31m---------------------------------------------------------------------------\u001b[0m",
      "\u001b[0;31mKeyError\u001b[0m                                  Traceback (most recent call last)",
      "\u001b[1;32m/home/joaorios/Projects/Micro_dados_enem-2022/analize.ipynb Cell 26\u001b[0m line \u001b[0;36m8\n\u001b[1;32m      <a href='vscode-notebook-cell:/home/joaorios/Projects/Micro_dados_enem-2022/analize.ipynb#X34sZmlsZQ%3D%3D?line=5'>6</a>\u001b[0m         db_temp \u001b[39m=\u001b[39m db[db[\u001b[39m'\u001b[39m\u001b[39mTP_SEXO\u001b[39m\u001b[39m'\u001b[39m] \u001b[39m==\u001b[39m a]\u001b[39m.\u001b[39mget(b)\n\u001b[1;32m      <a href='vscode-notebook-cell:/home/joaorios/Projects/Micro_dados_enem-2022/analize.ipynb#X34sZmlsZQ%3D%3D?line=6'>7</a>\u001b[0m         \u001b[39mprint\u001b[39m(db_temp\u001b[39m.\u001b[39mvalues)\n\u001b[0;32m----> <a href='vscode-notebook-cell:/home/joaorios/Projects/Micro_dados_enem-2022/analize.ipynb#X34sZmlsZQ%3D%3D?line=7'>8</a>\u001b[0m         plt\u001b[39m.\u001b[39;49mhist(\u001b[39mlist\u001b[39;49m(db_temp\u001b[39m.\u001b[39;49mdropna()\u001b[39m.\u001b[39;49mvalues), bins\u001b[39m=\u001b[39;49m\u001b[39m100\u001b[39;49m)\n\u001b[1;32m      <a href='vscode-notebook-cell:/home/joaorios/Projects/Micro_dados_enem-2022/analize.ipynb#X34sZmlsZQ%3D%3D?line=8'>9</a>\u001b[0m plt\u001b[39m.\u001b[39mshow()\n",
      "File \u001b[0;32m~/Projects/Micro_dados_enem-2022/env/lib/python3.10/site-packages/pandas/plotting/_core.py:1412\u001b[0m, in \u001b[0;36mPlotAccessor.hist\u001b[0;34m(self, by, bins, **kwargs)\u001b[0m\n\u001b[1;32m   1350\u001b[0m \u001b[39mdef\u001b[39;00m \u001b[39mhist\u001b[39m(\n\u001b[1;32m   1351\u001b[0m     \u001b[39mself\u001b[39m, by: IndexLabel \u001b[39m|\u001b[39m \u001b[39mNone\u001b[39;00m \u001b[39m=\u001b[39m \u001b[39mNone\u001b[39;00m, bins: \u001b[39mint\u001b[39m \u001b[39m=\u001b[39m \u001b[39m10\u001b[39m, \u001b[39m*\u001b[39m\u001b[39m*\u001b[39mkwargs\n\u001b[1;32m   1352\u001b[0m ) \u001b[39m-\u001b[39m\u001b[39m>\u001b[39m PlotAccessor:\n\u001b[1;32m   1353\u001b[0m \u001b[39m    \u001b[39m\u001b[39m\"\"\"\u001b[39;00m\n\u001b[1;32m   1354\u001b[0m \u001b[39m    Draw one histogram of the DataFrame's columns.\u001b[39;00m\n\u001b[1;32m   1355\u001b[0m \n\u001b[0;32m   (...)\u001b[0m\n\u001b[1;32m   1410\u001b[0m \u001b[39m        >>> ax = df.plot.hist(column=[\"age\"], by=\"gender\", figsize=(10, 8))\u001b[39;00m\n\u001b[1;32m   1411\u001b[0m \u001b[39m    \"\"\"\u001b[39;00m\n\u001b[0;32m-> 1412\u001b[0m     \u001b[39mreturn\u001b[39;00m \u001b[39mself\u001b[39;49m(kind\u001b[39m=\u001b[39;49m\u001b[39m\"\u001b[39;49m\u001b[39mhist\u001b[39;49m\u001b[39m\"\u001b[39;49m, by\u001b[39m=\u001b[39;49mby, bins\u001b[39m=\u001b[39;49mbins, \u001b[39m*\u001b[39;49m\u001b[39m*\u001b[39;49mkwargs)\n",
      "File \u001b[0;32m~/Projects/Micro_dados_enem-2022/env/lib/python3.10/site-packages/pandas/plotting/_core.py:1031\u001b[0m, in \u001b[0;36mPlotAccessor.__call__\u001b[0;34m(self, *args, **kwargs)\u001b[0m\n\u001b[1;32m   1028\u001b[0m             label_name \u001b[39m=\u001b[39m label_kw \u001b[39mor\u001b[39;00m data\u001b[39m.\u001b[39mcolumns\n\u001b[1;32m   1029\u001b[0m             data\u001b[39m.\u001b[39mcolumns \u001b[39m=\u001b[39m label_name\n\u001b[0;32m-> 1031\u001b[0m \u001b[39mreturn\u001b[39;00m plot_backend\u001b[39m.\u001b[39;49mplot(data, kind\u001b[39m=\u001b[39;49mkind, \u001b[39m*\u001b[39;49m\u001b[39m*\u001b[39;49mkwargs)\n",
      "File \u001b[0;32m~/Projects/Micro_dados_enem-2022/env/lib/python3.10/site-packages/pandas/plotting/_matplotlib/__init__.py:70\u001b[0m, in \u001b[0;36mplot\u001b[0;34m(data, kind, **kwargs)\u001b[0m\n\u001b[1;32m     68\u001b[0m             ax \u001b[39m=\u001b[39m plt\u001b[39m.\u001b[39mgca()\n\u001b[1;32m     69\u001b[0m         kwargs[\u001b[39m\"\u001b[39m\u001b[39max\u001b[39m\u001b[39m\"\u001b[39m] \u001b[39m=\u001b[39m \u001b[39mgetattr\u001b[39m(ax, \u001b[39m\"\u001b[39m\u001b[39mleft_ax\u001b[39m\u001b[39m\"\u001b[39m, ax)\n\u001b[0;32m---> 70\u001b[0m plot_obj \u001b[39m=\u001b[39m PLOT_CLASSES[kind](data, \u001b[39m*\u001b[39;49m\u001b[39m*\u001b[39;49mkwargs)\n\u001b[1;32m     71\u001b[0m plot_obj\u001b[39m.\u001b[39mgenerate()\n\u001b[1;32m     72\u001b[0m plot_obj\u001b[39m.\u001b[39mdraw()\n",
      "File \u001b[0;32m~/Projects/Micro_dados_enem-2022/env/lib/python3.10/site-packages/pandas/plotting/_matplotlib/hist.py:65\u001b[0m, in \u001b[0;36mHistPlot.__init__\u001b[0;34m(self, data, bins, bottom, **kwargs)\u001b[0m\n\u001b[1;32m     63\u001b[0m \u001b[39mself\u001b[39m\u001b[39m.\u001b[39mylabel \u001b[39m=\u001b[39m kwargs\u001b[39m.\u001b[39mget(\u001b[39m\"\u001b[39m\u001b[39mylabel\u001b[39m\u001b[39m\"\u001b[39m)\n\u001b[1;32m     64\u001b[0m \u001b[39m# Do not call LinePlot.__init__ which may fill nan\u001b[39;00m\n\u001b[0;32m---> 65\u001b[0m MPLPlot\u001b[39m.\u001b[39;49m\u001b[39m__init__\u001b[39;49m(\u001b[39mself\u001b[39;49m, data, \u001b[39m*\u001b[39;49m\u001b[39m*\u001b[39;49mkwargs)\n",
      "File \u001b[0;32m~/Projects/Micro_dados_enem-2022/env/lib/python3.10/site-packages/pandas/plotting/_matplotlib/core.py:186\u001b[0m, in \u001b[0;36mMPLPlot.__init__\u001b[0;34m(self, data, kind, by, subplots, sharex, sharey, use_index, figsize, grid, legend, rot, ax, fig, title, xlim, ylim, xticks, yticks, xlabel, ylabel, fontsize, secondary_y, colormap, table, layout, include_bool, column, **kwds)\u001b[0m\n\u001b[1;32m    183\u001b[0m \u001b[39m# For `hist` plot, need to get grouped original data before `self.data` is\u001b[39;00m\n\u001b[1;32m    184\u001b[0m \u001b[39m# updated later\u001b[39;00m\n\u001b[1;32m    185\u001b[0m \u001b[39mif\u001b[39;00m \u001b[39mself\u001b[39m\u001b[39m.\u001b[39mby \u001b[39mis\u001b[39;00m \u001b[39mnot\u001b[39;00m \u001b[39mNone\u001b[39;00m \u001b[39mand\u001b[39;00m \u001b[39mself\u001b[39m\u001b[39m.\u001b[39m_kind \u001b[39m==\u001b[39m \u001b[39m\"\u001b[39m\u001b[39mhist\u001b[39m\u001b[39m\"\u001b[39m:\n\u001b[0;32m--> 186\u001b[0m     \u001b[39mself\u001b[39m\u001b[39m.\u001b[39m_grouped \u001b[39m=\u001b[39m data\u001b[39m.\u001b[39;49mgroupby(unpack_single_str_list(\u001b[39mself\u001b[39;49m\u001b[39m.\u001b[39;49mby))\n\u001b[1;32m    188\u001b[0m \u001b[39mself\u001b[39m\u001b[39m.\u001b[39mkind \u001b[39m=\u001b[39m kind\n\u001b[1;32m    190\u001b[0m \u001b[39mself\u001b[39m\u001b[39m.\u001b[39msubplots \u001b[39m=\u001b[39m \u001b[39mself\u001b[39m\u001b[39m.\u001b[39m_validate_subplots_kwarg(subplots)\n",
      "File \u001b[0;32m~/Projects/Micro_dados_enem-2022/env/lib/python3.10/site-packages/pandas/core/frame.py:8872\u001b[0m, in \u001b[0;36mDataFrame.groupby\u001b[0;34m(self, by, axis, level, as_index, sort, group_keys, observed, dropna)\u001b[0m\n\u001b[1;32m   8869\u001b[0m \u001b[39mif\u001b[39;00m level \u001b[39mis\u001b[39;00m \u001b[39mNone\u001b[39;00m \u001b[39mand\u001b[39;00m by \u001b[39mis\u001b[39;00m \u001b[39mNone\u001b[39;00m:\n\u001b[1;32m   8870\u001b[0m     \u001b[39mraise\u001b[39;00m \u001b[39mTypeError\u001b[39;00m(\u001b[39m\"\u001b[39m\u001b[39mYou have to supply one of \u001b[39m\u001b[39m'\u001b[39m\u001b[39mby\u001b[39m\u001b[39m'\u001b[39m\u001b[39m and \u001b[39m\u001b[39m'\u001b[39m\u001b[39mlevel\u001b[39m\u001b[39m'\u001b[39m\u001b[39m\"\u001b[39m)\n\u001b[0;32m-> 8872\u001b[0m \u001b[39mreturn\u001b[39;00m DataFrameGroupBy(\n\u001b[1;32m   8873\u001b[0m     obj\u001b[39m=\u001b[39;49m\u001b[39mself\u001b[39;49m,\n\u001b[1;32m   8874\u001b[0m     keys\u001b[39m=\u001b[39;49mby,\n\u001b[1;32m   8875\u001b[0m     axis\u001b[39m=\u001b[39;49maxis,\n\u001b[1;32m   8876\u001b[0m     level\u001b[39m=\u001b[39;49mlevel,\n\u001b[1;32m   8877\u001b[0m     as_index\u001b[39m=\u001b[39;49mas_index,\n\u001b[1;32m   8878\u001b[0m     sort\u001b[39m=\u001b[39;49msort,\n\u001b[1;32m   8879\u001b[0m     group_keys\u001b[39m=\u001b[39;49mgroup_keys,\n\u001b[1;32m   8880\u001b[0m     observed\u001b[39m=\u001b[39;49mobserved,\n\u001b[1;32m   8881\u001b[0m     dropna\u001b[39m=\u001b[39;49mdropna,\n\u001b[1;32m   8882\u001b[0m )\n",
      "File \u001b[0;32m~/Projects/Micro_dados_enem-2022/env/lib/python3.10/site-packages/pandas/core/groupby/groupby.py:1273\u001b[0m, in \u001b[0;36mGroupBy.__init__\u001b[0;34m(self, obj, keys, axis, level, grouper, exclusions, selection, as_index, sort, group_keys, observed, dropna)\u001b[0m\n\u001b[1;32m   1270\u001b[0m \u001b[39mself\u001b[39m\u001b[39m.\u001b[39mdropna \u001b[39m=\u001b[39m dropna\n\u001b[1;32m   1272\u001b[0m \u001b[39mif\u001b[39;00m grouper \u001b[39mis\u001b[39;00m \u001b[39mNone\u001b[39;00m:\n\u001b[0;32m-> 1273\u001b[0m     grouper, exclusions, obj \u001b[39m=\u001b[39m get_grouper(\n\u001b[1;32m   1274\u001b[0m         obj,\n\u001b[1;32m   1275\u001b[0m         keys,\n\u001b[1;32m   1276\u001b[0m         axis\u001b[39m=\u001b[39;49maxis,\n\u001b[1;32m   1277\u001b[0m         level\u001b[39m=\u001b[39;49mlevel,\n\u001b[1;32m   1278\u001b[0m         sort\u001b[39m=\u001b[39;49msort,\n\u001b[1;32m   1279\u001b[0m         observed\u001b[39m=\u001b[39;49m\u001b[39mFalse\u001b[39;49;00m \u001b[39mif\u001b[39;49;00m observed \u001b[39mis\u001b[39;49;00m lib\u001b[39m.\u001b[39;49mno_default \u001b[39melse\u001b[39;49;00m observed,\n\u001b[1;32m   1280\u001b[0m         dropna\u001b[39m=\u001b[39;49m\u001b[39mself\u001b[39;49m\u001b[39m.\u001b[39;49mdropna,\n\u001b[1;32m   1281\u001b[0m     )\n\u001b[1;32m   1283\u001b[0m \u001b[39mif\u001b[39;00m observed \u001b[39mis\u001b[39;00m lib\u001b[39m.\u001b[39mno_default:\n\u001b[1;32m   1284\u001b[0m     \u001b[39mif\u001b[39;00m \u001b[39many\u001b[39m(ping\u001b[39m.\u001b[39m_passed_categorical \u001b[39mfor\u001b[39;00m ping \u001b[39min\u001b[39;00m grouper\u001b[39m.\u001b[39mgroupings):\n",
      "File \u001b[0;32m~/Projects/Micro_dados_enem-2022/env/lib/python3.10/site-packages/pandas/core/groupby/grouper.py:1009\u001b[0m, in \u001b[0;36mget_grouper\u001b[0;34m(obj, key, axis, level, sort, observed, validate, dropna)\u001b[0m\n\u001b[1;32m   1007\u001b[0m         in_axis, level, gpr \u001b[39m=\u001b[39m \u001b[39mFalse\u001b[39;00m, gpr, \u001b[39mNone\u001b[39;00m\n\u001b[1;32m   1008\u001b[0m     \u001b[39melse\u001b[39;00m:\n\u001b[0;32m-> 1009\u001b[0m         \u001b[39mraise\u001b[39;00m \u001b[39mKeyError\u001b[39;00m(gpr)\n\u001b[1;32m   1010\u001b[0m \u001b[39melif\u001b[39;00m \u001b[39misinstance\u001b[39m(gpr, Grouper) \u001b[39mand\u001b[39;00m gpr\u001b[39m.\u001b[39mkey \u001b[39mis\u001b[39;00m \u001b[39mnot\u001b[39;00m \u001b[39mNone\u001b[39;00m:\n\u001b[1;32m   1011\u001b[0m     \u001b[39m# Add key to exclusions\u001b[39;00m\n\u001b[1;32m   1012\u001b[0m     exclusions\u001b[39m.\u001b[39madd(gpr\u001b[39m.\u001b[39mkey)\n",
      "\u001b[0;31mKeyError\u001b[0m: 620.0"
     ]
    }
   ],
   "source": [
    "db.columns\n",
    "plt = db.plot\n",
    "for b in ['NU_NOTA_REDACAO','NU_NOTA_MT']:\n",
    "    for a in db.TP_SEXO.unique():\n",
    "        print(f'Histograma para sexo {a}') # nao conseguir setar o titulo\n",
    "        db_temp = db[db['TP_SEXO'] == a].get(b)\n",
    "        print(db_temp.values)\n",
    "        plt.hist(list(db_temp.dropna().values), bins=100)\n",
    "plt.show()"
   ]
  },
  {
   "cell_type": "markdown",
   "metadata": {},
   "source": [
    "texto explicativo"
   ]
  },
  {
   "cell_type": "markdown",
   "metadata": {},
   "source": [
    "# Questao 6 #\n",
    "Crie um atributo de idade a partir do atributo de faixa etária (adote um critério para selecionar um valor de idade para cada faixa etária). \n",
    "\n",
    "Escolha uma cidade de escola, identifique as 10 faixas de renda familiar com maior número de inscritos. Escolha duas faixas de renda dentre estas. Para cada faixa de renda, determine para o atributo  idade, a mediana (Q2), assim como os quartis de 25% e 75% (Q1 e Q3), além de valores mínimo e máximo. O que você observa? Comente.\n"
   ]
  },
  {
   "cell_type": "code",
   "execution_count": 30,
   "metadata": {},
   "outputs": [
    {
     "data": {
      "text/plain": [
       "Q006\n",
       "B       2658\n",
       "C       1556\n",
       "D       1058\n",
       "E        637\n",
       "G        560\n",
       "H        551\n",
       "A        439\n",
       "F        392\n",
       "Q        348\n",
       "I        219\n",
       "Name: count, dtype: int64"
      ]
     },
     "execution_count": 30,
     "metadata": {},
     "output_type": "execute_result"
    }
   ],
   "source": [
    "db_idade = db.copy()\n",
    "idades = [None,16,17,18,19,20,21,22,23,24,25,28,33,38,43,48,53,58,63,68,71]\n",
    "func = lambda idade_v : [idades[idade] for idade in idade_v]\n",
    "db_idade['idade'] = func(db[\"TP_FAIXA_ETARIA\"] )\n",
    "faixas_renda = db_idade[db_idade['NO_MUNICIPIO_ESC'] == \"Salvador\"].get(['Q006']).value_counts()[:10]\n",
    "faixas_renda"
   ]
  },
  {
   "cell_type": "code",
   "execution_count": 43,
   "metadata": {},
   "outputs": [
    {
     "data": {
      "text/plain": [
       "count    18189.000000\n",
       "mean        23.254110\n",
       "std          8.105058\n",
       "min         16.000000\n",
       "25%         18.000000\n",
       "50%         20.000000\n",
       "75%         25.000000\n",
       "max         71.000000\n",
       "Name: idade, dtype: float64"
      ]
     },
     "metadata": {},
     "output_type": "display_data"
    },
    {
     "data": {
      "text/plain": [
       "count    9635.000000\n",
       "mean       23.365023\n",
       "std         8.542164\n",
       "min        16.000000\n",
       "25%        18.000000\n",
       "50%        20.000000\n",
       "75%        25.000000\n",
       "max        71.000000\n",
       "Name: idade, dtype: float64"
      ]
     },
     "metadata": {},
     "output_type": "display_data"
    }
   ],
   "source": [
    "for renda in faixas_renda.index[:2]:\n",
    "    display(db_idade[db_idade['Q006'] == renda[0]].get('idade').describe())"
   ]
  },
  {
   "cell_type": "markdown",
   "metadata": {},
   "source": [
    "Observamos que a idade de ambas as faixas de renda tem idades parecidas"
   ]
  },
  {
   "cell_type": "markdown",
   "metadata": {},
   "source": [
    "# Questao 7 \n",
    "\n",
    "Escolha uma cidade (de escola), faça a tabela de contingência de número de inscritos entre o tipo de escola e o atributo raça/cor. O que você observa? Discuta."
   ]
  },
  {
   "cell_type": "code",
   "execution_count": 45,
   "metadata": {},
   "outputs": [
    {
     "data": {
      "text/html": [
       "<div>\n",
       "<style scoped>\n",
       "    .dataframe tbody tr th:only-of-type {\n",
       "        vertical-align: middle;\n",
       "    }\n",
       "\n",
       "    .dataframe tbody tr th {\n",
       "        vertical-align: top;\n",
       "    }\n",
       "\n",
       "    .dataframe thead th {\n",
       "        text-align: right;\n",
       "    }\n",
       "</style>\n",
       "<table border=\"1\" class=\"dataframe\">\n",
       "  <thead>\n",
       "    <tr style=\"text-align: right;\">\n",
       "      <th>TP_COR_RACA</th>\n",
       "      <th>0</th>\n",
       "      <th>1</th>\n",
       "      <th>2</th>\n",
       "      <th>3</th>\n",
       "      <th>4</th>\n",
       "      <th>5</th>\n",
       "    </tr>\n",
       "    <tr>\n",
       "      <th>TP_ESCOLA</th>\n",
       "      <th></th>\n",
       "      <th></th>\n",
       "      <th></th>\n",
       "      <th></th>\n",
       "      <th></th>\n",
       "      <th></th>\n",
       "    </tr>\n",
       "  </thead>\n",
       "  <tbody>\n",
       "    <tr>\n",
       "      <th>1</th>\n",
       "      <td>750</td>\n",
       "      <td>7492</td>\n",
       "      <td>13854</td>\n",
       "      <td>16872</td>\n",
       "      <td>548</td>\n",
       "      <td>110</td>\n",
       "    </tr>\n",
       "    <tr>\n",
       "      <th>2</th>\n",
       "      <td>198</td>\n",
       "      <td>1283</td>\n",
       "      <td>4174</td>\n",
       "      <td>4328</td>\n",
       "      <td>222</td>\n",
       "      <td>41</td>\n",
       "    </tr>\n",
       "    <tr>\n",
       "      <th>3</th>\n",
       "      <td>95</td>\n",
       "      <td>1894</td>\n",
       "      <td>889</td>\n",
       "      <td>1797</td>\n",
       "      <td>50</td>\n",
       "      <td>7</td>\n",
       "    </tr>\n",
       "  </tbody>\n",
       "</table>\n",
       "</div>"
      ],
      "text/plain": [
       "TP_COR_RACA    0     1      2      3    4    5\n",
       "TP_ESCOLA                                     \n",
       "1            750  7492  13854  16872  548  110\n",
       "2            198  1283   4174   4328  222   41\n",
       "3             95  1894    889   1797   50    7"
      ]
     },
     "execution_count": 45,
     "metadata": {},
     "output_type": "execute_result"
    }
   ],
   "source": [
    "db[\"TP_ESCOLA\"]\n",
    "pd.crosstab(db.TP_ESCOLA,db.TP_COR_RACA)"
   ]
  },
  {
   "cell_type": "markdown",
   "metadata": {},
   "source": [
    "observações"
   ]
  },
  {
   "cell_type": "markdown",
   "metadata": {},
   "source": [
    "# Questao 8\n",
    "Escolha uma cidade (de escola) e duas provas do ENEM. Filtre somente os candidatos desta cidade, e faça um gráfico de dispersão das notas dos candidatos em uma prova (1º eixo) em relação às notas dos candidatos em outra prova (2º eixo). Observe o gráfico e calcule o coeficiente de correlação de Pearson. \n",
    "\n",
    "Repita para mudando a escolha de uma das provas do ENEM (mantenha a outra prova escolhida).\n"
   ]
  },
  {
   "cell_type": "code",
   "execution_count": 51,
   "metadata": {},
   "outputs": [
    {
     "data": {
      "text/plain": [
       "<Axes: xlabel='NU_NOTA_CH', ylabel='NU_NOTA_MT'>"
      ]
     },
     "execution_count": 51,
     "metadata": {},
     "output_type": "execute_result"
    },
    {
     "data": {
      "image/png": "[encoded data removed]",
      "text/plain": [
       "<Figure size 640x480 with 1 Axes>"
      ]
     },
     "metadata": {},
     "output_type": "display_data"
    },
    {
     "data": {
      "image/png": "[encoded data removed]",
      "text/plain": [
       "<Figure size 640x480 with 1 Axes>"
      ]
     },
     "metadata": {},
     "output_type": "display_data"
    }
   ],
   "source": [
    "db_notas = db_idade[db_idade['NO_MUNICIPIO_ESC'] == \"Salvador\"].get(['NU_NOTA_CH','NU_NOTA_CN','NU_NOTA_MT'])\n",
    "db_notas.plot.scatter(x='NU_NOTA_CH',y='NU_NOTA_CN')\n",
    "db_notas.corr(method='pearson')\n",
    "db_notas.plot.scatter(x='NU_NOTA_CH',y='NU_NOTA_MT')"
   ]
  },
  {
   "cell_type": "markdown",
   "metadata": {},
   "source": [
    "observações"
   ]
  },
  {
   "cell_type": "markdown",
   "metadata": {},
   "source": [
    "# Questao 9\n",
    "Faça uma análise da relação entre renda mensal familiar e as notas nas provas do ENEM. Defina e justifique seu método de análise. Discuta os resultados."
   ]
  },
  {
   "cell_type": "code",
   "execution_count": 61,
   "metadata": {},
   "outputs": [
    {
     "data": {
      "text/html": [
       "<div>\n",
       "<style scoped>\n",
       "    .dataframe tbody tr th:only-of-type {\n",
       "        vertical-align: middle;\n",
       "    }\n",
       "\n",
       "    .dataframe tbody tr th {\n",
       "        vertical-align: top;\n",
       "    }\n",
       "\n",
       "    .dataframe thead th {\n",
       "        text-align: right;\n",
       "    }\n",
       "</style>\n",
       "<table border=\"1\" class=\"dataframe\">\n",
       "  <thead>\n",
       "    <tr style=\"text-align: right;\">\n",
       "      <th></th>\n",
       "      <th>NU_NOTA_REDACAO</th>\n",
       "      <th>NU_NOTA_CN</th>\n",
       "      <th>NU_NOTA_CH</th>\n",
       "      <th>NU_NOTA_LC</th>\n",
       "      <th>NU_NOTA_MT</th>\n",
       "      <th>Total</th>\n",
       "    </tr>\n",
       "    <tr>\n",
       "      <th>Q006</th>\n",
       "      <th></th>\n",
       "      <th></th>\n",
       "      <th></th>\n",
       "      <th></th>\n",
       "      <th></th>\n",
       "      <th></th>\n",
       "    </tr>\n",
       "  </thead>\n",
       "  <tbody>\n",
       "    <tr>\n",
       "      <th>A</th>\n",
       "      <td>515.525253</td>\n",
       "      <td>469.034323</td>\n",
       "      <td>495.243434</td>\n",
       "      <td>483.303737</td>\n",
       "      <td>478.281793</td>\n",
       "      <td>488.277708</td>\n",
       "    </tr>\n",
       "    <tr>\n",
       "      <th>B</th>\n",
       "      <td>563.350899</td>\n",
       "      <td>475.469919</td>\n",
       "      <td>508.632070</td>\n",
       "      <td>502.784826</td>\n",
       "      <td>496.051686</td>\n",
       "      <td>509.257880</td>\n",
       "    </tr>\n",
       "    <tr>\n",
       "      <th>C</th>\n",
       "      <td>598.276914</td>\n",
       "      <td>488.086528</td>\n",
       "      <td>523.846722</td>\n",
       "      <td>518.043413</td>\n",
       "      <td>520.755738</td>\n",
       "      <td>529.801863</td>\n",
       "    </tr>\n",
       "    <tr>\n",
       "      <th>D</th>\n",
       "      <td>625.392066</td>\n",
       "      <td>498.104110</td>\n",
       "      <td>533.813423</td>\n",
       "      <td>526.615844</td>\n",
       "      <td>535.033897</td>\n",
       "      <td>543.791868</td>\n",
       "    </tr>\n",
       "    <tr>\n",
       "      <th>E</th>\n",
       "      <td>654.101276</td>\n",
       "      <td>508.629023</td>\n",
       "      <td>545.878779</td>\n",
       "      <td>537.232857</td>\n",
       "      <td>553.831374</td>\n",
       "      <td>559.934662</td>\n",
       "    </tr>\n",
       "    <tr>\n",
       "      <th>F</th>\n",
       "      <td>674.641564</td>\n",
       "      <td>520.119076</td>\n",
       "      <td>556.998262</td>\n",
       "      <td>547.516437</td>\n",
       "      <td>570.322483</td>\n",
       "      <td>573.919565</td>\n",
       "    </tr>\n",
       "    <tr>\n",
       "      <th>G</th>\n",
       "      <td>700.062500</td>\n",
       "      <td>527.457774</td>\n",
       "      <td>565.879323</td>\n",
       "      <td>553.538802</td>\n",
       "      <td>588.786743</td>\n",
       "      <td>587.145028</td>\n",
       "    </tr>\n",
       "    <tr>\n",
       "      <th>H</th>\n",
       "      <td>723.046218</td>\n",
       "      <td>535.641900</td>\n",
       "      <td>574.616807</td>\n",
       "      <td>562.206092</td>\n",
       "      <td>597.158814</td>\n",
       "      <td>598.533966</td>\n",
       "    </tr>\n",
       "    <tr>\n",
       "      <th>I</th>\n",
       "      <td>734.846336</td>\n",
       "      <td>552.191811</td>\n",
       "      <td>580.022459</td>\n",
       "      <td>564.448936</td>\n",
       "      <td>617.401365</td>\n",
       "      <td>609.782181</td>\n",
       "    </tr>\n",
       "    <tr>\n",
       "      <th>J</th>\n",
       "      <td>740.209581</td>\n",
       "      <td>546.581493</td>\n",
       "      <td>583.832934</td>\n",
       "      <td>569.595210</td>\n",
       "      <td>624.984292</td>\n",
       "      <td>613.040702</td>\n",
       "    </tr>\n",
       "    <tr>\n",
       "      <th>K</th>\n",
       "      <td>752.141527</td>\n",
       "      <td>554.168155</td>\n",
       "      <td>591.233520</td>\n",
       "      <td>574.316760</td>\n",
       "      <td>631.254369</td>\n",
       "      <td>620.622866</td>\n",
       "    </tr>\n",
       "    <tr>\n",
       "      <th>L</th>\n",
       "      <td>757.444934</td>\n",
       "      <td>552.514568</td>\n",
       "      <td>587.596035</td>\n",
       "      <td>573.362555</td>\n",
       "      <td>634.516237</td>\n",
       "      <td>621.086866</td>\n",
       "    </tr>\n",
       "    <tr>\n",
       "      <th>M</th>\n",
       "      <td>756.651852</td>\n",
       "      <td>559.181102</td>\n",
       "      <td>589.367259</td>\n",
       "      <td>575.305778</td>\n",
       "      <td>637.301575</td>\n",
       "      <td>623.561513</td>\n",
       "    </tr>\n",
       "    <tr>\n",
       "      <th>N</th>\n",
       "      <td>771.521368</td>\n",
       "      <td>560.711150</td>\n",
       "      <td>598.872308</td>\n",
       "      <td>579.455385</td>\n",
       "      <td>649.590973</td>\n",
       "      <td>632.030237</td>\n",
       "    </tr>\n",
       "    <tr>\n",
       "      <th>O</th>\n",
       "      <td>780.244275</td>\n",
       "      <td>561.630171</td>\n",
       "      <td>598.333740</td>\n",
       "      <td>581.349618</td>\n",
       "      <td>654.677760</td>\n",
       "      <td>635.247113</td>\n",
       "    </tr>\n",
       "    <tr>\n",
       "      <th>P</th>\n",
       "      <td>778.998384</td>\n",
       "      <td>571.498469</td>\n",
       "      <td>602.055250</td>\n",
       "      <td>584.180775</td>\n",
       "      <td>661.589456</td>\n",
       "      <td>639.664467</td>\n",
       "    </tr>\n",
       "    <tr>\n",
       "      <th>Q</th>\n",
       "      <td>794.393771</td>\n",
       "      <td>568.640809</td>\n",
       "      <td>601.654839</td>\n",
       "      <td>586.365740</td>\n",
       "      <td>672.832254</td>\n",
       "      <td>644.777483</td>\n",
       "    </tr>\n",
       "  </tbody>\n",
       "</table>\n",
       "</div>"
      ],
      "text/plain": [
       "      NU_NOTA_REDACAO  NU_NOTA_CN  NU_NOTA_CH  NU_NOTA_LC  NU_NOTA_MT  \\\n",
       "Q006                                                                    \n",
       "A          515.525253  469.034323  495.243434  483.303737  478.281793   \n",
       "B          563.350899  475.469919  508.632070  502.784826  496.051686   \n",
       "C          598.276914  488.086528  523.846722  518.043413  520.755738   \n",
       "D          625.392066  498.104110  533.813423  526.615844  535.033897   \n",
       "E          654.101276  508.629023  545.878779  537.232857  553.831374   \n",
       "F          674.641564  520.119076  556.998262  547.516437  570.322483   \n",
       "G          700.062500  527.457774  565.879323  553.538802  588.786743   \n",
       "H          723.046218  535.641900  574.616807  562.206092  597.158814   \n",
       "I          734.846336  552.191811  580.022459  564.448936  617.401365   \n",
       "J          740.209581  546.581493  583.832934  569.595210  624.984292   \n",
       "K          752.141527  554.168155  591.233520  574.316760  631.254369   \n",
       "L          757.444934  552.514568  587.596035  573.362555  634.516237   \n",
       "M          756.651852  559.181102  589.367259  575.305778  637.301575   \n",
       "N          771.521368  560.711150  598.872308  579.455385  649.590973   \n",
       "O          780.244275  561.630171  598.333740  581.349618  654.677760   \n",
       "P          778.998384  571.498469  602.055250  584.180775  661.589456   \n",
       "Q          794.393771  568.640809  601.654839  586.365740  672.832254   \n",
       "\n",
       "           Total  \n",
       "Q006              \n",
       "A     488.277708  \n",
       "B     509.257880  \n",
       "C     529.801863  \n",
       "D     543.791868  \n",
       "E     559.934662  \n",
       "F     573.919565  \n",
       "G     587.145028  \n",
       "H     598.533966  \n",
       "I     609.782181  \n",
       "J     613.040702  \n",
       "K     620.622866  \n",
       "L     621.086866  \n",
       "M     623.561513  \n",
       "N     632.030237  \n",
       "O     635.247113  \n",
       "P     639.664467  \n",
       "Q     644.777483  "
      ]
     },
     "execution_count": 61,
     "metadata": {},
     "output_type": "execute_result"
    }
   ],
   "source": [
    "db_notas = db.get(['Q006','NU_NOTA_REDACAO','NU_NOTA_CN', 'NU_NOTA_CH', 'NU_NOTA_LC', 'NU_NOTA_MT']).groupby('Q006').mean()\n",
    "db_notas['Total'] = (db_notas['NU_NOTA_CH'] + db_notas['NU_NOTA_CN'] + db_notas['NU_NOTA_LC'] + db_notas['NU_NOTA_MT'] + db_notas['NU_NOTA_REDACAO'])/5\n",
    "db_notas"
   ]
  },
  {
   "cell_type": "code",
   "execution_count": 67,
   "metadata": {},
   "outputs": [
    {
     "data": {
      "text/plain": [
       "<Axes: xlabel='Q006'>"
      ]
     },
     "execution_count": 67,
     "metadata": {},
     "output_type": "execute_result"
    },
    {
     "data": {
      "image/png": "[encoded data removed]",
      "text/plain": [
       "<Figure size 640x480 with 1 Axes>"
      ]
     },
     "metadata": {},
     "output_type": "display_data"
    }
   ],
   "source": [
    "\n",
    "db_notas['Total'].plot.bar()"
   ]
  }
 ],
 "metadata": {
  "kernelspec": {
   "display_name": "env",
   "language": "python",
   "name": "python3"
  },
  "language_info": {
   "codemirror_mode": {
    "name": "ipython",
    "version": 3
   },
   "file_extension": ".py",
   "mimetype": "text/x-python",
   "name": "python",
   "nbconvert_exporter": "python",
   "pygments_lexer": "ipython3",
   "version": "3.10.12"
  },
  "orig_nbformat": 4
 },
 "nbformat": 4,
 "nbformat_minor": 2
}
