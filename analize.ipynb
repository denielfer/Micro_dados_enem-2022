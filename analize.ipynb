{
 "cells": [
  {
   "cell_type": "markdown",
   "metadata": {},
   "source": [
    "# Questão 1\n",
    "\n",
    "FIltrar base de dados do Enem para resolução das questões e análise de resultados. Carregue-a para um dataframe."
   ]
  },
  {
   "cell_type": "code",
   "execution_count": 1,
   "metadata": {},
   "outputs": [],
   "source": [
    "import pandas as pd\n",
    "db = pd.read_csv('base_dados.csv', encoding=\"cp1252\")"
   ]
  },
  {
   "cell_type": "markdown",
   "metadata": {},
   "source": [
    "# Questao 2 (OK)\n",
    "Quais são os tipos de dados dos atributos (cf slides da aula sobre dados) disponíveis na base?"
   ]
  },
  {
   "cell_type": "markdown",
   "metadata": {},
   "source": [
    "Atributo | Tipo do atributo\n",
    "-------- | ----------------\n",
    "NU_INSCRICAO | Qualitativo nominal\n",
    "NU_ANO | Qualitativo nominal\n",
    "TP_FAIXA_ETARIA | Qualitativo ordinal\n",
    "TP_SEXO | Qualitativo binário simétrico\n",
    "TP_ESTADO_CIVIL | Qualitativo nominal\n",
    "TP_COR_RACA | Qualitativo nominal\n",
    "TP_NACIONALIDADE | Qualitativo nominal\n",
    "TP_ST_CONCLUSAO | Qualitativo ordinal\n",
    "TP_ANO_CONCLUIU | Qualitativo ordinal (desconsiderando o valor 0)\n",
    "TP_ESCOLA | Qualitativo nominal\n",
    "TP_ENSINO | Qualitativo binário simétrico\n",
    "IN_TREINEIRO | Qualitativo binário simétrico\n",
    "CO_MUNICIPIO_ESC | Qualitativo nominal\n",
    "NO_MUNICIPIO_ESC | Qualitativo nominal\n",
    "CO_UF_ESC | Qualitativo nominal\n",
    "SG_UF_ESC | Qualitativo nominal\n",
    "TP_DEPENDENCIA_ADM_ESC | Qualitativo nominal\n",
    "TP_LOCALIZACAO_ESC | Qualitativo binário simétrico\n",
    "TP_SIT_FUNC_ESC | Qualitativo nominal\n",
    "CO_MUNICIPIO_PROVA | Qualitativo nominal\n",
    "NO_MUNICIPIO_PROVA | Qualitativo nominal\n",
    "CO_UF_PROVA | Qualitativo nominal\n",
    "SG_UF_PROVA | Qualitativo nominal\n",
    "TP_PRESENCA_CN | Qualitativo nominal\n",
    "TP_PRESENCA_CH | Qualitativo nominal\n",
    "TP_PRESENCA_LC | Qualitativo nominal\n",
    "TP_PRESENCA_MT | Qualitativo nominal\n",
    "CO_PROVA_CN | Qualitativo nominal\n",
    "CO_PROVA_CH | Qualitativo nominal\n",
    "CO_PROVA_LC | Qualitativo nominal\n",
    "CO_PROVA_MT | Qualitativo nominal\n",
    "NU_NOTA_CN | Quantitativo\n",
    "NU_NOTA_CH | Quantitativo\n",
    "NU_NOTA_LC | Quantitativo\n",
    "NU_NOTA_MT | Quantitativo\n",
    "TX_RESPOSTAS_CN | Qualitativo nominal\n",
    "TX_RESPOSTAS_CH | Qualitativo nominal\n",
    "TX_RESPOSTAS_LC | Qualitativo nominal\n",
    "TX_RESPOSTAS_MT | Qualitativo nominal\n",
    "TP_LINGUA | Qualitativo nominal\n",
    "TX_GABARITO_CN | Qualitativo nominal\n",
    "TX_GABARITO_CH | Qualitativo nominal\n",
    "TX_GABARITO_LC | Qualitativo nominal\n",
    "TX_GABARITO_MT | Qualitativo nominal\n",
    "TP_STATUS_REDACAO | Qualitativo nominal\n",
    "NU_NOTA_COMP1 | Quantitativo\n",
    "NU_NOTA_COMP2 | Quantitativo\n",
    "NU_NOTA_COMP3 | Quantitativo\n",
    "NU_NOTA_COMP4 | Quantitativo\n",
    "NU_NOTA_COMP5 | Quantitativo\n",
    "NU_NOTA_REDACAO | Quantitativo\n",
    "Q001 | Qualitativo ordinal (desconsiderando o valor H)\n",
    "Q002 | Qualitativo ordinal (desconsiderando o valor H)\n",
    "Q003 | Qualitativo nominal\n",
    "Q004 | Qualitativo nominal\n",
    "Q005 | Quantitativo\n",
    "Q006 | Qualitativo ordinal\n",
    "Q007 | Qualitativo ordinal\n",
    "Q008 | Qualitativo ordinal\n",
    "Q009 | Qualitativo ordinal\n",
    "Q010 | Qualitativo ordinal\n",
    "Q011 | Qualitativo ordinal\n",
    "Q012 | Qualitativo ordinal\n",
    "Q013 | Qualitativo ordinal\n",
    "Q014 | Qualitativo ordinal\n",
    "Q015 | Qualitativo ordinal\n",
    "Q016 | Qualitativo ordinal\n",
    "Q017 | Qualitativo ordinal\n",
    "Q018 | Qualitativo binário assimétrico\n",
    "Q019 | Qualitativo ordinal\n",
    "Q020 | Qualitativo binário assimétrico\n",
    "Q021 | Qualitativo binário assimétrico\n",
    "Q022 | Qualitativo ordinal\n",
    "Q023 | Qualitativo binário assimétrico\n",
    "Q024 | Qualitativo ordinal\n",
    "Q025 | Qualitativo binário assimétrico"
   ]
  },
  {
   "cell_type": "markdown",
   "metadata": {},
   "source": [
    "# Questao 3 (OK)\n",
    "\n",
    "Quais são as cidades das escolas dos inscritos com dados disponíveis na base? "
   ]
  },
  {
   "cell_type": "code",
   "execution_count": 2,
   "metadata": {},
   "outputs": [
    {
     "name": "stdout",
     "output_type": "stream",
     "text": [
      "['Salvador' 'Una' 'Lauro de Freitas' 'Candeias' 'Mata de São João'\n",
      " 'Jaboatão dos Guararapes' 'Juazeiro' 'Eunápolis' 'Simões Filho'\n",
      " 'Madre de Deus' 'Apuarema' 'Vera Cruz' 'Planalto' 'Serrinha' 'Camamu'\n",
      " 'Itaberaba' 'Rio Verde' 'Remanso' 'Camaçari' 'Amargosa' 'Jequié'\n",
      " 'Porto Seguro' 'São Sebastião do Passé' 'Caém' 'Ibicoara' 'Cafarnaum'\n",
      " 'Pojuca' 'América Dourada' 'João Pessoa' 'Jaguaquara' 'Santa Inês'\n",
      " 'Barreiras' 'Itaparica' 'Rio Real' 'Feira de Santana'\n",
      " 'São Francisco do Conde' 'Serra Dourada' 'Presidente Tancredo Neves'\n",
      " 'Salinas da Margarida' 'Vitória da Conquista' 'Bom Jesus da Lapa'\n",
      " 'São Paulo' 'Palmas de Monte Alto' 'Teolândia' 'Ubaíra' 'Jaguarari'\n",
      " 'Castanhal' 'Chã de Alegria' 'Paragominas' 'Duque de Caxias' 'Tapiramutá'\n",
      " 'Itambé' 'Santa Bárbara' 'Santo Antônio de Jesus' 'Curitiba' 'Cotia'\n",
      " 'Jandaíra' 'Ouricuri' 'Rio de Janeiro' 'Natal' 'Cícero Dantas'\n",
      " 'Terra Nova' 'Fortaleza' 'Iramaia' 'Valença' 'Luís Eduardo Magalhães'\n",
      " 'Paulo Afonso' 'Serra Preta' 'Senhor do Bonfim' 'Jeremoabo' 'Aracaju'\n",
      " 'São José' 'Entre Rios' 'Teófilo Otoni' 'Santo Amaro' 'Maricá' 'Poções'\n",
      " 'Marituba' 'Barbacena' \"Dias d'Ávila\"]\n"
     ]
    }
   ],
   "source": [
    "cidades = db[\"NO_MUNICIPIO_ESC\"].dropna().unique()\n",
    "print(cidades)"
   ]
  },
  {
   "cell_type": "markdown",
   "metadata": {},
   "source": [
    "Essas são as cidades de escolas disponíveis na base de dados filtrada."
   ]
  },
  {
   "cell_type": "markdown",
   "metadata": {},
   "source": [
    "#### Quais são as cidades de aplicação de provas com dados disponíveis na base? "
   ]
  },
  {
   "cell_type": "code",
   "execution_count": 11,
   "metadata": {},
   "outputs": [
    {
     "name": "stdout",
     "output_type": "stream",
     "text": [
      "['Salvador']\n"
     ]
    }
   ],
   "source": [
    "cidades_aplicacao = db[\"NO_MUNICIPIO_PROVA\"].unique()\n",
    "print(cidades_aplicacao)"
   ]
  },
  {
   "cell_type": "markdown",
   "metadata": {},
   "source": [
    "Esta é a única cidade de aplicação de prova presente na base filtrada. Isto ocorreu porque a filtragem foi realizada a com esse valor do respectivo atributo."
   ]
  },
  {
   "cell_type": "markdown",
   "metadata": {},
   "source": [
    "#### Quantos candidatos há nas cidades das escolas e nas cidades de aplicação? Compare e discuta os resultados."
   ]
  },
  {
   "cell_type": "code",
   "execution_count": 13,
   "metadata": {},
   "outputs": [
    {
     "name": "stdout",
     "output_type": "stream",
     "text": [
      "Candidados por Cidade das escolas:  {'Amargosa': 1, 'América Dourada': 1, 'Apuarema': 1, 'Aracaju': 1, 'Barbacena': 1, 'Barreiras': 2, 'Bom Jesus da Lapa': 1, 'Cafarnaum': 2, 'Camamu': 1, 'Camaçari': 22, 'Candeias': 2, 'Castanhal': 1, 'Caém': 1, 'Chã de Alegria': 1, 'Cotia': 1, 'Curitiba': 2, 'Cícero Dantas': 1, \"Dias d'Ávila\": 1, 'Duque de Caxias': 3, 'Entre Rios': 1, 'Eunápolis': 3, 'Feira de Santana': 3, 'Fortaleza': 1, 'Ibicoara': 1, 'Iramaia': 1, 'Itaberaba': 2, 'Itambé': 1, 'Itaparica': 2, 'Jaboatão dos Guararapes': 1, 'Jaguaquara': 1, 'Jaguarari': 1, 'Jandaíra': 1, 'Jequié': 2, 'Jeremoabo': 1, 'João Pessoa': 4, 'Juazeiro': 3, 'Lauro de Freitas': 72, 'Luís Eduardo Magalhães': 2, 'Madre de Deus': 8, 'Maricá': 1, 'Marituba': 1, 'Mata de São João': 11, 'Natal': 1, 'Ouricuri': 1, 'Palmas de Monte Alto': 1, 'Paragominas': 7, 'Paulo Afonso': 1, 'Planalto': 1, 'Pojuca': 1, 'Porto Seguro': 2, 'Poções': 1, 'Presidente Tancredo Neves': 1, 'Remanso': 1, 'Rio Real': 1, 'Rio Verde': 1, 'Rio de Janeiro': 2, 'Salinas da Margarida': 1, 'Salvador': 9772, 'Santa Bárbara': 3, 'Santa Inês': 1, 'Santo Amaro': 1, 'Santo Antônio de Jesus': 1, 'Senhor do Bonfim': 1, 'Serra Dourada': 1, 'Serra Preta': 1, 'Serrinha': 1, 'Simões Filho': 43, 'São Francisco do Conde': 1, 'São José': 1, 'São Paulo': 1, 'São Sebastião do Passé': 1, 'Tapiramutá': 1, 'Teolândia': 1, 'Terra Nova': 1, 'Teófilo Otoni': 1, 'Ubaíra': 1, 'Una': 1, 'Valença': 1, 'Vera Cruz': 2, 'Vitória da Conquista': 2}\n",
      "Quantidade de Candidados que temos informação da cidade da escola: 10033\n",
      "Quantidade de Candidatos que não temos informação da cidade da escola: 44571\n",
      "A quantidade de valores dos Candidatos que informaram e não informaram é a mesma quantidade de valores do dataframe original?  Sim\n"
     ]
    }
   ],
   "source": [
    "print(\"Candidados por Cidade das escolas | \", dict(db.groupby(\"NO_MUNICIPIO_ESC\").count().iloc[:, 1]))\n",
    "print(\"Quantidade de Candidados que temos informação da cidade da escola:\", sum(list(db.groupby(\"NO_MUNICIPIO_ESC\").count().iloc[:, 1])))\n",
    "print(\"Quantidade de Candidatos que não temos informação da cidade da escola:\", len(db[db.get(\"NO_MUNICIPIO_ESC\").isna()]))\n",
    "print(\"A quantidade de valores dos Candidatos que informaram e não informaram é a mesma quantidade de valores do dataframe original? \", 'Sim' if db.iloc[:, 1].count() == sum(list(db.groupby(\"NO_MUNICIPIO_ESC\").count().iloc[:, 1]))+len(db[db.get(\"NO_MUNICIPIO_ESC\").isna()]) else 'Não')"
   ]
  },
  {
   "cell_type": "markdown",
   "metadata": {},
   "source": [
    "Como o critério escolhido foi a cidade de aplicação então sabe-se que todos os candidatos realizaram em Salvador."
   ]
  },
  {
   "cell_type": "code",
   "execution_count": 45,
   "metadata": {},
   "outputs": [
    {
     "name": "stdout",
     "output_type": "stream",
     "text": [
      "Candidados por Cidade de aplicação:  {'Salvador': 54604}\n",
      "Quantidade de Candidados que temos informação da cidade de aplicação: 54604\n",
      "Quantidade de Candidatos que não temos informação da cidade de aplicação: 0\n"
     ]
    }
   ],
   "source": [
    "print(\"Candidados por Cidade de aplicação: \", dict(db.groupby(\"NO_MUNICIPIO_PROVA\").count().iloc[:, 1]))\n",
    "print(\"Quantidade de Candidados que temos informação da cidade de aplicação:\", sum(list(db.groupby(\"NO_MUNICIPIO_PROVA\").count().iloc[:, 1])))\n",
    "print(\"Quantidade de Candidatos que não temos informação da cidade de aplicação:\", len(db[db.get(\"NO_MUNICIPIO_PROVA\").isna()]))"
   ]
  },
  {
   "cell_type": "markdown",
   "metadata": {},
   "source": [
    "Dos 10033 candidatos que temos informação, 9773 são de Salvador, enquanto que os demais são oriundos de outras cidades, e por algum motivo fizeram as provas em Salvador, representando cerca de 2,5%. Esse fenômeno tende a ser cada vez mais comum em mundo globalizado e com menos barreiras de distâncias.\n",
    "\n",
    "Pode ser observado que existem cerca de 4 vezes mais candidatos que não informaram a sua cidade do que os que informaram."
   ]
  },
  {
   "cell_type": "markdown",
   "metadata": {},
   "source": [
    "# Questao 4 (OK)\n",
    "Escolha duas cidades das escolas. Para cada cidade, calcule a tendência central (média, mediana e/ou moda, conforme possibilidade) e desvio padrão de nota de redação para os inscritos. Que análise pode ser feita observando os valores obtidos?"
   ]
  },
  {
   "cell_type": "code",
   "execution_count": 2,
   "metadata": {},
   "outputs": [
    {
     "data": {
      "text/plain": [
       "NO_MUNICIPIO_ESC\n",
       "Salvador            8131\n",
       "Lauro de Freitas      48\n",
       "Simões Filho          33\n",
       "Camaçari              16\n",
       "Mata de São João       7\n",
       "Name: count, dtype: int64"
      ]
     },
     "execution_count": 2,
     "metadata": {},
     "output_type": "execute_result"
    }
   ],
   "source": [
    "db.get(['NO_MUNICIPIO_ESC','NU_NOTA_REDACAO']).dropna().NO_MUNICIPIO_ESC.value_counts()[:5]"
   ]
  },
  {
   "cell_type": "markdown",
   "metadata": {},
   "source": [
    "As cidades escolhidas foram Salvador e Lauro de Freitas, as 2 cidades com maior numero de candidados. Removemos candidatos que não possuem nota disponível, e candidatos com nota igual à 0 são preservados. "
   ]
  },
  {
   "cell_type": "code",
   "execution_count": 3,
   "metadata": {},
   "outputs": [
    {
     "name": "stdout",
     "output_type": "stream",
     "text": [
      "Medidas de tendência central da nota de redação em Salvador: \n",
      "       NU_NOTA_REDACAO\n",
      "count      8131.000000\n",
      "mean        666.525643\n",
      "std         205.890067\n",
      "min           0.000000\n",
      "25%         560.000000\n",
      "50%         700.000000\n",
      "75%         820.000000\n",
      "max         980.000000 \n",
      "Moda: (880.0,)\n",
      "\n",
      "Medidas de tendência central da nota de redação em Lauro de Freitas: \n",
      "       NU_NOTA_REDACAO\n",
      "count        48.000000\n",
      "mean        710.833333\n",
      "std         214.494292\n",
      "min           0.000000\n",
      "25%         665.000000\n",
      "50%         770.000000\n",
      "75%         860.000000\n",
      "max         940.000000 \n",
      "Moda: (820.0,)\n",
      "\n"
     ]
    }
   ],
   "source": [
    "nota_redacao_salvador = db[db[\"NO_MUNICIPIO_ESC\"] == \"Salvador\"].get([\"NU_NOTA_REDACAO\"])\n",
    "nota_redacao_lauro = db[db[\"NO_MUNICIPIO_ESC\"] == \"Lauro de Freitas\"].get([\"NU_NOTA_REDACAO\"])\n",
    "print(f\"Medidas de tendência central da nota de redação em Salvador: \\n{nota_redacao_salvador.describe()} \\nModa: {nota_redacao_salvador.value_counts().index[0]}\\n\")\n",
    "print(f\"Medidas de tendência central da nota de redação em Lauro de Freitas: \\n{nota_redacao_lauro.describe()} \\nModa: {nota_redacao_lauro.value_counts().index[0]}\\n\")"
   ]
  },
  {
   "cell_type": "code",
   "execution_count": 3,
   "metadata": {},
   "outputs": [
    {
     "name": "stdout",
     "output_type": "stream",
     "text": [
      "Coeficiente de variação:\n",
      "Salvador:30.89\n",
      "Lauro de Freitas: 30.175\n"
     ]
    }
   ],
   "source": [
    "cv_salvador = (nota_redacao_salvador.std() / nota_redacao_salvador.mean()).iloc[0]\n",
    "cv_lauro = (nota_redacao_lauro.std() / nota_redacao_lauro.mean()).iloc[0]\n",
    "print(f'Coeficiente de variação:\\nSalvador:{cv_salvador * 100:.05}\\nLauro de Freitas: {cv_lauro * 100:.05}')"
   ]
  },
  {
   "cell_type": "code",
   "execution_count": 34,
   "metadata": {},
   "outputs": [
    {
     "data": {
      "text/plain": [
       "array([[<Axes: title={'center': 'NU_NOTA_REDACAO'}>]], dtype=object)"
      ]
     },
     "execution_count": 34,
     "metadata": {},
     "output_type": "execute_result"
    },
    {
     "data": {
      "image/png": "[encoded data removed]",
      "text/plain": [
       "<Figure size 640x480 with 1 Axes>"
      ]
     },
     "metadata": {},
     "output_type": "display_data"
    }
   ],
   "source": [
    "nota_redacao_salvador.hist(bins=10)"
   ]
  },
  {
   "cell_type": "code",
   "execution_count": 33,
   "metadata": {},
   "outputs": [
    {
     "data": {
      "text/plain": [
       "array([[<Axes: title={'center': 'NU_NOTA_REDACAO'}>]], dtype=object)"
      ]
     },
     "execution_count": 33,
     "metadata": {},
     "output_type": "execute_result"
    },
    {
     "data": {
      "image/png": "[encoded data removed]",
      "text/plain": [
       "<Figure size 640x480 with 1 Axes>"
      ]
     },
     "metadata": {},
     "output_type": "display_data"
    }
   ],
   "source": [
    "nota_redacao_lauro.hist(bins=10)"
   ]
  },
  {
   "cell_type": "markdown",
   "metadata": {},
   "source": [
    "Ao realizar os cálculos de tendência central para as duas cidade foi possível perceber uma leve vantagem para Lauro de Freitas na nota de redação, mas, vale ressaltar que possui um número de amostras muito menor em relação à Salvador.\n",
    "\n",
    "Ambas são distribuições assimétricas positivas ou à direita, uma vez que a moda é maior que a mediana, e esta, é maior que a média aritmética. \n",
    "\n",
    "Apesar da média aritmética e desvio padrão serem diferentes, ambos possuem coeficientes de variação bem próximos.\n",
    "\n",
    "Ou seja, ambas as cidades não possuem diferença notável entre suas medidas de tendência central, mesmo com números de amostras bem distintos. Entretanto é possível perceber comportamentos diferentes ao plotarmos seus histogramas. "
   ]
  },
  {
   "cell_type": "markdown",
   "metadata": {},
   "source": [
    "# Questao 5 (OK)\n",
    "Escolha uma cidade de escola, faça histogramas sobrepostos da nota de redação dos inscritos por sexo biológico. Faça o mesmo para nota de matemática. O que você observa? Comente.\n"
   ]
  },
  {
   "cell_type": "code",
   "execution_count": 4,
   "metadata": {},
   "outputs": [
    {
     "data": {
      "image/png": "[encoded data removed]",
      "text/plain": [
       "<Figure size 640x480 with 2 Axes>"
      ]
     },
     "metadata": {},
     "output_type": "display_data"
    }
   ],
   "source": [
    "import matplotlib.pyplot as plt\n",
    "for n, nota_prova in enumerate(['NU_NOTA_REDACAO', 'NU_NOTA_MT']):\n",
    "    ax = plt.subplot(1, 2, n+1)\n",
    "    db[db['TP_SEXO'] == 'F'].hist(column = nota_prova, bins = 50, ax = ax, alpha = 0.7, color = 'red')\n",
    "    db[db['TP_SEXO'] == 'M'].hist(column = nota_prova, bins = 50, ax = ax, alpha = 0.7, color = 'blue')\n",
    "    ax.set_title(nota_prova)"
   ]
  },
  {
   "cell_type": "markdown",
   "metadata": {},
   "source": [
    "Os histogramas acima mostra no eixo Y o número de candidatos, e no eixo X a respectiva nota, a cor vermelha foi utilizada para representar o público feminino, e a cor azul o masculino. Através deles é possível perceber que existe um maior número de candidatos do sexo Feminino do que do sexo Masculino.\n",
    "No primeiro histograma está sendo avaliada a nota de redação dos candidatos, no qual o sexo Feminino possui vantagem sobre o público masculino, apresentando melhores notas e maior número de pessoas. A maior nota teve presença dos dois sexos.\n",
    "Já no segundo caso, o sexo masculino possui uma leve vantagem em relação as maiores notas, mesmo com o público feminino tendo maior presença no geral."
   ]
  },
  {
   "cell_type": "markdown",
   "metadata": {},
   "source": [
    "# Questao 6 (OK)\n",
    "Crie um atributo de idade a partir do atributo de faixa etária (adote um critério para selecionar um valor de idade para cada faixa etária). \n",
    "\n",
    "Escolha uma cidade de escola, identifique as 10 faixas de renda familiar com maior número de inscritos. Escolha duas faixas de renda dentre estas. Para cada faixa de renda, determine para o atributo  idade, a mediana (Q2), assim como os quartis de 25% e 75% (Q1 e Q3), além de valores mínimo e máximo. O que você observa? Comente.\n"
   ]
  },
  {
   "cell_type": "code",
   "execution_count": 72,
   "metadata": {},
   "outputs": [
    {
     "data": {
      "text/plain": [
       "Q006\n",
       "B       2658\n",
       "C       1556\n",
       "D       1058\n",
       "E        637\n",
       "G        560\n",
       "H        551\n",
       "A        439\n",
       "F        392\n",
       "Q        348\n",
       "I        219\n",
       "Name: count, dtype: int64"
      ]
     },
     "execution_count": 72,
     "metadata": {},
     "output_type": "execute_result"
    }
   ],
   "source": [
    "db_idade = db.copy()\n",
    "idades = [None, 16, 17, 18, 19, 20, 21, 22, 23, 24, 25, 28, 33, 38, 43, 48, 53, 58, 63, 68, 71]\n",
    "func = lambda idade_v : [idades[idade] for idade in idade_v]\n",
    "db_idade['idade'] = func(db[\"TP_FAIXA_ETARIA\"] )\n",
    "faixas_renda = db_idade[db_idade['NO_MUNICIPIO_ESC'] == \"Salvador\"].get(['Q006']).value_counts()[:10]\n",
    "faixas_renda"
   ]
  },
  {
   "cell_type": "code",
   "execution_count": 77,
   "metadata": {},
   "outputs": [
    {
     "name": "stdout",
     "output_type": "stream",
     "text": [
      "para faixa de renda: B\n"
     ]
    },
    {
     "data": {
      "text/plain": [
       "count    2658.000000\n",
       "mean       18.708804\n",
       "std         3.175260\n",
       "min        16.000000\n",
       "25%        17.000000\n",
       "50%        18.000000\n",
       "75%        19.000000\n",
       "max        63.000000\n",
       "Name: idade, dtype: float64"
      ]
     },
     "metadata": {},
     "output_type": "display_data"
    },
    {
     "name": "stdout",
     "output_type": "stream",
     "text": [
      "para faixa de renda: C\n"
     ]
    },
    {
     "data": {
      "text/plain": [
       "count    1556.000000\n",
       "mean       18.237147\n",
       "std         2.305243\n",
       "min        16.000000\n",
       "25%        17.000000\n",
       "50%        18.000000\n",
       "75%        19.000000\n",
       "max        58.000000\n",
       "Name: idade, dtype: float64"
      ]
     },
     "metadata": {},
     "output_type": "display_data"
    }
   ],
   "source": [
    "for renda in faixas_renda.index[:2]:\n",
    "    print('para faixa de renda:',renda[0])\n",
    "    display(db_idade[(db_idade['NO_MUNICIPIO_ESC'] == \"Salvador\") & (db_idade['Q006'] == renda[0])].get('idade').describe())"
   ]
  },
  {
   "cell_type": "markdown",
   "metadata": {},
   "source": [
    "Foram escolhidas as duas primeiras faixas de renda com maior número de candidatos. Observamos que a idade de ambas as faixas de renda tem idades muito parecidas, obtendo valor bem próximo para a média e os mesmos valores mínimo, Q1, Q2 e Q3. tendo idade media em 18 anos, menor idade sendo na faixa etaria dos 16 anos, Q1 17, Q2 18 e Q3 19, porém para idade maxima na faixa de renda B esta na caso dos 63 anos e renda C na casa dos 58, no desvio padrao B: 3 anos e C: 2 anos.\n",
    "\n",
    "Como parâmetro de definição de definição de idade pelas faixas, foi escolhido o valor médio entre os dois extremos de cada um, e para a primeira e para a última faixa foi escolhido o valor imediatamente antes e depois, respectivamente."
   ]
  },
  {
   "cell_type": "markdown",
   "metadata": {},
   "source": [
    "# Questao 7 (OK)\n",
    "\n",
    "Escolha uma cidade (de escola), faça a tabela de contingência de número de inscritos entre o tipo de escola e o atributo raça/cor. O que você observa? Discuta."
   ]
  },
  {
   "cell_type": "code",
   "execution_count": 49,
   "metadata": {},
   "outputs": [
    {
     "data": {
      "text/html": [
       "<div>\n",
       "<style scoped>\n",
       "    .dataframe tbody tr th:only-of-type {\n",
       "        vertical-align: middle;\n",
       "    }\n",
       "\n",
       "    .dataframe tbody tr th {\n",
       "        vertical-align: top;\n",
       "    }\n",
       "\n",
       "    .dataframe thead th {\n",
       "        text-align: right;\n",
       "    }\n",
       "</style>\n",
       "<table border=\"1\" class=\"dataframe\">\n",
       "  <thead>\n",
       "    <tr style=\"text-align: right;\">\n",
       "      <th>cor_raca</th>\n",
       "      <th>Amarela</th>\n",
       "      <th>Branca</th>\n",
       "      <th>Indígena</th>\n",
       "      <th>Não declarado</th>\n",
       "      <th>Parda</th>\n",
       "      <th>Preta</th>\n",
       "      <th>Total</th>\n",
       "    </tr>\n",
       "    <tr>\n",
       "      <th>escola</th>\n",
       "      <th></th>\n",
       "      <th></th>\n",
       "      <th></th>\n",
       "      <th></th>\n",
       "      <th></th>\n",
       "      <th></th>\n",
       "      <th></th>\n",
       "    </tr>\n",
       "  </thead>\n",
       "  <tbody>\n",
       "    <tr>\n",
       "      <th>Não Respondeu</th>\n",
       "      <td>548</td>\n",
       "      <td>7492</td>\n",
       "      <td>110</td>\n",
       "      <td>750</td>\n",
       "      <td>16872</td>\n",
       "      <td>13854</td>\n",
       "      <td>39626</td>\n",
       "    </tr>\n",
       "    <tr>\n",
       "      <th>Privada</th>\n",
       "      <td>50</td>\n",
       "      <td>1894</td>\n",
       "      <td>7</td>\n",
       "      <td>95</td>\n",
       "      <td>1797</td>\n",
       "      <td>889</td>\n",
       "      <td>4732</td>\n",
       "    </tr>\n",
       "    <tr>\n",
       "      <th>Pública</th>\n",
       "      <td>222</td>\n",
       "      <td>1283</td>\n",
       "      <td>41</td>\n",
       "      <td>198</td>\n",
       "      <td>4328</td>\n",
       "      <td>4174</td>\n",
       "      <td>10246</td>\n",
       "    </tr>\n",
       "    <tr>\n",
       "      <th>Total</th>\n",
       "      <td>820</td>\n",
       "      <td>10669</td>\n",
       "      <td>158</td>\n",
       "      <td>1043</td>\n",
       "      <td>22997</td>\n",
       "      <td>18917</td>\n",
       "      <td>54604</td>\n",
       "    </tr>\n",
       "  </tbody>\n",
       "</table>\n",
       "</div>"
      ],
      "text/plain": [
       "cor_raca       Amarela  Branca  Indígena  Não declarado  Parda  Preta  Total\n",
       "escola                                                                      \n",
       "Não Respondeu      548    7492       110            750  16872  13854  39626\n",
       "Privada             50    1894         7             95   1797    889   4732\n",
       "Pública            222    1283        41            198   4328   4174  10246\n",
       "Total              820   10669       158           1043  22997  18917  54604"
      ]
     },
     "execution_count": 49,
     "metadata": {},
     "output_type": "execute_result"
    }
   ],
   "source": [
    "db_escola_cor_raca = db.copy()\n",
    "\n",
    "escolas = [None, 'Não Respondeu', 'Pública', 'Privada']\n",
    "func = lambda escola_v : [escolas[escola] for escola in escola_v]\n",
    "db_escola_cor_raca['escola'] = func(db[\"TP_ESCOLA\"])\n",
    "\n",
    "cores_racas = ['Não declarado', 'Branca', 'Preta', 'Parda', 'Amarela', 'Indígena']\n",
    "func1 = lambda cor_raca_v : [cores_racas[cor_raca] for cor_raca in cor_raca_v]\n",
    "db_escola_cor_raca['cor_raca'] = func1(db[\"TP_COR_RACA\"])\n",
    "\n",
    "pd.crosstab(db_escola_cor_raca.escola,db_escola_cor_raca.cor_raca, margins = True, margins_name = 'Total')"
   ]
  },
  {
   "cell_type": "markdown",
   "metadata": {},
   "source": [
    "Pelo tabela de contingência pode-se observar que a maioria dos candidatos de Escola Privada são da Cor/Raça Branca e Parda, enquanto que a Escola Pública possui um parcela significativa da Cor/Raça Preta e Parda. A maioria dos candidatos preferiram não informar a sua Escola, com a maioria destes sendo de Cor/Raça Preta e Parda. \n",
    "\n",
    "De forma geral, a maioria dos candidatos são da Cor/Raça Preta e Parda, um reflexo da população de Salvador, cidade escolhida na filtragem dos dados."
   ]
  },
  {
   "cell_type": "markdown",
   "metadata": {},
   "source": [
    "# Questao 8 (OK)\n",
    "Escolha uma cidade (de escola) e duas provas do ENEM. Filtre somente os candidatos desta cidade, e faça um gráfico de dispersão das notas dos candidatos em uma prova (1º eixo) em relação às notas dos candidatos em outra prova (2º eixo). Observe o gráfico e calcule o coeficiente de correlação de Pearson. \n",
    "\n",
    "Repita para mudando a escolha de uma das provas do ENEM (mantenha a outra prova escolhida).\n"
   ]
  },
  {
   "cell_type": "code",
   "execution_count": 78,
   "metadata": {},
   "outputs": [
    {
     "name": "stdout",
     "output_type": "stream",
     "text": [
      "Grafico de dispersao usando metodo de pearson\n"
     ]
    },
    {
     "data": {
      "text/html": [
       "<div>\n",
       "<style scoped>\n",
       "    .dataframe tbody tr th:only-of-type {\n",
       "        vertical-align: middle;\n",
       "    }\n",
       "\n",
       "    .dataframe tbody tr th {\n",
       "        vertical-align: top;\n",
       "    }\n",
       "\n",
       "    .dataframe thead th {\n",
       "        text-align: right;\n",
       "    }\n",
       "</style>\n",
       "<table border=\"1\" class=\"dataframe\">\n",
       "  <thead>\n",
       "    <tr style=\"text-align: right;\">\n",
       "      <th></th>\n",
       "      <th>NU_NOTA_CH</th>\n",
       "      <th>NU_NOTA_CN</th>\n",
       "      <th>NU_NOTA_MT</th>\n",
       "      <th>NU_NOTA_LC</th>\n",
       "    </tr>\n",
       "  </thead>\n",
       "  <tbody>\n",
       "    <tr>\n",
       "      <th>NU_NOTA_CH</th>\n",
       "      <td>1.000000</td>\n",
       "      <td>0.626437</td>\n",
       "      <td>0.643865</td>\n",
       "      <td>0.735133</td>\n",
       "    </tr>\n",
       "    <tr>\n",
       "      <th>NU_NOTA_CN</th>\n",
       "      <td>0.626437</td>\n",
       "      <td>1.000000</td>\n",
       "      <td>0.625249</td>\n",
       "      <td>0.589423</td>\n",
       "    </tr>\n",
       "    <tr>\n",
       "      <th>NU_NOTA_MT</th>\n",
       "      <td>0.643865</td>\n",
       "      <td>0.625249</td>\n",
       "      <td>1.000000</td>\n",
       "      <td>0.594905</td>\n",
       "    </tr>\n",
       "    <tr>\n",
       "      <th>NU_NOTA_LC</th>\n",
       "      <td>0.735133</td>\n",
       "      <td>0.589423</td>\n",
       "      <td>0.594905</td>\n",
       "      <td>1.000000</td>\n",
       "    </tr>\n",
       "  </tbody>\n",
       "</table>\n",
       "</div>"
      ],
      "text/plain": [
       "            NU_NOTA_CH  NU_NOTA_CN  NU_NOTA_MT  NU_NOTA_LC\n",
       "NU_NOTA_CH    1.000000    0.626437    0.643865    0.735133\n",
       "NU_NOTA_CN    0.626437    1.000000    0.625249    0.589423\n",
       "NU_NOTA_MT    0.643865    0.625249    1.000000    0.594905\n",
       "NU_NOTA_LC    0.735133    0.589423    0.594905    1.000000"
      ]
     },
     "metadata": {},
     "output_type": "display_data"
    },
    {
     "data": {
      "text/plain": [
       "<Axes: xlabel='NU_NOTA_CH', ylabel='NU_NOTA_LC'>"
      ]
     },
     "execution_count": 78,
     "metadata": {},
     "output_type": "execute_result"
    },
    {
     "data": {
      "image/png": "[encoded data removed]",
      "text/plain": [
       "<Figure size 640x480 with 1 Axes>"
      ]
     },
     "metadata": {},
     "output_type": "display_data"
    },
    {
     "data": {
      "image/png": "[encoded data removed]",
      "text/plain": [
       "<Figure size 640x480 with 1 Axes>"
      ]
     },
     "metadata": {},
     "output_type": "display_data"
    }
   ],
   "source": [
    "db_notas = db_idade[db_idade['NO_MUNICIPIO_ESC'] == \"Salvador\"].get(['NU_NOTA_CH','NU_NOTA_CN','NU_NOTA_MT', 'NU_NOTA_LC'])\n",
    "db_notas.plot.scatter(x='NU_NOTA_CH',y='NU_NOTA_MT')\n",
    "print('Grafico de dispersao usando metodo de pearson')\n",
    "display(db_notas.corr(method='pearson'))\n",
    "db_notas.plot.scatter(x='NU_NOTA_CH',y='NU_NOTA_LC')"
   ]
  },
  {
   "cell_type": "markdown",
   "metadata": {},
   "source": [
    "Em ambos os gráficos pode-se observar uma relação linear entre os 2 eixos, porém o segundo gráfico(NU_NOTA_CH x NU_NOTA_LC) mostra uma relação mais forte entre eles, como pode ser observado pela relação de pearson. Ou seja, de modo geral candidatos com maiores notas em NU_NOTA_CH apresentam melhores notas em NU_NOTA_LC.\n",
    "\n",
    "Os pontos com nota 0 entende-se que sao pessoas que nao realizaram as provas."
   ]
  },
  {
   "cell_type": "markdown",
   "metadata": {},
   "source": [
    "# Questao 9 (OK)\n",
    "\n",
    "Faça uma análise da relação entre renda mensal familiar e as notas nas provas do ENEM. Defina e justifique seu método de análise. Discuta os resultados."
   ]
  },
  {
   "cell_type": "code",
   "execution_count": 79,
   "metadata": {},
   "outputs": [
    {
     "name": "stdout",
     "output_type": "stream",
     "text": [
      "Tabela com media de nota por prova para classe de renda\n"
     ]
    },
    {
     "data": {
      "text/html": [
       "<div>\n",
       "<style scoped>\n",
       "    .dataframe tbody tr th:only-of-type {\n",
       "        vertical-align: middle;\n",
       "    }\n",
       "\n",
       "    .dataframe tbody tr th {\n",
       "        vertical-align: top;\n",
       "    }\n",
       "\n",
       "    .dataframe thead th {\n",
       "        text-align: right;\n",
       "    }\n",
       "</style>\n",
       "<table border=\"1\" class=\"dataframe\">\n",
       "  <thead>\n",
       "    <tr style=\"text-align: right;\">\n",
       "      <th></th>\n",
       "      <th>NU_NOTA_REDACAO</th>\n",
       "      <th>NU_NOTA_CN</th>\n",
       "      <th>NU_NOTA_CH</th>\n",
       "      <th>NU_NOTA_LC</th>\n",
       "      <th>NU_NOTA_MT</th>\n",
       "      <th>Total</th>\n",
       "    </tr>\n",
       "    <tr>\n",
       "      <th>Q006</th>\n",
       "      <th></th>\n",
       "      <th></th>\n",
       "      <th></th>\n",
       "      <th></th>\n",
       "      <th></th>\n",
       "      <th></th>\n",
       "    </tr>\n",
       "  </thead>\n",
       "  <tbody>\n",
       "    <tr>\n",
       "      <th>A</th>\n",
       "      <td>515.525253</td>\n",
       "      <td>469.034323</td>\n",
       "      <td>495.243434</td>\n",
       "      <td>483.303737</td>\n",
       "      <td>478.281793</td>\n",
       "      <td>488.277708</td>\n",
       "    </tr>\n",
       "    <tr>\n",
       "      <th>B</th>\n",
       "      <td>563.350899</td>\n",
       "      <td>475.469919</td>\n",
       "      <td>508.632070</td>\n",
       "      <td>502.784826</td>\n",
       "      <td>496.051686</td>\n",
       "      <td>509.257880</td>\n",
       "    </tr>\n",
       "    <tr>\n",
       "      <th>C</th>\n",
       "      <td>598.276914</td>\n",
       "      <td>488.086528</td>\n",
       "      <td>523.846722</td>\n",
       "      <td>518.043413</td>\n",
       "      <td>520.755738</td>\n",
       "      <td>529.801863</td>\n",
       "    </tr>\n",
       "    <tr>\n",
       "      <th>D</th>\n",
       "      <td>625.392066</td>\n",
       "      <td>498.104110</td>\n",
       "      <td>533.813423</td>\n",
       "      <td>526.615844</td>\n",
       "      <td>535.033897</td>\n",
       "      <td>543.791868</td>\n",
       "    </tr>\n",
       "    <tr>\n",
       "      <th>E</th>\n",
       "      <td>654.101276</td>\n",
       "      <td>508.629023</td>\n",
       "      <td>545.878779</td>\n",
       "      <td>537.232857</td>\n",
       "      <td>553.831374</td>\n",
       "      <td>559.934662</td>\n",
       "    </tr>\n",
       "    <tr>\n",
       "      <th>F</th>\n",
       "      <td>674.641564</td>\n",
       "      <td>520.119076</td>\n",
       "      <td>556.998262</td>\n",
       "      <td>547.516437</td>\n",
       "      <td>570.322483</td>\n",
       "      <td>573.919565</td>\n",
       "    </tr>\n",
       "    <tr>\n",
       "      <th>G</th>\n",
       "      <td>700.062500</td>\n",
       "      <td>527.457774</td>\n",
       "      <td>565.879323</td>\n",
       "      <td>553.538802</td>\n",
       "      <td>588.786743</td>\n",
       "      <td>587.145028</td>\n",
       "    </tr>\n",
       "    <tr>\n",
       "      <th>H</th>\n",
       "      <td>723.046218</td>\n",
       "      <td>535.641900</td>\n",
       "      <td>574.616807</td>\n",
       "      <td>562.206092</td>\n",
       "      <td>597.158814</td>\n",
       "      <td>598.533966</td>\n",
       "    </tr>\n",
       "    <tr>\n",
       "      <th>I</th>\n",
       "      <td>734.846336</td>\n",
       "      <td>552.191811</td>\n",
       "      <td>580.022459</td>\n",
       "      <td>564.448936</td>\n",
       "      <td>617.401365</td>\n",
       "      <td>609.782181</td>\n",
       "    </tr>\n",
       "    <tr>\n",
       "      <th>J</th>\n",
       "      <td>740.209581</td>\n",
       "      <td>546.581493</td>\n",
       "      <td>583.832934</td>\n",
       "      <td>569.595210</td>\n",
       "      <td>624.984292</td>\n",
       "      <td>613.040702</td>\n",
       "    </tr>\n",
       "    <tr>\n",
       "      <th>K</th>\n",
       "      <td>752.141527</td>\n",
       "      <td>554.168155</td>\n",
       "      <td>591.233520</td>\n",
       "      <td>574.316760</td>\n",
       "      <td>631.254369</td>\n",
       "      <td>620.622866</td>\n",
       "    </tr>\n",
       "    <tr>\n",
       "      <th>L</th>\n",
       "      <td>757.444934</td>\n",
       "      <td>552.514568</td>\n",
       "      <td>587.596035</td>\n",
       "      <td>573.362555</td>\n",
       "      <td>634.516237</td>\n",
       "      <td>621.086866</td>\n",
       "    </tr>\n",
       "    <tr>\n",
       "      <th>M</th>\n",
       "      <td>756.651852</td>\n",
       "      <td>559.181102</td>\n",
       "      <td>589.367259</td>\n",
       "      <td>575.305778</td>\n",
       "      <td>637.301575</td>\n",
       "      <td>623.561513</td>\n",
       "    </tr>\n",
       "    <tr>\n",
       "      <th>N</th>\n",
       "      <td>771.521368</td>\n",
       "      <td>560.711150</td>\n",
       "      <td>598.872308</td>\n",
       "      <td>579.455385</td>\n",
       "      <td>649.590973</td>\n",
       "      <td>632.030237</td>\n",
       "    </tr>\n",
       "    <tr>\n",
       "      <th>O</th>\n",
       "      <td>780.244275</td>\n",
       "      <td>561.630171</td>\n",
       "      <td>598.333740</td>\n",
       "      <td>581.349618</td>\n",
       "      <td>654.677760</td>\n",
       "      <td>635.247113</td>\n",
       "    </tr>\n",
       "    <tr>\n",
       "      <th>P</th>\n",
       "      <td>778.998384</td>\n",
       "      <td>571.498469</td>\n",
       "      <td>602.055250</td>\n",
       "      <td>584.180775</td>\n",
       "      <td>661.589456</td>\n",
       "      <td>639.664467</td>\n",
       "    </tr>\n",
       "    <tr>\n",
       "      <th>Q</th>\n",
       "      <td>794.393771</td>\n",
       "      <td>568.640809</td>\n",
       "      <td>601.654839</td>\n",
       "      <td>586.365740</td>\n",
       "      <td>672.832254</td>\n",
       "      <td>644.777483</td>\n",
       "    </tr>\n",
       "  </tbody>\n",
       "</table>\n",
       "</div>"
      ],
      "text/plain": [
       "      NU_NOTA_REDACAO  NU_NOTA_CN  NU_NOTA_CH  NU_NOTA_LC  NU_NOTA_MT  \\\n",
       "Q006                                                                    \n",
       "A          515.525253  469.034323  495.243434  483.303737  478.281793   \n",
       "B          563.350899  475.469919  508.632070  502.784826  496.051686   \n",
       "C          598.276914  488.086528  523.846722  518.043413  520.755738   \n",
       "D          625.392066  498.104110  533.813423  526.615844  535.033897   \n",
       "E          654.101276  508.629023  545.878779  537.232857  553.831374   \n",
       "F          674.641564  520.119076  556.998262  547.516437  570.322483   \n",
       "G          700.062500  527.457774  565.879323  553.538802  588.786743   \n",
       "H          723.046218  535.641900  574.616807  562.206092  597.158814   \n",
       "I          734.846336  552.191811  580.022459  564.448936  617.401365   \n",
       "J          740.209581  546.581493  583.832934  569.595210  624.984292   \n",
       "K          752.141527  554.168155  591.233520  574.316760  631.254369   \n",
       "L          757.444934  552.514568  587.596035  573.362555  634.516237   \n",
       "M          756.651852  559.181102  589.367259  575.305778  637.301575   \n",
       "N          771.521368  560.711150  598.872308  579.455385  649.590973   \n",
       "O          780.244275  561.630171  598.333740  581.349618  654.677760   \n",
       "P          778.998384  571.498469  602.055250  584.180775  661.589456   \n",
       "Q          794.393771  568.640809  601.654839  586.365740  672.832254   \n",
       "\n",
       "           Total  \n",
       "Q006              \n",
       "A     488.277708  \n",
       "B     509.257880  \n",
       "C     529.801863  \n",
       "D     543.791868  \n",
       "E     559.934662  \n",
       "F     573.919565  \n",
       "G     587.145028  \n",
       "H     598.533966  \n",
       "I     609.782181  \n",
       "J     613.040702  \n",
       "K     620.622866  \n",
       "L     621.086866  \n",
       "M     623.561513  \n",
       "N     632.030237  \n",
       "O     635.247113  \n",
       "P     639.664467  \n",
       "Q     644.777483  "
      ]
     },
     "execution_count": 79,
     "metadata": {},
     "output_type": "execute_result"
    }
   ],
   "source": [
    "print('Tabela com média de nota por prova para classe de renda:')\n",
    "db_notas = db.get(['Q006','NU_NOTA_REDACAO','NU_NOTA_CN', 'NU_NOTA_CH', 'NU_NOTA_LC', 'NU_NOTA_MT']).groupby('Q006').mean()\n",
    "db_notas['Total'] = (db_notas['NU_NOTA_CH'] + db_notas['NU_NOTA_CN'] + db_notas['NU_NOTA_LC'] + db_notas['NU_NOTA_MT'] + db_notas['NU_NOTA_REDACAO'])/5\n",
    "db_notas"
   ]
  },
  {
   "cell_type": "code",
   "execution_count": 67,
   "metadata": {},
   "outputs": [
    {
     "data": {
      "text/plain": [
       "<Axes: xlabel='Q006'>"
      ]
     },
     "execution_count": 67,
     "metadata": {},
     "output_type": "execute_result"
    },
    {
     "data": {
      "image/png": "[encoded data removed]",
      "text/plain": [
       "<Figure size 640x480 with 1 Axes>"
      ]
     },
     "metadata": {},
     "output_type": "display_data"
    }
   ],
   "source": [
    "\n",
    "db_notas['Total'].plot.bar()"
   ]
  },
  {
   "cell_type": "markdown",
   "metadata": {},
   "source": [
    "Para esta análise foram agrupados os candidatos de acordo com a renda familiar e calculado a média de cada uma das provas por agrupamento, levando em conta as 4 provas objetivas e a redação. Depois foi definida a nota media geral para cada agrupamento ou faixa de renda familiar, a partir das 5 médias de notas calculadas anteriormente.\n",
    "Com a média geral de cada faixa de renda familiar foi feita a plotagem de um gráfico pelo qual possibilitou observar uma tendência, quanto maior a faixa de renda do candidato, maior a sua média geral.\n",
    "\n",
    "A média foi escolhida pois representa de forma geral em um único valor a partir de uma grande gama de valores."
   ]
  },
  {
   "cell_type": "markdown",
   "metadata": {},
   "source": [
    "# Questao 10\n",
    "Agora é com você, crie mais uma pergunta relevante (pense como um jornalista investigativo) que possa ser respondida com este conjunto de dados. Justifique a relevância de sua pergunta, faça sua análise de dados e discuta a sua resposta escrita.\n",
    "\n",
    "Na época em que vivemos, o acesso à internet, computador e televisão é algo normal para a maioria da população, que não vive sem. Pensando nisso, esses acessos às tecnologias apresentam alguma contribuição na nota dos candidatos? O acesso à internet é um fator tão determinante assim para as notas?"
   ]
  },
  {
   "cell_type": "code",
   "execution_count": 8,
   "metadata": {},
   "outputs": [
    {
     "data": {
      "text/html": [
       "<div>\n",
       "<style scoped>\n",
       "    .dataframe tbody tr th:only-of-type {\n",
       "        vertical-align: middle;\n",
       "    }\n",
       "\n",
       "    .dataframe tbody tr th {\n",
       "        vertical-align: top;\n",
       "    }\n",
       "\n",
       "    .dataframe thead th {\n",
       "        text-align: right;\n",
       "    }\n",
       "</style>\n",
       "<table border=\"1\" class=\"dataframe\">\n",
       "  <thead>\n",
       "    <tr style=\"text-align: right;\">\n",
       "      <th></th>\n",
       "      <th>NU_NOTA_REDACAO</th>\n",
       "      <th>NU_NOTA_CN</th>\n",
       "      <th>NU_NOTA_CH</th>\n",
       "      <th>NU_NOTA_LC</th>\n",
       "      <th>NU_NOTA_MT</th>\n",
       "      <th>Total</th>\n",
       "    </tr>\n",
       "    <tr>\n",
       "      <th>Q025</th>\n",
       "      <th></th>\n",
       "      <th></th>\n",
       "      <th></th>\n",
       "      <th></th>\n",
       "      <th></th>\n",
       "      <th></th>\n",
       "    </tr>\n",
       "  </thead>\n",
       "  <tbody>\n",
       "    <tr>\n",
       "      <th>A</th>\n",
       "      <td>526.761730</td>\n",
       "      <td>471.975500</td>\n",
       "      <td>499.709706</td>\n",
       "      <td>489.003404</td>\n",
       "      <td>488.557750</td>\n",
       "      <td>495.201618</td>\n",
       "    </tr>\n",
       "    <tr>\n",
       "      <th>B</th>\n",
       "      <td>636.283732</td>\n",
       "      <td>504.467671</td>\n",
       "      <td>539.136059</td>\n",
       "      <td>530.380231</td>\n",
       "      <td>546.874482</td>\n",
       "      <td>551.428435</td>\n",
       "    </tr>\n",
       "  </tbody>\n",
       "</table>\n",
       "</div>"
      ],
      "text/plain": [
       "      NU_NOTA_REDACAO  NU_NOTA_CN  NU_NOTA_CH  NU_NOTA_LC  NU_NOTA_MT  \\\n",
       "Q025                                                                    \n",
       "A          526.761730  471.975500  499.709706  489.003404  488.557750   \n",
       "B          636.283732  504.467671  539.136059  530.380231  546.874482   \n",
       "\n",
       "           Total  \n",
       "Q025              \n",
       "A     495.201618  \n",
       "B     551.428435  "
      ]
     },
     "execution_count": 8,
     "metadata": {},
     "output_type": "execute_result"
    }
   ],
   "source": [
    "db_notas = db.get(['Q025', 'NU_NOTA_REDACAO', 'NU_NOTA_CN', 'NU_NOTA_CH', 'NU_NOTA_LC', 'NU_NOTA_MT']).groupby('Q025').mean()\n",
    "db_notas['Total'] = (db_notas['NU_NOTA_CH'] + db_notas['NU_NOTA_CN'] + db_notas['NU_NOTA_LC'] + db_notas['NU_NOTA_MT'] + db_notas['NU_NOTA_REDACAO']) / 5\n",
    "db_notas"
   ]
  },
  {
   "cell_type": "markdown",
   "metadata": {},
   "source": [
    "Na tabela acima tem-se A indicando que não tem acesso à internet e B indicando o acesso. Nele é possível perceber que para todas as provas a média das notas dos candidatos com acesso à internet é maior do que os que não possuem tal acesso. Vale descatar a nota de redação, possuindo a maior diferença entre as duas médias."
   ]
  },
  {
   "cell_type": "code",
   "execution_count": 9,
   "metadata": {},
   "outputs": [
    {
     "data": {
      "text/html": [
       "<div>\n",
       "<style scoped>\n",
       "    .dataframe tbody tr th:only-of-type {\n",
       "        vertical-align: middle;\n",
       "    }\n",
       "\n",
       "    .dataframe tbody tr th {\n",
       "        vertical-align: top;\n",
       "    }\n",
       "\n",
       "    .dataframe thead th {\n",
       "        text-align: right;\n",
       "    }\n",
       "</style>\n",
       "<table border=\"1\" class=\"dataframe\">\n",
       "  <thead>\n",
       "    <tr style=\"text-align: right;\">\n",
       "      <th></th>\n",
       "      <th>NU_NOTA_REDACAO</th>\n",
       "      <th>NU_NOTA_CN</th>\n",
       "      <th>NU_NOTA_CH</th>\n",
       "      <th>NU_NOTA_LC</th>\n",
       "      <th>NU_NOTA_MT</th>\n",
       "      <th>Total</th>\n",
       "    </tr>\n",
       "    <tr>\n",
       "      <th>Q021</th>\n",
       "      <th></th>\n",
       "      <th></th>\n",
       "      <th></th>\n",
       "      <th></th>\n",
       "      <th></th>\n",
       "      <th></th>\n",
       "    </tr>\n",
       "  </thead>\n",
       "  <tbody>\n",
       "    <tr>\n",
       "      <th>A</th>\n",
       "      <td>608.941686</td>\n",
       "      <td>495.235407</td>\n",
       "      <td>529.178121</td>\n",
       "      <td>520.996674</td>\n",
       "      <td>530.017786</td>\n",
       "      <td>536.873935</td>\n",
       "    </tr>\n",
       "    <tr>\n",
       "      <th>B</th>\n",
       "      <td>702.650410</td>\n",
       "      <td>527.994493</td>\n",
       "      <td>563.421023</td>\n",
       "      <td>552.217890</td>\n",
       "      <td>590.072429</td>\n",
       "      <td>587.271249</td>\n",
       "    </tr>\n",
       "  </tbody>\n",
       "</table>\n",
       "</div>"
      ],
      "text/plain": [
       "      NU_NOTA_REDACAO  NU_NOTA_CN  NU_NOTA_CH  NU_NOTA_LC  NU_NOTA_MT  \\\n",
       "Q021                                                                    \n",
       "A          608.941686  495.235407  529.178121  520.996674  530.017786   \n",
       "B          702.650410  527.994493  563.421023  552.217890  590.072429   \n",
       "\n",
       "           Total  \n",
       "Q021              \n",
       "A     536.873935  \n",
       "B     587.271249  "
      ]
     },
     "execution_count": 9,
     "metadata": {},
     "output_type": "execute_result"
    }
   ],
   "source": [
    "db_notas = db.get(['Q021', 'NU_NOTA_REDACAO','NU_NOTA_CN', 'NU_NOTA_CH', 'NU_NOTA_LC', 'NU_NOTA_MT']).groupby('Q021').mean()\n",
    "db_notas['Total'] = (db_notas['NU_NOTA_CH'] + db_notas['NU_NOTA_CN'] + db_notas['NU_NOTA_LC'] + db_notas['NU_NOTA_MT'] + db_notas['NU_NOTA_REDACAO']) / 5\n",
    "db_notas"
   ]
  },
  {
   "cell_type": "markdown",
   "metadata": {},
   "source": [
    "Na tabela acima tem-se A indicando a ausência da TV por assinatura e B indicando a presença. Também é possível perceber o mesmo fenômeno da tabela anterior, na qual, a média do candidatos que contam com a presença de tal tecnologia é maior para todas as notas, em relação aos que não possuem."
   ]
  },
  {
   "cell_type": "code",
   "execution_count": 11,
   "metadata": {},
   "outputs": [
    {
     "data": {
      "text/html": [
       "<div>\n",
       "<style scoped>\n",
       "    .dataframe tbody tr th:only-of-type {\n",
       "        vertical-align: middle;\n",
       "    }\n",
       "\n",
       "    .dataframe tbody tr th {\n",
       "        vertical-align: top;\n",
       "    }\n",
       "\n",
       "    .dataframe thead th {\n",
       "        text-align: right;\n",
       "    }\n",
       "</style>\n",
       "<table border=\"1\" class=\"dataframe\">\n",
       "  <thead>\n",
       "    <tr style=\"text-align: right;\">\n",
       "      <th>Q025</th>\n",
       "      <th>A</th>\n",
       "      <th>B</th>\n",
       "      <th>Total</th>\n",
       "    </tr>\n",
       "    <tr>\n",
       "      <th>Q006</th>\n",
       "      <th></th>\n",
       "      <th></th>\n",
       "      <th></th>\n",
       "    </tr>\n",
       "  </thead>\n",
       "  <tbody>\n",
       "    <tr>\n",
       "      <th>A</th>\n",
       "      <td>884</td>\n",
       "      <td>2511</td>\n",
       "      <td>3395</td>\n",
       "    </tr>\n",
       "    <tr>\n",
       "      <th>B</th>\n",
       "      <td>1948</td>\n",
       "      <td>16241</td>\n",
       "      <td>18189</td>\n",
       "    </tr>\n",
       "    <tr>\n",
       "      <th>C</th>\n",
       "      <td>450</td>\n",
       "      <td>9185</td>\n",
       "      <td>9635</td>\n",
       "    </tr>\n",
       "    <tr>\n",
       "      <th>D</th>\n",
       "      <td>138</td>\n",
       "      <td>5811</td>\n",
       "      <td>5949</td>\n",
       "    </tr>\n",
       "    <tr>\n",
       "      <th>E</th>\n",
       "      <td>68</td>\n",
       "      <td>3357</td>\n",
       "      <td>3425</td>\n",
       "    </tr>\n",
       "    <tr>\n",
       "      <th>F</th>\n",
       "      <td>27</td>\n",
       "      <td>1809</td>\n",
       "      <td>1836</td>\n",
       "    </tr>\n",
       "    <tr>\n",
       "      <th>G</th>\n",
       "      <td>21</td>\n",
       "      <td>2386</td>\n",
       "      <td>2407</td>\n",
       "    </tr>\n",
       "    <tr>\n",
       "      <th>H</th>\n",
       "      <td>13</td>\n",
       "      <td>2379</td>\n",
       "      <td>2392</td>\n",
       "    </tr>\n",
       "    <tr>\n",
       "      <th>I</th>\n",
       "      <td>4</td>\n",
       "      <td>1034</td>\n",
       "      <td>1038</td>\n",
       "    </tr>\n",
       "    <tr>\n",
       "      <th>J</th>\n",
       "      <td>3</td>\n",
       "      <td>789</td>\n",
       "      <td>792</td>\n",
       "    </tr>\n",
       "    <tr>\n",
       "      <th>K</th>\n",
       "      <td>1</td>\n",
       "      <td>633</td>\n",
       "      <td>634</td>\n",
       "    </tr>\n",
       "    <tr>\n",
       "      <th>L</th>\n",
       "      <td>5</td>\n",
       "      <td>812</td>\n",
       "      <td>817</td>\n",
       "    </tr>\n",
       "    <tr>\n",
       "      <th>M</th>\n",
       "      <td>4</td>\n",
       "      <td>809</td>\n",
       "      <td>813</td>\n",
       "    </tr>\n",
       "    <tr>\n",
       "      <th>N</th>\n",
       "      <td>1</td>\n",
       "      <td>680</td>\n",
       "      <td>681</td>\n",
       "    </tr>\n",
       "    <tr>\n",
       "      <th>O</th>\n",
       "      <td>2</td>\n",
       "      <td>792</td>\n",
       "      <td>794</td>\n",
       "    </tr>\n",
       "    <tr>\n",
       "      <th>P</th>\n",
       "      <td>1</td>\n",
       "      <td>736</td>\n",
       "      <td>737</td>\n",
       "    </tr>\n",
       "    <tr>\n",
       "      <th>Q</th>\n",
       "      <td>2</td>\n",
       "      <td>1068</td>\n",
       "      <td>1070</td>\n",
       "    </tr>\n",
       "    <tr>\n",
       "      <th>Total</th>\n",
       "      <td>3572</td>\n",
       "      <td>51032</td>\n",
       "      <td>54604</td>\n",
       "    </tr>\n",
       "  </tbody>\n",
       "</table>\n",
       "</div>"
      ],
      "text/plain": [
       "Q025      A      B  Total\n",
       "Q006                     \n",
       "A       884   2511   3395\n",
       "B      1948  16241  18189\n",
       "C       450   9185   9635\n",
       "D       138   5811   5949\n",
       "E        68   3357   3425\n",
       "F        27   1809   1836\n",
       "G        21   2386   2407\n",
       "H        13   2379   2392\n",
       "I         4   1034   1038\n",
       "J         3    789    792\n",
       "K         1    633    634\n",
       "L         5    812    817\n",
       "M         4    809    813\n",
       "N         1    680    681\n",
       "O         2    792    794\n",
       "P         1    736    737\n",
       "Q         2   1068   1070\n",
       "Total  3572  51032  54604"
      ]
     },
     "execution_count": 11,
     "metadata": {},
     "output_type": "execute_result"
    }
   ],
   "source": [
    "pd.crosstab(db.Q006, db.Q025, margins = True, margins_name = 'Total')"
   ]
  },
  {
   "cell_type": "markdown",
   "metadata": {},
   "source": [
    "A partir dessa tabela de contingência é visto que a maior parcela da população que não tem acesso à internet está localizada nas faixas de renda mais baixas. Cerca de 92% dos que não possuem o acesso estão localizadas nas 3 faixas etárias mais baixas."
   ]
  },
  {
   "cell_type": "code",
   "execution_count": 13,
   "metadata": {},
   "outputs": [
    {
     "data": {
      "text/html": [
       "<div>\n",
       "<style scoped>\n",
       "    .dataframe tbody tr th:only-of-type {\n",
       "        vertical-align: middle;\n",
       "    }\n",
       "\n",
       "    .dataframe tbody tr th {\n",
       "        vertical-align: top;\n",
       "    }\n",
       "\n",
       "    .dataframe thead th {\n",
       "        text-align: right;\n",
       "    }\n",
       "</style>\n",
       "<table border=\"1\" class=\"dataframe\">\n",
       "  <thead>\n",
       "    <tr style=\"text-align: right;\">\n",
       "      <th></th>\n",
       "      <th></th>\n",
       "      <th>NU_NOTA_REDACAO</th>\n",
       "      <th>NU_NOTA_CN</th>\n",
       "      <th>NU_NOTA_CH</th>\n",
       "      <th>NU_NOTA_LC</th>\n",
       "      <th>NU_NOTA_MT</th>\n",
       "      <th>Total</th>\n",
       "    </tr>\n",
       "    <tr>\n",
       "      <th>Q006</th>\n",
       "      <th>Q025</th>\n",
       "      <th></th>\n",
       "      <th></th>\n",
       "      <th></th>\n",
       "      <th></th>\n",
       "      <th></th>\n",
       "      <th></th>\n",
       "    </tr>\n",
       "  </thead>\n",
       "  <tbody>\n",
       "    <tr>\n",
       "      <th rowspan=\"2\" valign=\"top\">A</th>\n",
       "      <th>A</th>\n",
       "      <td>491.509054</td>\n",
       "      <td>465.184564</td>\n",
       "      <td>491.959759</td>\n",
       "      <td>474.117907</td>\n",
       "      <td>469.154586</td>\n",
       "      <td>478.385174</td>\n",
       "    </tr>\n",
       "    <tr>\n",
       "      <th>B</th>\n",
       "      <td>523.573837</td>\n",
       "      <td>470.289497</td>\n",
       "      <td>496.343898</td>\n",
       "      <td>486.382198</td>\n",
       "      <td>481.257622</td>\n",
       "      <td>491.569410</td>\n",
       "    </tr>\n",
       "    <tr>\n",
       "      <th rowspan=\"2\" valign=\"top\">B</th>\n",
       "      <th>A</th>\n",
       "      <td>525.218121</td>\n",
       "      <td>468.080874</td>\n",
       "      <td>494.945973</td>\n",
       "      <td>486.760403</td>\n",
       "      <td>482.897632</td>\n",
       "      <td>491.580601</td>\n",
       "    </tr>\n",
       "    <tr>\n",
       "      <th>B</th>\n",
       "      <td>567.574096</td>\n",
       "      <td>476.277039</td>\n",
       "      <td>510.147803</td>\n",
       "      <td>504.559528</td>\n",
       "      <td>497.488530</td>\n",
       "      <td>511.209399</td>\n",
       "    </tr>\n",
       "    <tr>\n",
       "      <th rowspan=\"2\" valign=\"top\">C</th>\n",
       "      <th>A</th>\n",
       "      <td>557.923875</td>\n",
       "      <td>476.447212</td>\n",
       "      <td>511.543945</td>\n",
       "      <td>504.777509</td>\n",
       "      <td>508.582528</td>\n",
       "      <td>511.855014</td>\n",
       "    </tr>\n",
       "    <tr>\n",
       "      <th>B</th>\n",
       "      <td>600.137183</td>\n",
       "      <td>488.613274</td>\n",
       "      <td>524.413878</td>\n",
       "      <td>518.654969</td>\n",
       "      <td>521.306645</td>\n",
       "      <td>530.625190</td>\n",
       "    </tr>\n",
       "    <tr>\n",
       "      <th rowspan=\"2\" valign=\"top\">D</th>\n",
       "      <th>A</th>\n",
       "      <td>539.080460</td>\n",
       "      <td>489.606329</td>\n",
       "      <td>513.759770</td>\n",
       "      <td>508.573563</td>\n",
       "      <td>520.727848</td>\n",
       "      <td>514.349594</td>\n",
       "    </tr>\n",
       "    <tr>\n",
       "      <th>B</th>\n",
       "      <td>627.159332</td>\n",
       "      <td>498.269583</td>\n",
       "      <td>534.224029</td>\n",
       "      <td>526.985267</td>\n",
       "      <td>535.312472</td>\n",
       "      <td>544.390137</td>\n",
       "    </tr>\n",
       "    <tr>\n",
       "      <th rowspan=\"2\" valign=\"top\">E</th>\n",
       "      <th>A</th>\n",
       "      <td>585.333333</td>\n",
       "      <td>515.165909</td>\n",
       "      <td>536.697778</td>\n",
       "      <td>503.626667</td>\n",
       "      <td>536.581818</td>\n",
       "      <td>535.481101</td>\n",
       "    </tr>\n",
       "    <tr>\n",
       "      <th>B</th>\n",
       "      <td>655.318647</td>\n",
       "      <td>508.510318</td>\n",
       "      <td>546.041306</td>\n",
       "      <td>537.827773</td>\n",
       "      <td>554.144614</td>\n",
       "      <td>560.368532</td>\n",
       "    </tr>\n",
       "    <tr>\n",
       "      <th rowspan=\"2\" valign=\"top\">F</th>\n",
       "      <th>A</th>\n",
       "      <td>547.272727</td>\n",
       "      <td>505.977273</td>\n",
       "      <td>532.650000</td>\n",
       "      <td>513.722727</td>\n",
       "      <td>533.109091</td>\n",
       "      <td>526.546364</td>\n",
       "    </tr>\n",
       "    <tr>\n",
       "      <th>B</th>\n",
       "      <td>676.703458</td>\n",
       "      <td>520.358584</td>\n",
       "      <td>557.392421</td>\n",
       "      <td>548.063503</td>\n",
       "      <td>570.952733</td>\n",
       "      <td>574.694140</td>\n",
       "    </tr>\n",
       "    <tr>\n",
       "      <th rowspan=\"2\" valign=\"top\">G</th>\n",
       "      <th>A</th>\n",
       "      <td>634.444444</td>\n",
       "      <td>511.327778</td>\n",
       "      <td>554.455556</td>\n",
       "      <td>548.844444</td>\n",
       "      <td>551.155556</td>\n",
       "      <td>560.045556</td>\n",
       "    </tr>\n",
       "    <tr>\n",
       "      <th>B</th>\n",
       "      <td>700.683491</td>\n",
       "      <td>527.617741</td>\n",
       "      <td>565.987434</td>\n",
       "      <td>553.583228</td>\n",
       "      <td>589.159945</td>\n",
       "      <td>587.406368</td>\n",
       "    </tr>\n",
       "    <tr>\n",
       "      <th rowspan=\"2\" valign=\"top\">H</th>\n",
       "      <th>A</th>\n",
       "      <td>620.000000</td>\n",
       "      <td>487.833333</td>\n",
       "      <td>546.871429</td>\n",
       "      <td>517.600000</td>\n",
       "      <td>525.433333</td>\n",
       "      <td>539.547619</td>\n",
       "    </tr>\n",
       "    <tr>\n",
       "      <th>B</th>\n",
       "      <td>723.426463</td>\n",
       "      <td>535.799945</td>\n",
       "      <td>574.719188</td>\n",
       "      <td>562.370691</td>\n",
       "      <td>597.395923</td>\n",
       "      <td>598.742442</td>\n",
       "    </tr>\n",
       "    <tr>\n",
       "      <th rowspan=\"2\" valign=\"top\">I</th>\n",
       "      <th>A</th>\n",
       "      <td>680.000000</td>\n",
       "      <td>597.150000</td>\n",
       "      <td>623.600000</td>\n",
       "      <td>642.500000</td>\n",
       "      <td>584.800000</td>\n",
       "      <td>625.610000</td>\n",
       "    </tr>\n",
       "    <tr>\n",
       "      <th>B</th>\n",
       "      <td>734.976303</td>\n",
       "      <td>552.079975</td>\n",
       "      <td>579.919194</td>\n",
       "      <td>564.263981</td>\n",
       "      <td>617.482463</td>\n",
       "      <td>609.744383</td>\n",
       "    </tr>\n",
       "    <tr>\n",
       "      <th rowspan=\"2\" valign=\"top\">J</th>\n",
       "      <th>A</th>\n",
       "      <td>860.000000</td>\n",
       "      <td>515.200000</td>\n",
       "      <td>570.400000</td>\n",
       "      <td>571.400000</td>\n",
       "      <td>689.066667</td>\n",
       "      <td>641.213333</td>\n",
       "    </tr>\n",
       "    <tr>\n",
       "      <th>B</th>\n",
       "      <td>739.669173</td>\n",
       "      <td>546.728594</td>\n",
       "      <td>583.893534</td>\n",
       "      <td>569.587068</td>\n",
       "      <td>624.683906</td>\n",
       "      <td>612.912455</td>\n",
       "    </tr>\n",
       "    <tr>\n",
       "      <th rowspan=\"2\" valign=\"top\">K</th>\n",
       "      <th>A</th>\n",
       "      <td>740.000000</td>\n",
       "      <td>535.000000</td>\n",
       "      <td>597.600000</td>\n",
       "      <td>575.500000</td>\n",
       "      <td>656.700000</td>\n",
       "      <td>620.960000</td>\n",
       "    </tr>\n",
       "    <tr>\n",
       "      <th>B</th>\n",
       "      <td>752.164179</td>\n",
       "      <td>554.205447</td>\n",
       "      <td>591.221642</td>\n",
       "      <td>574.314552</td>\n",
       "      <td>631.204864</td>\n",
       "      <td>620.622137</td>\n",
       "    </tr>\n",
       "    <tr>\n",
       "      <th rowspan=\"2\" valign=\"top\">L</th>\n",
       "      <th>A</th>\n",
       "      <td>770.000000</td>\n",
       "      <td>535.825000</td>\n",
       "      <td>551.225000</td>\n",
       "      <td>552.700000</td>\n",
       "      <td>604.575000</td>\n",
       "      <td>602.865000</td>\n",
       "    </tr>\n",
       "    <tr>\n",
       "      <th>B</th>\n",
       "      <td>757.370753</td>\n",
       "      <td>552.616489</td>\n",
       "      <td>587.810931</td>\n",
       "      <td>573.484638</td>\n",
       "      <td>634.699084</td>\n",
       "      <td>621.196379</td>\n",
       "    </tr>\n",
       "    <tr>\n",
       "      <th rowspan=\"2\" valign=\"top\">M</th>\n",
       "      <th>A</th>\n",
       "      <td>740.000000</td>\n",
       "      <td>581.166667</td>\n",
       "      <td>579.633333</td>\n",
       "      <td>572.800000</td>\n",
       "      <td>687.600000</td>\n",
       "      <td>632.240000</td>\n",
       "    </tr>\n",
       "    <tr>\n",
       "      <th>B</th>\n",
       "      <td>756.726190</td>\n",
       "      <td>559.076741</td>\n",
       "      <td>589.410714</td>\n",
       "      <td>575.316964</td>\n",
       "      <td>637.062816</td>\n",
       "      <td>623.518685</td>\n",
       "    </tr>\n",
       "    <tr>\n",
       "      <th rowspan=\"2\" valign=\"top\">N</th>\n",
       "      <th>A</th>\n",
       "      <td>480.000000</td>\n",
       "      <td>393.100000</td>\n",
       "      <td>413.700000</td>\n",
       "      <td>401.400000</td>\n",
       "      <td>406.700000</td>\n",
       "      <td>418.980000</td>\n",
       "    </tr>\n",
       "    <tr>\n",
       "      <th>B</th>\n",
       "      <td>772.020548</td>\n",
       "      <td>561.008333</td>\n",
       "      <td>599.189384</td>\n",
       "      <td>579.760274</td>\n",
       "      <td>650.021631</td>\n",
       "      <td>632.400034</td>\n",
       "    </tr>\n",
       "    <tr>\n",
       "      <th rowspan=\"2\" valign=\"top\">O</th>\n",
       "      <th>A</th>\n",
       "      <td>610.000000</td>\n",
       "      <td>560.750000</td>\n",
       "      <td>587.150000</td>\n",
       "      <td>560.000000</td>\n",
       "      <td>668.200000</td>\n",
       "      <td>597.220000</td>\n",
       "    </tr>\n",
       "    <tr>\n",
       "      <th>B</th>\n",
       "      <td>780.765697</td>\n",
       "      <td>561.632917</td>\n",
       "      <td>598.367994</td>\n",
       "      <td>581.415008</td>\n",
       "      <td>654.635569</td>\n",
       "      <td>635.363437</td>\n",
       "    </tr>\n",
       "    <tr>\n",
       "      <th rowspan=\"2\" valign=\"top\">P</th>\n",
       "      <th>A</th>\n",
       "      <td>NaN</td>\n",
       "      <td>NaN</td>\n",
       "      <td>NaN</td>\n",
       "      <td>NaN</td>\n",
       "      <td>NaN</td>\n",
       "      <td>NaN</td>\n",
       "    </tr>\n",
       "    <tr>\n",
       "      <th>B</th>\n",
       "      <td>778.998384</td>\n",
       "      <td>571.498469</td>\n",
       "      <td>602.055250</td>\n",
       "      <td>584.180775</td>\n",
       "      <td>661.589456</td>\n",
       "      <td>639.664467</td>\n",
       "    </tr>\n",
       "    <tr>\n",
       "      <th rowspan=\"2\" valign=\"top\">Q</th>\n",
       "      <th>A</th>\n",
       "      <td>880.000000</td>\n",
       "      <td>611.500000</td>\n",
       "      <td>590.200000</td>\n",
       "      <td>619.000000</td>\n",
       "      <td>706.500000</td>\n",
       "      <td>681.440000</td>\n",
       "    </tr>\n",
       "    <tr>\n",
       "      <th>B</th>\n",
       "      <td>794.298441</td>\n",
       "      <td>568.591204</td>\n",
       "      <td>601.667595</td>\n",
       "      <td>586.329399</td>\n",
       "      <td>672.793287</td>\n",
       "      <td>644.735985</td>\n",
       "    </tr>\n",
       "  </tbody>\n",
       "</table>\n",
       "</div>"
      ],
      "text/plain": [
       "           NU_NOTA_REDACAO  NU_NOTA_CN  NU_NOTA_CH  NU_NOTA_LC  NU_NOTA_MT  \\\n",
       "Q006 Q025                                                                    \n",
       "A    A          491.509054  465.184564  491.959759  474.117907  469.154586   \n",
       "     B          523.573837  470.289497  496.343898  486.382198  481.257622   \n",
       "B    A          525.218121  468.080874  494.945973  486.760403  482.897632   \n",
       "     B          567.574096  476.277039  510.147803  504.559528  497.488530   \n",
       "C    A          557.923875  476.447212  511.543945  504.777509  508.582528   \n",
       "     B          600.137183  488.613274  524.413878  518.654969  521.306645   \n",
       "D    A          539.080460  489.606329  513.759770  508.573563  520.727848   \n",
       "     B          627.159332  498.269583  534.224029  526.985267  535.312472   \n",
       "E    A          585.333333  515.165909  536.697778  503.626667  536.581818   \n",
       "     B          655.318647  508.510318  546.041306  537.827773  554.144614   \n",
       "F    A          547.272727  505.977273  532.650000  513.722727  533.109091   \n",
       "     B          676.703458  520.358584  557.392421  548.063503  570.952733   \n",
       "G    A          634.444444  511.327778  554.455556  548.844444  551.155556   \n",
       "     B          700.683491  527.617741  565.987434  553.583228  589.159945   \n",
       "H    A          620.000000  487.833333  546.871429  517.600000  525.433333   \n",
       "     B          723.426463  535.799945  574.719188  562.370691  597.395923   \n",
       "I    A          680.000000  597.150000  623.600000  642.500000  584.800000   \n",
       "     B          734.976303  552.079975  579.919194  564.263981  617.482463   \n",
       "J    A          860.000000  515.200000  570.400000  571.400000  689.066667   \n",
       "     B          739.669173  546.728594  583.893534  569.587068  624.683906   \n",
       "K    A          740.000000  535.000000  597.600000  575.500000  656.700000   \n",
       "     B          752.164179  554.205447  591.221642  574.314552  631.204864   \n",
       "L    A          770.000000  535.825000  551.225000  552.700000  604.575000   \n",
       "     B          757.370753  552.616489  587.810931  573.484638  634.699084   \n",
       "M    A          740.000000  581.166667  579.633333  572.800000  687.600000   \n",
       "     B          756.726190  559.076741  589.410714  575.316964  637.062816   \n",
       "N    A          480.000000  393.100000  413.700000  401.400000  406.700000   \n",
       "     B          772.020548  561.008333  599.189384  579.760274  650.021631   \n",
       "O    A          610.000000  560.750000  587.150000  560.000000  668.200000   \n",
       "     B          780.765697  561.632917  598.367994  581.415008  654.635569   \n",
       "P    A                 NaN         NaN         NaN         NaN         NaN   \n",
       "     B          778.998384  571.498469  602.055250  584.180775  661.589456   \n",
       "Q    A          880.000000  611.500000  590.200000  619.000000  706.500000   \n",
       "     B          794.298441  568.591204  601.667595  586.329399  672.793287   \n",
       "\n",
       "                Total  \n",
       "Q006 Q025              \n",
       "A    A     478.385174  \n",
       "     B     491.569410  \n",
       "B    A     491.580601  \n",
       "     B     511.209399  \n",
       "C    A     511.855014  \n",
       "     B     530.625190  \n",
       "D    A     514.349594  \n",
       "     B     544.390137  \n",
       "E    A     535.481101  \n",
       "     B     560.368532  \n",
       "F    A     526.546364  \n",
       "     B     574.694140  \n",
       "G    A     560.045556  \n",
       "     B     587.406368  \n",
       "H    A     539.547619  \n",
       "     B     598.742442  \n",
       "I    A     625.610000  \n",
       "     B     609.744383  \n",
       "J    A     641.213333  \n",
       "     B     612.912455  \n",
       "K    A     620.960000  \n",
       "     B     620.622137  \n",
       "L    A     602.865000  \n",
       "     B     621.196379  \n",
       "M    A     632.240000  \n",
       "     B     623.518685  \n",
       "N    A     418.980000  \n",
       "     B     632.400034  \n",
       "O    A     597.220000  \n",
       "     B     635.363437  \n",
       "P    A            NaN  \n",
       "     B     639.664467  \n",
       "Q    A     681.440000  \n",
       "     B     644.735985  "
      ]
     },
     "execution_count": 13,
     "metadata": {},
     "output_type": "execute_result"
    }
   ],
   "source": [
    "db_notas = db.get(['Q006', 'Q025', 'NU_NOTA_REDACAO','NU_NOTA_CN', 'NU_NOTA_CH', 'NU_NOTA_LC', 'NU_NOTA_MT']).groupby(['Q006', 'Q025']).mean()\n",
    "db_notas['Total'] = (db_notas['NU_NOTA_CH'] + db_notas['NU_NOTA_CN'] + db_notas['NU_NOTA_LC'] + db_notas['NU_NOTA_MT'] + db_notas['NU_NOTA_REDACAO']) / 5\n",
    "db_notas"
   ]
  },
  {
   "cell_type": "code",
   "execution_count": null,
   "metadata": {},
   "outputs": [],
   "source": []
  },
  {
   "cell_type": "markdown",
   "metadata": {},
   "source": [
    "Através desses dados é possível perceber que o aumento da renda familiar tende em melhores notas e para candidados de uma mesma faixa de renda, os que tem acesso à internet, de maneira geral, têm uma média maior.\n",
    "\n",
    "Dessa forma, entende-se que acesso à internet na residencia resulta em uma melhoria nas notas."
   ]
  }
 ],
 "metadata": {
  "kernelspec": {
   "display_name": "env",
   "language": "python",
   "name": "python3"
  },
  "language_info": {
   "codemirror_mode": {
    "name": "ipython",
    "version": 3
   },
   "file_extension": ".py",
   "mimetype": "text/x-python",
   "name": "python",
   "nbconvert_exporter": "python",
   "pygments_lexer": "ipython3",
   "version": "3.10.12"
  },
  "orig_nbformat": 4
 },
 "nbformat": 4,
 "nbformat_minor": 2
}
