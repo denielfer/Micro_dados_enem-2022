{
 "cells": [
  {
   "cell_type": "markdown",
   "metadata": {},
   "source": [
    "# Questao 1 #\n",
    "### O conjunto de microdados do ENEM 2022 possui 3.476.105 linhas, uma numerosidade muito grande para nosso contexto. Sua primeira tarefa é fazer a leitura do arquivo CSV por blocos e então realizar filtragem e amostragem em cada bloco para diminuir a numerosidade, salvando ao final um CSV com numerosidade reduzida. Tente alcançar uma tabela entre 50mil e 100mil linhas. "
   ]
  },
  {
   "cell_type": "markdown",
   "metadata": {},
   "source": [
    "R:\n",
    "Foi escolhido a cidade de Salvador, entao é feito uma filtragem sendo mantido apenas as linhas de pessoas que fizeram a prova no municiopio de salvador. \"NO_MUNICIPIO_PROVA\" indica o municipio onde a prova foi feita."
   ]
  },
  {
   "cell_type": "code",
   "execution_count": 1,
   "metadata": {},
   "outputs": [],
   "source": [
    "import pandas as pd\n",
    "\n",
    "\n",
    "db = pd.read_csv('micro_dados/DADOS/MICRODADOS_ENEM_2022.csv', encoding=\"cp1252\",delimiter=\";\")\n",
    "db = db[ db[\"NO_MUNICIPIO_PROVA\"]==\"Salvador\" ]"
   ]
  },
  {
   "cell_type": "code",
   "execution_count": 2,
   "metadata": {},
   "outputs": [
    {
     "name": "stdout",
     "output_type": "stream",
     "text": [
      "54604\n",
      "(54604, 76)\n"
     ]
    }
   ],
   "source": [
    "print(len(db))\n",
    "print(db.shape)"
   ]
  },
  {
   "cell_type": "markdown",
   "metadata": {},
   "source": [
    "Como a quantidade de elementos esta dentro do pedido, 50k a 100k, não sera feito amostragem"
   ]
  },
  {
   "cell_type": "code",
   "execution_count": 43,
   "metadata": {},
   "outputs": [],
   "source": [
    "db.to_csv(\"base_dados.csv\",encoding=\"cp1252\")"
   ]
  }
 ],
 "metadata": {
  "kernelspec": {
   "display_name": "Python 3",
   "language": "python",
   "name": "python3"
  },
  "language_info": {
   "codemirror_mode": {
    "name": "ipython",
    "version": 3
   },
   "file_extension": ".py",
   "mimetype": "text/x-python",
   "name": "python",
   "nbconvert_exporter": "python",
   "pygments_lexer": "ipython3",
   "version": "3.10.4"
  },
  "orig_nbformat": 4
 },
 "nbformat": 4,
 "nbformat_minor": 2
}
