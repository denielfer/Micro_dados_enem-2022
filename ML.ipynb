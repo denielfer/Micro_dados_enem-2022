{
 "cells": [
  {
   "cell_type": "markdown",
   "metadata": {},
   "source": [
    "# Questao 1\n",
    "O conjunto de microdados do ENEM 2022 possui 3.476.105 linhas, uma numerosidade muito grande para nosso contexto. Sua primeira tarefa é fazer a leitura do arquivo CSV por blocos e então realizar filtragem e amostragem em cada bloco para diminuir a numerosidade, salvando ao final um CSV com numerosidade reduzida. Tente alcançar uma tabela entre 50mil e 100mil linhas.\n",
    "Para leitura por blocos, use a opção chunksize de read_csv"
   ]
  },
  {
   "cell_type": "code",
   "execution_count": 2,
   "metadata": {},
   "outputs": [],
   "source": [
    "import pandas as pd\n",
    "\n",
    "uf = ['AL', 'BA', 'CE', 'SE', 'RN', 'PI', 'PB', 'PE', 'MA']\n",
    "\n",
    "db = pd.read_csv('micro_dados/MICRODADOS_ENEM_2022.csv', encoding=\"cp1252\",delimiter=\";\")\n",
    "db.dropna(subset='SG_UF_ESC', inplace=True)\n",
    "db_nordeste = db[(db[\"SG_UF_ESC\"] == 'AL') | (db[\"SG_UF_ESC\"] == 'BA') | (db[\"SG_UF_ESC\"] == 'CE') | (db[\"SG_UF_ESC\"] == 'SE') | (db[\"SG_UF_ESC\"] == 'RN') | (db[\"SG_UF_ESC\"] ==  'PI') | (db[\"SG_UF_ESC\"] == 'PB') | (db[\"SG_UF_ESC\"] == 'PE') | (db[\"SG_UF_ESC\"] == 'MA')]\n"
   ]
  },
  {
   "cell_type": "code",
   "execution_count": 3,
   "metadata": {},
   "outputs": [
    {
     "name": "stdout",
     "output_type": "stream",
     "text": [
      "299663\n",
      "(299663, 76)\n"
     ]
    }
   ],
   "source": [
    "print(len(db_nordeste))\n",
    "print(db_nordeste.shape)"
   ]
  },
  {
   "cell_type": "code",
   "execution_count": 4,
   "metadata": {},
   "outputs": [],
   "source": [
    "db_nordeste.to_csv(\"base_dados_ml_nordeste.csv\",encoding=\"cp1252\")\n"
   ]
  },
  {
   "cell_type": "markdown",
   "metadata": {},
   "source": [
    "Load data"
   ]
  },
  {
   "cell_type": "code",
   "execution_count": 51,
   "metadata": {},
   "outputs": [
    {
     "data": {
      "text/plain": [
       "Index(['Unnamed: 0', 'NU_INSCRICAO', 'NU_ANO', 'TP_FAIXA_ETARIA', 'TP_SEXO',\n",
       "       'TP_ESTADO_CIVIL', 'TP_COR_RACA', 'TP_NACIONALIDADE', 'TP_ST_CONCLUSAO',\n",
       "       'TP_ANO_CONCLUIU', 'TP_ESCOLA', 'TP_ENSINO', 'IN_TREINEIRO',\n",
       "       'CO_MUNICIPIO_ESC', 'NO_MUNICIPIO_ESC', 'CO_UF_ESC', 'SG_UF_ESC',\n",
       "       'TP_DEPENDENCIA_ADM_ESC', 'TP_LOCALIZACAO_ESC', 'TP_SIT_FUNC_ESC',\n",
       "       'CO_MUNICIPIO_PROVA', 'NO_MUNICIPIO_PROVA', 'CO_UF_PROVA',\n",
       "       'SG_UF_PROVA', 'TP_PRESENCA_CN', 'TP_PRESENCA_CH', 'TP_PRESENCA_LC',\n",
       "       'TP_PRESENCA_MT', 'CO_PROVA_CN', 'CO_PROVA_CH', 'CO_PROVA_LC',\n",
       "       'CO_PROVA_MT', 'NU_NOTA_CN', 'NU_NOTA_CH', 'NU_NOTA_LC', 'NU_NOTA_MT',\n",
       "       'TX_RESPOSTAS_CN', 'TX_RESPOSTAS_CH', 'TX_RESPOSTAS_LC',\n",
       "       'TX_RESPOSTAS_MT', 'TP_LINGUA', 'TX_GABARITO_CN', 'TX_GABARITO_CH',\n",
       "       'TX_GABARITO_LC', 'TX_GABARITO_MT', 'TP_STATUS_REDACAO',\n",
       "       'NU_NOTA_COMP1', 'NU_NOTA_COMP2', 'NU_NOTA_COMP3', 'NU_NOTA_COMP4',\n",
       "       'NU_NOTA_COMP5', 'NU_NOTA_REDACAO', 'Q001', 'Q002', 'Q003', 'Q004',\n",
       "       'Q005', 'Q006', 'Q007', 'Q008', 'Q009', 'Q010', 'Q011', 'Q012', 'Q013',\n",
       "       'Q014', 'Q015', 'Q016', 'Q017', 'Q018', 'Q019', 'Q020', 'Q021', 'Q022',\n",
       "       'Q023', 'Q024', 'Q025'],\n",
       "      dtype='object')"
      ]
     },
     "execution_count": 51,
     "metadata": {},
     "output_type": "execute_result"
    }
   ],
   "source": [
    "import pandas as pd\n",
    "db = pd.read_csv('base_dados_ml_nordeste.csv', encoding=\"cp1252\")\n",
    "db.dropna(inplace=True)\n",
    "db.columns"
   ]
  },
  {
   "cell_type": "code",
   "execution_count": 52,
   "metadata": {},
   "outputs": [
    {
     "data": {
      "text/plain": [
       "(216000, 77)"
      ]
     },
     "execution_count": 52,
     "metadata": {},
     "output_type": "execute_result"
    }
   ],
   "source": [
    "db.shape"
   ]
  },
  {
   "cell_type": "markdown",
   "metadata": {},
   "source": [
    "# Questão 2\n",
    "\n",
    "Com base no conjunto de dados reduzido, crie um subconjunto de dados, que será utilizado para predição da faixa de notas de uma prova do ENEM."
   ]
  },
  {
   "cell_type": "markdown",
   "metadata": {},
   "source": [
    "## a)\n",
    "Para este subconjunto escolha um atributo de nota de uma das provas do ENEM, selecione também 10 outros atributos não relacionados às provas (não pertencentes aos atributos da seção Dados da Prova Objetiva nem da seção Dados da Redação). \n"
   ]
  },
  {
   "cell_type": "markdown",
   "metadata": {},
   "source": [
    "resp: \n",
    "TP_FAIXA_ETARIA(Faixa etária):  impacto de uma idade mais jovem têm consequência nas notas por conta de uma possível saída mais próxima do ensino médio, tendo assuntos mais 'frescos'\n",
    "\n",
    "Q002(Escolaridade da mãe): temos a ideia que escolaridade da mae pode influencia na performace do aluno\n",
    "\n",
    "TP_ESTADO_CIVIL(Estado civil): enntende-se que diferentes estados civiels podem trazer diferentes responsabilidades, que alterem padroes de estudo e possam alterar valor de nota\n",
    "\n",
    "TP_ST_CONCLUSAO(Situação de conclusão do ensino médio): pela situação de conclusao espera-se ter uma ideaia de preparo tecnico par o enem\n",
    "\n",
    "TP_ESCOLA(Tipo escola do ensino médio): uma preconceito de que diferentes tipos de escola podem trazer diferentes preparações para alunos\n",
    "\n",
    "Q005(Quantas pessoas moram na sua residência): a quantidade de pessoas na casa poderia alterar padroes de estudo dentre outros que altere a nota\n",
    "\n",
    "Q006(Renda mensal familiar): familias de certas faixas de renda teriam acesso diferente de preparo e acesso a informação logo alteraria o proparo do aluno a prova\n",
    "\n",
    "Q021(Tem TV por assinatura): exposição do aluno a noticias e conhecimentos em geral, que pode alterar nota de redação\n",
    "\n",
    "Q024(Tem computador): exposição do aluno a noticias e conhecimentos em geral, que pode alterar nota de redação\n",
    "\n",
    "Q025(Tem internet): exposição do aluno a noticias e conhecimentos em geral, que pode alterar nota de redação"
   ]
  },
  {
   "cell_type": "markdown",
   "metadata": {},
   "source": [
    "### nota\n",
    "entendemos que tv, computador e internet ta ligado a renda mas nao tem o q usar."
   ]
  },
  {
   "cell_type": "markdown",
   "metadata": {},
   "source": [
    "# FAZER ONE HOT ENCODE EM ESTADO CIVIL"
   ]
  },
  {
   "cell_type": "code",
   "execution_count": 53,
   "metadata": {},
   "outputs": [
    {
     "data": {
      "text/plain": [
       "array([[<Axes: title={'center': 'TP_FAIXA_ETARIA'}>,\n",
       "        <Axes: title={'center': 'TP_ESCOLA'}>,\n",
       "        <Axes: title={'center': 'Q006'}>],\n",
       "       [<Axes: title={'center': 'Q024'}>,\n",
       "        <Axes: title={'center': 'Q025'}>,\n",
       "        <Axes: title={'center': 'TP_SEXO'}>],\n",
       "       [<Axes: title={'center': 'TP_ESTADO_CIVIL'}>,\n",
       "        <Axes: title={'center': 'Q021'}>,\n",
       "        <Axes: title={'center': 'TP_ST_CONCLUSAO'}>],\n",
       "       [<Axes: title={'center': 'Q005'}>,\n",
       "        <Axes: title={'center': 'Q022'}>, <Axes: >]], dtype=object)"
      ]
     },
     "execution_count": 53,
     "metadata": {},
     "output_type": "execute_result"
    },
    {
     "data": {
      "image/png": "[encoded data removed]",
      "text/plain": [
       "<Figure size 640x480 with 12 Axes>"
      ]
     },
     "metadata": {},
     "output_type": "display_data"
    }
   ],
   "source": [
    "colunas = [ \"TP_FAIXA_ETARIA\", 'TP_ESCOLA', 'Q006', 'Q024', 'Q025', 'TP_SEXO', 'TP_ESTADO_CIVIL', 'Q021', 'TP_ST_CONCLUSAO', 'Q005', 'Q022']\n",
    "\n",
    "def get_db(colunas,db = db):\n",
    "  db_ = db.get(colunas).copy()\n",
    "\n",
    "  if 'TP_SEXO' in colunas:\n",
    "      db_['TP_SEXO'] = (db_['TP_SEXO'] == 'M')* 1\n",
    "  Qs =  [ a for a in colunas if a[0] == 'Q' ]#['Q025','Q024','Q006','Q022']\n",
    "  for q in Qs:\n",
    "    try:\n",
    "      db_[q]= db_[q].apply(lambda x: ord(x) - ord('A'))\n",
    "    except:\n",
    "      pass\n",
    "  return db_\n",
    "\n",
    "db_ = get_db(colunas)\n",
    "db_.hist(bins=10)\n"
   ]
  },
  {
   "cell_type": "code",
   "execution_count": 54,
   "metadata": {},
   "outputs": [
    {
     "name": "stdout",
     "output_type": "stream",
     "text": [
      "Valores para TP_FAIXA_ETARIA:  {3: 94946, 2: 89762, 4: 19390, 5: 5431, 1: 3131, 6: 1527, 7: 536, 11: 307, 8: 284, 9: 157, 12: 149, 10: 121, 13: 110, 14: 68, 15: 36, 16: 22, 17: 18, 18: 2, 19: 2, 20: 1}\n",
      "\n",
      "Valores para TP_ESCOLA:  {2: 172907, 3: 43093}\n",
      "\n",
      "Valores para Q006:  {1: 93543, 2: 32533, 3: 19128, 0: 16931, 4: 11727, 7: 8175, 6: 8001, 5: 6516, 8: 3391, 9: 2419, 16: 2380, 11: 2245, 12: 2165, 14: 1720, 15: 1713, 10: 1709, 13: 1704}\n",
      "\n",
      "Valores para Q024:  {0: 130438, 1: 61676, 2: 14953, 3: 6097, 4: 2836}\n",
      "\n",
      "Valores para Q025:  {1: 190569, 0: 25431}\n",
      "\n",
      "Valores para TP_SEXO:  {0: 118918, 1: 97082}\n",
      "\n",
      "Valores para TP_ESTADO_CIVIL:  {1: 207251, 0: 6582, 3: 1226, 2: 900, 4: 41}\n",
      "\n",
      "Valores para Q021:  {0: 176449, 1: 39551}\n",
      "\n",
      "Valores para TP_ST_CONCLUSAO:  {2: 216000}\n",
      "\n",
      "Valores para Q005:  {4: 80942, 3: 57426, 5: 37765, 2: 19412, 6: 12607, 7: 4274, 8: 1708, 9: 635, 1: 562, 10: 353, 11: 106, 12: 91, 13: 39, 14: 32, 20: 16, 15: 14, 16: 8, 17: 6, 19: 3, 18: 1}\n",
      "\n",
      "Valores para Q022:  {3: 63742, 2: 59372, 4: 48182, 1: 39024, 0: 5680}\n",
      "\n"
     ]
    }
   ],
   "source": [
    "for col in colunas:\n",
    "  print(f\"Valores para {col}: \",dict(db_[col].value_counts()))\n",
    "  print()\n"
   ]
  },
  {
   "cell_type": "markdown",
   "metadata": {},
   "source": [
    "apartir da analize de dados percebemos que \"TP_ESCOLA\" pode ser binarizado entre publico ou privado, sendo binarizado para true como publico e false para privado. como valoes estao em 2 e 3 nao se julga nescessario altera para 1 ou 0"
   ]
  },
  {
   "cell_type": "code",
   "execution_count": 55,
   "metadata": {},
   "outputs": [
    {
     "data": {
      "text/plain": [
       "<Axes: >"
      ]
     },
     "execution_count": 55,
     "metadata": {},
     "output_type": "execute_result"
    },
    {
     "data": {
      "image/png": "[encoded data removed]",
      "text/plain": [
       "<Figure size 640x480 with 1 Axes>"
      ]
     },
     "metadata": {},
     "output_type": "display_data"
    }
   ],
   "source": [
    "  db['CO_MUNICIPIO_ESC'].hist(bins=100)"
   ]
  },
  {
   "cell_type": "code",
   "execution_count": 56,
   "metadata": {},
   "outputs": [
    {
     "data": {
      "text/plain": [
       "<Axes: >"
      ]
     },
     "execution_count": 56,
     "metadata": {},
     "output_type": "execute_result"
    },
    {
     "data": {
      "image/png": "[encoded data removed]",
      "text/plain": [
       "<Figure size 640x480 with 1 Axes>"
      ]
     },
     "metadata": {},
     "output_type": "display_data"
    }
   ],
   "source": [
    "db['TP_DEPENDENCIA_ADM_ESC'].value_counts()\n",
    "db['TP_DEPENDENCIA_ADM_ESC'].hist(bins=10)"
   ]
  },
  {
   "cell_type": "code",
   "execution_count": 57,
   "metadata": {},
   "outputs": [
    {
     "data": {
      "text/plain": [
       "<Axes: >"
      ]
     },
     "execution_count": 57,
     "metadata": {},
     "output_type": "execute_result"
    },
    {
     "data": {
      "image/png": "[encoded data removed]",
      "text/plain": [
       "<Figure size 640x480 with 1 Axes>"
      ]
     },
     "metadata": {},
     "output_type": "display_data"
    }
   ],
   "source": [
    "db['Q001'].hist(bins=10)"
   ]
  },
  {
   "cell_type": "markdown",
   "metadata": {},
   "source": [
    "Apartir deste histograma excluimos: TP_ST_CONCLUSAO \n",
    "\n",
    "e adicionamos: Q001 ( escolaridade pai )"
   ]
  },
  {
   "cell_type": "code",
   "execution_count": 58,
   "metadata": {},
   "outputs": [],
   "source": [
    "colunas = [\n",
    " 'TP_FAIXA_ETARIA',\n",
    " 'TP_ESCOLA',\n",
    " 'Q006',\n",
    " 'Q024',\n",
    " 'Q025',\n",
    " 'TP_SEXO',\n",
    " 'TP_ESTADO_CIVIL',\n",
    " 'Q021',\n",
    " 'Q001',\n",
    " 'Q005',\n",
    " 'Q022']"
   ]
  },
  {
   "cell_type": "code",
   "execution_count": 59,
   "metadata": {},
   "outputs": [
    {
     "data": {
      "text/plain": [
       "(216000, 11)"
      ]
     },
     "execution_count": 59,
     "metadata": {},
     "output_type": "execute_result"
    }
   ],
   "source": [
    "db_.shape"
   ]
  },
  {
   "cell_type": "markdown",
   "metadata": {},
   "source": [
    "## b)\n",
    "\n",
    "Para o atributo de nota da prova escolhida, crie um novo atributo com a discretização da nota em 4 quartis (apresente os valores delimitantes), e seleciona somente as linhas pertencentes ao primeiro e ao quarto quartil. \n"
   ]
  },
  {
   "cell_type": "markdown",
   "metadata": {},
   "source": [
    "inicialmente tentamos entender esta situação das notas da redação"
   ]
  },
  {
   "cell_type": "code",
   "execution_count": 60,
   "metadata": {},
   "outputs": [
    {
     "data": {
      "text/plain": [
       "<Axes: >"
      ]
     },
     "execution_count": 60,
     "metadata": {},
     "output_type": "execute_result"
    },
    {
     "data": {
      "image/png": "[encoded data removed]",
      "text/plain": [
       "<Figure size 640x480 with 1 Axes>"
      ]
     },
     "metadata": {},
     "output_type": "display_data"
    }
   ],
   "source": [
    "db['NU_NOTA_REDACAO'].hist(bins=100)"
   ]
  },
  {
   "cell_type": "markdown",
   "metadata": {},
   "source": [
    "existe MUITAS notas 0, entao vamos tenta entender o porque"
   ]
  },
  {
   "cell_type": "code",
   "execution_count": 61,
   "metadata": {},
   "outputs": [
    {
     "data": {
      "text/plain": [
       "<Axes: >"
      ]
     },
     "execution_count": 61,
     "metadata": {},
     "output_type": "execute_result"
    },
    {
     "data": {
      "image/png": "[encoded data removed]",
      "text/plain": [
       "<Figure size 640x480 with 1 Axes>"
      ]
     },
     "metadata": {},
     "output_type": "display_data"
    }
   ],
   "source": [
    "db[\"TP_STATUS_REDACAO\"].hist(bins = 9)"
   ]
  },
  {
   "cell_type": "markdown",
   "metadata": {},
   "source": [
    "decimos por remover todas as linhas de alunos que apresentaram algum problema na prova de redação"
   ]
  },
  {
   "cell_type": "code",
   "execution_count": 62,
   "metadata": {},
   "outputs": [
    {
     "data": {
      "text/plain": [
       "<Axes: >"
      ]
     },
     "execution_count": 62,
     "metadata": {},
     "output_type": "execute_result"
    },
    {
     "data": {
      "image/png": "[encoded data removed]",
      "text/plain": [
       "<Figure size 640x480 with 1 Axes>"
      ]
     },
     "metadata": {},
     "output_type": "display_data"
    }
   ],
   "source": [
    "db_ = get_db(colunas + ['NU_NOTA_REDACAO'],db[db['TP_STATUS_REDACAO'] == 1])\n",
    "db_['NU_NOTA_REDACAO'].hist(bins=100,grid=False)"
   ]
  },
  {
   "cell_type": "code",
   "execution_count": 63,
   "metadata": {},
   "outputs": [
    {
     "name": "stdout",
     "output_type": "stream",
     "text": [
      "count    199647.000000\n",
      "mean        661.734962\n",
      "std         167.956363\n",
      "min          40.000000\n",
      "25%         540.000000\n",
      "50%         660.000000\n",
      "75%         800.000000\n",
      "max        1000.000000\n",
      "Name: NU_NOTA_REDACAO, dtype: float64\n"
     ]
    },
    {
     "data": {
      "text/plain": [
       "(53977, (105616, 13))"
      ]
     },
     "execution_count": 63,
     "metadata": {},
     "output_type": "execute_result"
    }
   ],
   "source": [
    "dados = db_['NU_NOTA_REDACAO'].describe()\n",
    "print(dados)\n",
    "dados = dados['25%'],dados['75%']\n",
    "db_redação = get_db( colunas + ['NU_NOTA_REDACAO'],db_)\n",
    "db_redação = db_redação[((db_['NU_NOTA_REDACAO'] != 0) & (db_['NU_NOTA_REDACAO'] <= dados[0])) | (db_['NU_NOTA_REDACAO'] >= dados[1])].copy()\n",
    "db_redação['result'] = (db_redação['NU_NOTA_REDACAO'] >= dados[1]) *1\n",
    "db_redação['result'].sum(),db_redação.shape"
   ]
  },
  {
   "cell_type": "markdown",
   "metadata": {},
   "source": [
    "## c)\n",
    "\n",
    "Analise os demais atributos, verifique os valores existentes e sua distribuição, verifique a existência de dados ausentes. Determine e realize os procedimentos de pré-processamento necessários. Pode ser necessário transformar atributos categóricos (por exemplo, transformando alguns valores categóricos em um valor único, ou aplicando one-hot-encoding). Pode ser necessário normalizar ou padronizar atributos. Pode haver demanda de imputar valores ou excluir linhas com dados ausentes. Você pode também criar/transformar outros atributos (por exemplo, discretizando valores numéricos, combinando dois atributos em um único atributo).\n"
   ]
  },
  {
   "cell_type": "code",
   "execution_count": 64,
   "metadata": {},
   "outputs": [
    {
     "data": {
      "text/plain": [
       "(53977, (105616, 13))"
      ]
     },
     "execution_count": 64,
     "metadata": {},
     "output_type": "execute_result"
    }
   ],
   "source": [
    "db_redação.dropna(inplace=True)\n",
    "db_redação['result'].sum(), db_redação.shape"
   ]
  },
  {
   "cell_type": "markdown",
   "metadata": {},
   "source": [
    "apartir de cima temos que 53977 tiraram nota alta de 90694"
   ]
  },
  {
   "cell_type": "code",
   "execution_count": 65,
   "metadata": {},
   "outputs": [
    {
     "ename": "TypeError",
     "evalue": "ord() expected string of length 1, but int found",
     "output_type": "error",
     "traceback": [
      "\u001b[0;31m---------------------------------------------------------------------------\u001b[0m",
      "\u001b[0;31mTypeError\u001b[0m                                 Traceback (most recent call last)",
      "Cell \u001b[0;32mIn[65], line 5\u001b[0m\n\u001b[1;32m      3\u001b[0m db_redação\u001b[38;5;241m.\u001b[39mdrop(db_redação[db_redação[\u001b[38;5;124m'\u001b[39m\u001b[38;5;124mTP_ESTADO_CIVIL\u001b[39m\u001b[38;5;124m'\u001b[39m] \u001b[38;5;241m==\u001b[39m \u001b[38;5;241m0\u001b[39m]\u001b[38;5;241m.\u001b[39mindex,inplace\u001b[38;5;241m=\u001b[39m\u001b[38;5;28;01mTrue\u001b[39;00m )\n\u001b[1;32m      4\u001b[0m db_redação\u001b[38;5;241m.\u001b[39mdrop(db_redação[db_redação[\u001b[38;5;124m'\u001b[39m\u001b[38;5;124mTP_ESCOLA\u001b[39m\u001b[38;5;124m'\u001b[39m] \u001b[38;5;241m==\u001b[39m \u001b[38;5;241m1\u001b[39m]\u001b[38;5;241m.\u001b[39mindex,inplace\u001b[38;5;241m=\u001b[39m\u001b[38;5;28;01mTrue\u001b[39;00m )\n\u001b[0;32m----> 5\u001b[0m db_redação[\u001b[38;5;124m'\u001b[39m\u001b[38;5;124mQ025\u001b[39m\u001b[38;5;124m'\u001b[39m]\u001b[38;5;241m=\u001b[39m \u001b[43mdb_redação\u001b[49m\u001b[43m[\u001b[49m\u001b[38;5;124;43m'\u001b[39;49m\u001b[38;5;124;43mQ025\u001b[39;49m\u001b[38;5;124;43m'\u001b[39;49m\u001b[43m]\u001b[49m\u001b[38;5;241;43m.\u001b[39;49m\u001b[43mapply\u001b[49m\u001b[43m(\u001b[49m\u001b[38;5;28;43;01mlambda\u001b[39;49;00m\u001b[43m \u001b[49m\u001b[43mx\u001b[49m\u001b[43m:\u001b[49m\u001b[43m \u001b[49m\u001b[38;5;28;43mord\u001b[39;49m\u001b[43m(\u001b[49m\u001b[43mx\u001b[49m\u001b[43m)\u001b[49m\u001b[43m \u001b[49m\u001b[38;5;241;43m-\u001b[39;49m\u001b[43m \u001b[49m\u001b[38;5;28;43mord\u001b[39;49m\u001b[43m(\u001b[49m\u001b[38;5;124;43m'\u001b[39;49m\u001b[38;5;124;43mA\u001b[39;49m\u001b[38;5;124;43m'\u001b[39;49m\u001b[43m)\u001b[49m\u001b[43m)\u001b[49m\n\u001b[1;32m      6\u001b[0m db_redação[\u001b[38;5;124m'\u001b[39m\u001b[38;5;124mQ024\u001b[39m\u001b[38;5;124m'\u001b[39m]\u001b[38;5;241m=\u001b[39m db_redação[\u001b[38;5;124m'\u001b[39m\u001b[38;5;124mQ024\u001b[39m\u001b[38;5;124m'\u001b[39m]\u001b[38;5;241m.\u001b[39mapply(\u001b[38;5;28;01mlambda\u001b[39;00m x: \u001b[38;5;28mord\u001b[39m(x) \u001b[38;5;241m-\u001b[39m \u001b[38;5;28mord\u001b[39m(\u001b[38;5;124m'\u001b[39m\u001b[38;5;124mA\u001b[39m\u001b[38;5;124m'\u001b[39m))\n\u001b[1;32m      7\u001b[0m db_redação[\u001b[38;5;124m'\u001b[39m\u001b[38;5;124mQ006\u001b[39m\u001b[38;5;124m'\u001b[39m]\u001b[38;5;241m=\u001b[39m db_redação[\u001b[38;5;124m'\u001b[39m\u001b[38;5;124mQ006\u001b[39m\u001b[38;5;124m'\u001b[39m]\u001b[38;5;241m.\u001b[39mapply(\u001b[38;5;28;01mlambda\u001b[39;00m x: \u001b[38;5;28mord\u001b[39m(x) \u001b[38;5;241m-\u001b[39m \u001b[38;5;28mord\u001b[39m(\u001b[38;5;124m'\u001b[39m\u001b[38;5;124mA\u001b[39m\u001b[38;5;124m'\u001b[39m))\n",
      "File \u001b[0;32m~/Projects/Micro_dados_enem-2022/env/lib/python3.10/site-packages/pandas/core/series.py:4765\u001b[0m, in \u001b[0;36mSeries.apply\u001b[0;34m(self, func, convert_dtype, args, by_row, **kwargs)\u001b[0m\n\u001b[1;32m   4625\u001b[0m \u001b[38;5;28;01mdef\u001b[39;00m \u001b[38;5;21mapply\u001b[39m(\n\u001b[1;32m   4626\u001b[0m     \u001b[38;5;28mself\u001b[39m,\n\u001b[1;32m   4627\u001b[0m     func: AggFuncType,\n\u001b[0;32m   (...)\u001b[0m\n\u001b[1;32m   4632\u001b[0m     \u001b[38;5;241m*\u001b[39m\u001b[38;5;241m*\u001b[39mkwargs,\n\u001b[1;32m   4633\u001b[0m ) \u001b[38;5;241m-\u001b[39m\u001b[38;5;241m>\u001b[39m DataFrame \u001b[38;5;241m|\u001b[39m Series:\n\u001b[1;32m   4634\u001b[0m \u001b[38;5;250m    \u001b[39m\u001b[38;5;124;03m\"\"\"\u001b[39;00m\n\u001b[1;32m   4635\u001b[0m \u001b[38;5;124;03m    Invoke function on values of Series.\u001b[39;00m\n\u001b[1;32m   4636\u001b[0m \n\u001b[0;32m   (...)\u001b[0m\n\u001b[1;32m   4756\u001b[0m \u001b[38;5;124;03m    dtype: float64\u001b[39;00m\n\u001b[1;32m   4757\u001b[0m \u001b[38;5;124;03m    \"\"\"\u001b[39;00m\n\u001b[1;32m   4758\u001b[0m     \u001b[38;5;28;01mreturn\u001b[39;00m \u001b[43mSeriesApply\u001b[49m\u001b[43m(\u001b[49m\n\u001b[1;32m   4759\u001b[0m \u001b[43m        \u001b[49m\u001b[38;5;28;43mself\u001b[39;49m\u001b[43m,\u001b[49m\n\u001b[1;32m   4760\u001b[0m \u001b[43m        \u001b[49m\u001b[43mfunc\u001b[49m\u001b[43m,\u001b[49m\n\u001b[1;32m   4761\u001b[0m \u001b[43m        \u001b[49m\u001b[43mconvert_dtype\u001b[49m\u001b[38;5;241;43m=\u001b[39;49m\u001b[43mconvert_dtype\u001b[49m\u001b[43m,\u001b[49m\n\u001b[1;32m   4762\u001b[0m \u001b[43m        \u001b[49m\u001b[43mby_row\u001b[49m\u001b[38;5;241;43m=\u001b[39;49m\u001b[43mby_row\u001b[49m\u001b[43m,\u001b[49m\n\u001b[1;32m   4763\u001b[0m \u001b[43m        \u001b[49m\u001b[43margs\u001b[49m\u001b[38;5;241;43m=\u001b[39;49m\u001b[43margs\u001b[49m\u001b[43m,\u001b[49m\n\u001b[1;32m   4764\u001b[0m \u001b[43m        \u001b[49m\u001b[43mkwargs\u001b[49m\u001b[38;5;241;43m=\u001b[39;49m\u001b[43mkwargs\u001b[49m\u001b[43m,\u001b[49m\n\u001b[0;32m-> 4765\u001b[0m \u001b[43m    \u001b[49m\u001b[43m)\u001b[49m\u001b[38;5;241;43m.\u001b[39;49m\u001b[43mapply\u001b[49m\u001b[43m(\u001b[49m\u001b[43m)\u001b[49m\n",
      "File \u001b[0;32m~/Projects/Micro_dados_enem-2022/env/lib/python3.10/site-packages/pandas/core/apply.py:1201\u001b[0m, in \u001b[0;36mSeriesApply.apply\u001b[0;34m(self)\u001b[0m\n\u001b[1;32m   1198\u001b[0m     \u001b[38;5;28;01mreturn\u001b[39;00m \u001b[38;5;28mself\u001b[39m\u001b[38;5;241m.\u001b[39mapply_compat()\n\u001b[1;32m   1200\u001b[0m \u001b[38;5;66;03m# self.func is Callable\u001b[39;00m\n\u001b[0;32m-> 1201\u001b[0m \u001b[38;5;28;01mreturn\u001b[39;00m \u001b[38;5;28;43mself\u001b[39;49m\u001b[38;5;241;43m.\u001b[39;49m\u001b[43mapply_standard\u001b[49m\u001b[43m(\u001b[49m\u001b[43m)\u001b[49m\n",
      "File \u001b[0;32m~/Projects/Micro_dados_enem-2022/env/lib/python3.10/site-packages/pandas/core/apply.py:1281\u001b[0m, in \u001b[0;36mSeriesApply.apply_standard\u001b[0;34m(self)\u001b[0m\n\u001b[1;32m   1275\u001b[0m \u001b[38;5;66;03m# row-wise access\u001b[39;00m\n\u001b[1;32m   1276\u001b[0m \u001b[38;5;66;03m# apply doesn't have a `na_action` keyword and for backward compat reasons\u001b[39;00m\n\u001b[1;32m   1277\u001b[0m \u001b[38;5;66;03m# we need to give `na_action=\"ignore\"` for categorical data.\u001b[39;00m\n\u001b[1;32m   1278\u001b[0m \u001b[38;5;66;03m# TODO: remove the `na_action=\"ignore\"` when that default has been changed in\u001b[39;00m\n\u001b[1;32m   1279\u001b[0m \u001b[38;5;66;03m#  Categorical (GH51645).\u001b[39;00m\n\u001b[1;32m   1280\u001b[0m action \u001b[38;5;241m=\u001b[39m \u001b[38;5;124m\"\u001b[39m\u001b[38;5;124mignore\u001b[39m\u001b[38;5;124m\"\u001b[39m \u001b[38;5;28;01mif\u001b[39;00m \u001b[38;5;28misinstance\u001b[39m(obj\u001b[38;5;241m.\u001b[39mdtype, CategoricalDtype) \u001b[38;5;28;01melse\u001b[39;00m \u001b[38;5;28;01mNone\u001b[39;00m\n\u001b[0;32m-> 1281\u001b[0m mapped \u001b[38;5;241m=\u001b[39m \u001b[43mobj\u001b[49m\u001b[38;5;241;43m.\u001b[39;49m\u001b[43m_map_values\u001b[49m\u001b[43m(\u001b[49m\n\u001b[1;32m   1282\u001b[0m \u001b[43m    \u001b[49m\u001b[43mmapper\u001b[49m\u001b[38;5;241;43m=\u001b[39;49m\u001b[43mcurried\u001b[49m\u001b[43m,\u001b[49m\u001b[43m \u001b[49m\u001b[43mna_action\u001b[49m\u001b[38;5;241;43m=\u001b[39;49m\u001b[43maction\u001b[49m\u001b[43m,\u001b[49m\u001b[43m \u001b[49m\u001b[43mconvert\u001b[49m\u001b[38;5;241;43m=\u001b[39;49m\u001b[38;5;28;43mself\u001b[39;49m\u001b[38;5;241;43m.\u001b[39;49m\u001b[43mconvert_dtype\u001b[49m\n\u001b[1;32m   1283\u001b[0m \u001b[43m\u001b[49m\u001b[43m)\u001b[49m\n\u001b[1;32m   1285\u001b[0m \u001b[38;5;28;01mif\u001b[39;00m \u001b[38;5;28mlen\u001b[39m(mapped) \u001b[38;5;129;01mand\u001b[39;00m \u001b[38;5;28misinstance\u001b[39m(mapped[\u001b[38;5;241m0\u001b[39m], ABCSeries):\n\u001b[1;32m   1286\u001b[0m     warnings\u001b[38;5;241m.\u001b[39mwarn(\n\u001b[1;32m   1287\u001b[0m         \u001b[38;5;124m\"\u001b[39m\u001b[38;5;124mReturning a DataFrame from Series.apply when the supplied function \u001b[39m\u001b[38;5;124m\"\u001b[39m\n\u001b[1;32m   1288\u001b[0m         \u001b[38;5;124m\"\u001b[39m\u001b[38;5;124mreturns a Series is deprecated and will be removed in a future \u001b[39m\u001b[38;5;124m\"\u001b[39m\n\u001b[0;32m   (...)\u001b[0m\n\u001b[1;32m   1291\u001b[0m         stacklevel\u001b[38;5;241m=\u001b[39mfind_stack_level(),\n\u001b[1;32m   1292\u001b[0m     )  \u001b[38;5;66;03m# GH52116\u001b[39;00m\n",
      "File \u001b[0;32m~/Projects/Micro_dados_enem-2022/env/lib/python3.10/site-packages/pandas/core/base.py:921\u001b[0m, in \u001b[0;36mIndexOpsMixin._map_values\u001b[0;34m(self, mapper, na_action, convert)\u001b[0m\n\u001b[1;32m    918\u001b[0m \u001b[38;5;28;01mif\u001b[39;00m \u001b[38;5;28misinstance\u001b[39m(arr, ExtensionArray):\n\u001b[1;32m    919\u001b[0m     \u001b[38;5;28;01mreturn\u001b[39;00m arr\u001b[38;5;241m.\u001b[39mmap(mapper, na_action\u001b[38;5;241m=\u001b[39mna_action)\n\u001b[0;32m--> 921\u001b[0m \u001b[38;5;28;01mreturn\u001b[39;00m \u001b[43malgorithms\u001b[49m\u001b[38;5;241;43m.\u001b[39;49m\u001b[43mmap_array\u001b[49m\u001b[43m(\u001b[49m\u001b[43marr\u001b[49m\u001b[43m,\u001b[49m\u001b[43m \u001b[49m\u001b[43mmapper\u001b[49m\u001b[43m,\u001b[49m\u001b[43m \u001b[49m\u001b[43mna_action\u001b[49m\u001b[38;5;241;43m=\u001b[39;49m\u001b[43mna_action\u001b[49m\u001b[43m,\u001b[49m\u001b[43m \u001b[49m\u001b[43mconvert\u001b[49m\u001b[38;5;241;43m=\u001b[39;49m\u001b[43mconvert\u001b[49m\u001b[43m)\u001b[49m\n",
      "File \u001b[0;32m~/Projects/Micro_dados_enem-2022/env/lib/python3.10/site-packages/pandas/core/algorithms.py:1812\u001b[0m, in \u001b[0;36mmap_array\u001b[0;34m(arr, mapper, na_action, convert)\u001b[0m\n\u001b[1;32m   1810\u001b[0m values \u001b[38;5;241m=\u001b[39m arr\u001b[38;5;241m.\u001b[39mastype(\u001b[38;5;28mobject\u001b[39m, copy\u001b[38;5;241m=\u001b[39m\u001b[38;5;28;01mFalse\u001b[39;00m)\n\u001b[1;32m   1811\u001b[0m \u001b[38;5;28;01mif\u001b[39;00m na_action \u001b[38;5;129;01mis\u001b[39;00m \u001b[38;5;28;01mNone\u001b[39;00m:\n\u001b[0;32m-> 1812\u001b[0m     \u001b[38;5;28;01mreturn\u001b[39;00m \u001b[43mlib\u001b[49m\u001b[38;5;241;43m.\u001b[39;49m\u001b[43mmap_infer\u001b[49m\u001b[43m(\u001b[49m\u001b[43mvalues\u001b[49m\u001b[43m,\u001b[49m\u001b[43m \u001b[49m\u001b[43mmapper\u001b[49m\u001b[43m,\u001b[49m\u001b[43m \u001b[49m\u001b[43mconvert\u001b[49m\u001b[38;5;241;43m=\u001b[39;49m\u001b[43mconvert\u001b[49m\u001b[43m)\u001b[49m\n\u001b[1;32m   1813\u001b[0m \u001b[38;5;28;01melse\u001b[39;00m:\n\u001b[1;32m   1814\u001b[0m     \u001b[38;5;28;01mreturn\u001b[39;00m lib\u001b[38;5;241m.\u001b[39mmap_infer_mask(\n\u001b[1;32m   1815\u001b[0m         values, mapper, mask\u001b[38;5;241m=\u001b[39misna(values)\u001b[38;5;241m.\u001b[39mview(np\u001b[38;5;241m.\u001b[39muint8), convert\u001b[38;5;241m=\u001b[39mconvert\n\u001b[1;32m   1816\u001b[0m     )\n",
      "File \u001b[0;32mlib.pyx:2917\u001b[0m, in \u001b[0;36mpandas._libs.lib.map_infer\u001b[0;34m()\u001b[0m\n",
      "Cell \u001b[0;32mIn[65], line 5\u001b[0m, in \u001b[0;36m<lambda>\u001b[0;34m(x)\u001b[0m\n\u001b[1;32m      3\u001b[0m db_redação\u001b[38;5;241m.\u001b[39mdrop(db_redação[db_redação[\u001b[38;5;124m'\u001b[39m\u001b[38;5;124mTP_ESTADO_CIVIL\u001b[39m\u001b[38;5;124m'\u001b[39m] \u001b[38;5;241m==\u001b[39m \u001b[38;5;241m0\u001b[39m]\u001b[38;5;241m.\u001b[39mindex,inplace\u001b[38;5;241m=\u001b[39m\u001b[38;5;28;01mTrue\u001b[39;00m )\n\u001b[1;32m      4\u001b[0m db_redação\u001b[38;5;241m.\u001b[39mdrop(db_redação[db_redação[\u001b[38;5;124m'\u001b[39m\u001b[38;5;124mTP_ESCOLA\u001b[39m\u001b[38;5;124m'\u001b[39m] \u001b[38;5;241m==\u001b[39m \u001b[38;5;241m1\u001b[39m]\u001b[38;5;241m.\u001b[39mindex,inplace\u001b[38;5;241m=\u001b[39m\u001b[38;5;28;01mTrue\u001b[39;00m )\n\u001b[0;32m----> 5\u001b[0m db_redação[\u001b[38;5;124m'\u001b[39m\u001b[38;5;124mQ025\u001b[39m\u001b[38;5;124m'\u001b[39m]\u001b[38;5;241m=\u001b[39m db_redação[\u001b[38;5;124m'\u001b[39m\u001b[38;5;124mQ025\u001b[39m\u001b[38;5;124m'\u001b[39m]\u001b[38;5;241m.\u001b[39mapply(\u001b[38;5;28;01mlambda\u001b[39;00m x: \u001b[38;5;28;43mord\u001b[39;49m\u001b[43m(\u001b[49m\u001b[43mx\u001b[49m\u001b[43m)\u001b[49m \u001b[38;5;241m-\u001b[39m \u001b[38;5;28mord\u001b[39m(\u001b[38;5;124m'\u001b[39m\u001b[38;5;124mA\u001b[39m\u001b[38;5;124m'\u001b[39m))\n\u001b[1;32m      6\u001b[0m db_redação[\u001b[38;5;124m'\u001b[39m\u001b[38;5;124mQ024\u001b[39m\u001b[38;5;124m'\u001b[39m]\u001b[38;5;241m=\u001b[39m db_redação[\u001b[38;5;124m'\u001b[39m\u001b[38;5;124mQ024\u001b[39m\u001b[38;5;124m'\u001b[39m]\u001b[38;5;241m.\u001b[39mapply(\u001b[38;5;28;01mlambda\u001b[39;00m x: \u001b[38;5;28mord\u001b[39m(x) \u001b[38;5;241m-\u001b[39m \u001b[38;5;28mord\u001b[39m(\u001b[38;5;124m'\u001b[39m\u001b[38;5;124mA\u001b[39m\u001b[38;5;124m'\u001b[39m))\n\u001b[1;32m      7\u001b[0m db_redação[\u001b[38;5;124m'\u001b[39m\u001b[38;5;124mQ006\u001b[39m\u001b[38;5;124m'\u001b[39m]\u001b[38;5;241m=\u001b[39m db_redação[\u001b[38;5;124m'\u001b[39m\u001b[38;5;124mQ006\u001b[39m\u001b[38;5;124m'\u001b[39m]\u001b[38;5;241m.\u001b[39mapply(\u001b[38;5;28;01mlambda\u001b[39;00m x: \u001b[38;5;28mord\u001b[39m(x) \u001b[38;5;241m-\u001b[39m \u001b[38;5;28mord\u001b[39m(\u001b[38;5;124m'\u001b[39m\u001b[38;5;124mA\u001b[39m\u001b[38;5;124m'\u001b[39m))\n",
      "\u001b[0;31mTypeError\u001b[0m: ord() expected string of length 1, but int found"
     ]
    }
   ],
   "source": [
    "db_redação['TP_SEXO'] = (db_redação['TP_SEXO'] == 'M')* 1\n",
    "db_redação['Q021'] = (db_redação['Q021'] == 'A')* 1\n",
    "db_redação.drop(db_redação[db_redação['TP_ESTADO_CIVIL'] == 0].index,inplace=True )\n",
    "db_redação.drop(db_redação[db_redação['TP_ESCOLA'] == 1].index,inplace=True )\n",
    "db_redação['Q025']= db_redação['Q025'].apply(lambda x: ord(x) - ord('A'))\n",
    "db_redação['Q024']= db_redação['Q024'].apply(lambda x: ord(x) - ord('A'))\n",
    "db_redação['Q006']= db_redação['Q006'].apply(lambda x: ord(x) - ord('A'))"
   ]
  },
  {
   "cell_type": "code",
   "execution_count": null,
   "metadata": {},
   "outputs": [
    {
     "data": {
      "text/html": [
       "<div>\n",
       "<style scoped>\n",
       "    .dataframe tbody tr th:only-of-type {\n",
       "        vertical-align: middle;\n",
       "    }\n",
       "\n",
       "    .dataframe tbody tr th {\n",
       "        vertical-align: top;\n",
       "    }\n",
       "\n",
       "    .dataframe thead th {\n",
       "        text-align: right;\n",
       "    }\n",
       "</style>\n",
       "<table border=\"1\" class=\"dataframe\">\n",
       "  <thead>\n",
       "    <tr style=\"text-align: right;\">\n",
       "      <th></th>\n",
       "      <th>TP_FAIXA_ETARIA</th>\n",
       "      <th>TP_ESCOLA</th>\n",
       "      <th>Q006</th>\n",
       "      <th>Q024</th>\n",
       "      <th>Q025</th>\n",
       "      <th>TP_SEXO</th>\n",
       "      <th>TP_ESTADO_CIVIL</th>\n",
       "      <th>Q021</th>\n",
       "      <th>Q001</th>\n",
       "      <th>Q005</th>\n",
       "      <th>Q022</th>\n",
       "      <th>NU_NOTA_REDACAO</th>\n",
       "    </tr>\n",
       "  </thead>\n",
       "  <tbody>\n",
       "    <tr>\n",
       "      <th>1</th>\n",
       "      <td>5</td>\n",
       "      <td>2</td>\n",
       "      <td>1</td>\n",
       "      <td>0</td>\n",
       "      <td>1</td>\n",
       "      <td>0</td>\n",
       "      <td>1</td>\n",
       "      <td>0</td>\n",
       "      <td>2</td>\n",
       "      <td>4</td>\n",
       "      <td>2</td>\n",
       "      <td>560.0</td>\n",
       "    </tr>\n",
       "    <tr>\n",
       "      <th>3</th>\n",
       "      <td>3</td>\n",
       "      <td>2</td>\n",
       "      <td>0</td>\n",
       "      <td>0</td>\n",
       "      <td>0</td>\n",
       "      <td>0</td>\n",
       "      <td>1</td>\n",
       "      <td>0</td>\n",
       "      <td>1</td>\n",
       "      <td>5</td>\n",
       "      <td>2</td>\n",
       "      <td>380.0</td>\n",
       "    </tr>\n",
       "    <tr>\n",
       "      <th>4</th>\n",
       "      <td>4</td>\n",
       "      <td>2</td>\n",
       "      <td>1</td>\n",
       "      <td>0</td>\n",
       "      <td>1</td>\n",
       "      <td>1</td>\n",
       "      <td>1</td>\n",
       "      <td>0</td>\n",
       "      <td>4</td>\n",
       "      <td>2</td>\n",
       "      <td>2</td>\n",
       "      <td>700.0</td>\n",
       "    </tr>\n",
       "    <tr>\n",
       "      <th>5</th>\n",
       "      <td>2</td>\n",
       "      <td>2</td>\n",
       "      <td>2</td>\n",
       "      <td>1</td>\n",
       "      <td>1</td>\n",
       "      <td>0</td>\n",
       "      <td>1</td>\n",
       "      <td>0</td>\n",
       "      <td>2</td>\n",
       "      <td>9</td>\n",
       "      <td>3</td>\n",
       "      <td>540.0</td>\n",
       "    </tr>\n",
       "    <tr>\n",
       "      <th>6</th>\n",
       "      <td>3</td>\n",
       "      <td>2</td>\n",
       "      <td>1</td>\n",
       "      <td>0</td>\n",
       "      <td>1</td>\n",
       "      <td>0</td>\n",
       "      <td>1</td>\n",
       "      <td>0</td>\n",
       "      <td>4</td>\n",
       "      <td>3</td>\n",
       "      <td>2</td>\n",
       "      <td>860.0</td>\n",
       "    </tr>\n",
       "    <tr>\n",
       "      <th>...</th>\n",
       "      <td>...</td>\n",
       "      <td>...</td>\n",
       "      <td>...</td>\n",
       "      <td>...</td>\n",
       "      <td>...</td>\n",
       "      <td>...</td>\n",
       "      <td>...</td>\n",
       "      <td>...</td>\n",
       "      <td>...</td>\n",
       "      <td>...</td>\n",
       "      <td>...</td>\n",
       "      <td>...</td>\n",
       "    </tr>\n",
       "    <tr>\n",
       "      <th>299649</th>\n",
       "      <td>3</td>\n",
       "      <td>2</td>\n",
       "      <td>5</td>\n",
       "      <td>0</td>\n",
       "      <td>1</td>\n",
       "      <td>1</td>\n",
       "      <td>1</td>\n",
       "      <td>0</td>\n",
       "      <td>4</td>\n",
       "      <td>3</td>\n",
       "      <td>3</td>\n",
       "      <td>600.0</td>\n",
       "    </tr>\n",
       "    <tr>\n",
       "      <th>299654</th>\n",
       "      <td>4</td>\n",
       "      <td>2</td>\n",
       "      <td>1</td>\n",
       "      <td>0</td>\n",
       "      <td>0</td>\n",
       "      <td>0</td>\n",
       "      <td>1</td>\n",
       "      <td>0</td>\n",
       "      <td>0</td>\n",
       "      <td>3</td>\n",
       "      <td>1</td>\n",
       "      <td>180.0</td>\n",
       "    </tr>\n",
       "    <tr>\n",
       "      <th>299656</th>\n",
       "      <td>2</td>\n",
       "      <td>3</td>\n",
       "      <td>4</td>\n",
       "      <td>1</td>\n",
       "      <td>1</td>\n",
       "      <td>1</td>\n",
       "      <td>1</td>\n",
       "      <td>1</td>\n",
       "      <td>4</td>\n",
       "      <td>3</td>\n",
       "      <td>3</td>\n",
       "      <td>680.0</td>\n",
       "    </tr>\n",
       "    <tr>\n",
       "      <th>299657</th>\n",
       "      <td>5</td>\n",
       "      <td>2</td>\n",
       "      <td>2</td>\n",
       "      <td>1</td>\n",
       "      <td>1</td>\n",
       "      <td>0</td>\n",
       "      <td>1</td>\n",
       "      <td>0</td>\n",
       "      <td>4</td>\n",
       "      <td>4</td>\n",
       "      <td>0</td>\n",
       "      <td>400.0</td>\n",
       "    </tr>\n",
       "    <tr>\n",
       "      <th>299659</th>\n",
       "      <td>1</td>\n",
       "      <td>3</td>\n",
       "      <td>8</td>\n",
       "      <td>1</td>\n",
       "      <td>1</td>\n",
       "      <td>1</td>\n",
       "      <td>1</td>\n",
       "      <td>0</td>\n",
       "      <td>5</td>\n",
       "      <td>2</td>\n",
       "      <td>2</td>\n",
       "      <td>600.0</td>\n",
       "    </tr>\n",
       "  </tbody>\n",
       "</table>\n",
       "<p>199647 rows × 12 columns</p>\n",
       "</div>"
      ],
      "text/plain": [
       "        TP_FAIXA_ETARIA  TP_ESCOLA  Q006  Q024  Q025  TP_SEXO  \\\n",
       "1                     5          2     1     0     1        0   \n",
       "3                     3          2     0     0     0        0   \n",
       "4                     4          2     1     0     1        1   \n",
       "5                     2          2     2     1     1        0   \n",
       "6                     3          2     1     0     1        0   \n",
       "...                 ...        ...   ...   ...   ...      ...   \n",
       "299649                3          2     5     0     1        1   \n",
       "299654                4          2     1     0     0        0   \n",
       "299656                2          3     4     1     1        1   \n",
       "299657                5          2     2     1     1        0   \n",
       "299659                1          3     8     1     1        1   \n",
       "\n",
       "        TP_ESTADO_CIVIL  Q021  Q001  Q005  Q022  NU_NOTA_REDACAO  \n",
       "1                     1     0     2     4     2            560.0  \n",
       "3                     1     0     1     5     2            380.0  \n",
       "4                     1     0     4     2     2            700.0  \n",
       "5                     1     0     2     9     3            540.0  \n",
       "6                     1     0     4     3     2            860.0  \n",
       "...                 ...   ...   ...   ...   ...              ...  \n",
       "299649                1     0     4     3     3            600.0  \n",
       "299654                1     0     0     3     1            180.0  \n",
       "299656                1     1     4     3     3            680.0  \n",
       "299657                1     0     4     4     0            400.0  \n",
       "299659                1     0     5     2     2            600.0  \n",
       "\n",
       "[199647 rows x 12 columns]"
      ]
     },
     "execution_count": 32,
     "metadata": {},
     "output_type": "execute_result"
    }
   ],
   "source": [
    "db_redação"
   ]
  },
  {
   "cell_type": "markdown",
   "metadata": {},
   "source": [
    "# questao 3\n",
    "\n",
    "Realize a tarefa de classificação: predição da faixa de nota discretizada da prova a partir dos demais atributos."
   ]
  },
  {
   "cell_type": "markdown",
   "metadata": {},
   "source": [
    "## a)\n",
    "\n",
    "Defina e descreva seu método de avaliação e medidas de avaliação. "
   ]
  },
  {
   "cell_type": "markdown",
   "metadata": {},
   "source": [
    "R:\n",
    "Validação cruzada (Cross-validation)\n",
    "\n",
    "  Repete a avaliação do modelo com diferentes subconjuntos de treino e teste obtidos do conjunto de dados original\n",
    "\n",
    "  Usando o Stratified cross-validation, no qual folds mantém a mesma distribuição de classes do conjunto original\n",
    "\n",
    "Medidas de avaliação:\n",
    "\n",
    "  Acurácia= (TP + TN)/All -> acertos sobre total de predicts\n",
    "\n",
    "  Sensibilidade ou Recall = TP/P -> verdadeiros positivos acertados\n",
    "\n",
    "  Especificidade = TN/N -> verdadeiros negativos acertados"
   ]
  },
  {
   "cell_type": "markdown",
   "metadata": {},
   "source": [
    "## b)\n",
    "\n",
    "Escolha um modelo de aprendizado de máquina. Faça experimentos com variações de parâmetros (se houver) do modelo de aprendizado de máquina."
   ]
  },
  {
   "cell_type": "code",
   "execution_count": 106,
   "metadata": {},
   "outputs": [],
   "source": [
    "from sklearn import  metrics\n",
    "from sklearn.model_selection import KFold\n",
    "from sklearn.model_selection import StratifiedKFold\n",
    "from sklearn.tree import DecisionTreeClassifier\n",
    "\n",
    "# experiment trocar KFold por StratifiedKFold, e trocar o classificador\n",
    "\n",
    "\n",
    "X = get_db(colunas, db_redação)\n",
    "y = get_db([\"result\"],db_redação)\n",
    "from sklearn.model_selection import train_test_split\n",
    "    # tenta fazer stratify ser equilibrado????\n",
    "X_train, X_test, y_train, y_test = train_test_split(X, y, test_size=0.2, random_state=0, stratify=y)"
   ]
  },
  {
   "cell_type": "code",
   "execution_count": 114,
   "metadata": {},
   "outputs": [
    {
     "name": "stdout",
     "output_type": "stream",
     "text": [
      "Max depth: 2\n",
      "\tprecision_macro: (0.7318456581232513, 0.0020616011202017445)\n",
      "\trecall_macro: (0.7312151033039802, 0.0019666942892012057)\n",
      "\tbalanced_accuracy: (0.7312151033039802, 0.0019666942892012057)\n",
      "Max depth: 3\n",
      "\tprecision_macro: (0.7362258717149252, 0.01016179265565556)\n",
      "\trecall_macro: (0.7311889030354625, 0.0019270557245014335)\n",
      "\tbalanced_accuracy: (0.7311889030354625, 0.0019270557245014335)\n",
      "Max depth: 4\n",
      "\tprecision_macro: (0.7481813037905033, 0.007026247134320287)\n",
      "\trecall_macro: (0.737511319905545, 0.0028859364691913732)\n",
      "\tbalanced_accuracy: (0.737511319905545, 0.0028859364691913732)\n",
      "Max depth: 5\n",
      "\tprecision_macro: (0.7404661363980816, 0.0023551907491356537)\n",
      "\trecall_macro: (0.7376816942556648, 0.0015004031750590417)\n",
      "\tbalanced_accuracy: (0.7376816942556648, 0.0015004031750590417)\n",
      "Max depth: 6\n",
      "\tprecision_macro: (0.7460103472329072, 0.0024942099103754563)\n",
      "\trecall_macro: (0.7417467078858377, 0.0019280760841906713)\n",
      "\tbalanced_accuracy: (0.7417592580866409, 0.0019121175950177433)\n",
      "Max depth: 7\n",
      "\tprecision_macro: (0.7476844562627422, 0.0024512264370079085)\n",
      "\trecall_macro: (0.7444356483056462, 0.0023215386331846685)\n",
      "\tbalanced_accuracy: (0.7444119600431802, 0.002349644252830656)\n",
      "Max depth: 8\n",
      "\tprecision_macro: (0.7496039041933882, 0.002493543497101694)\n",
      "\trecall_macro: (0.7470047675429988, 0.001906774851425223)\n",
      "\tbalanced_accuracy: (0.7469225646939383, 0.0019348710074509185)\n",
      "Max depth: 9\n",
      "\tprecision_macro: (0.7460514574546057, 0.0024617883939985065)\n",
      "\trecall_macro: (0.7452366805021358, 0.0023242427297412325)\n",
      "\tbalanced_accuracy: (0.745116118175094, 0.0023019786750270036)\n",
      "Max depth: 10\n",
      "\tprecision_macro: (0.7464776709939487, 0.0017423551068528529)\n",
      "\trecall_macro: (0.7455353263444218, 0.0014605191460501904)\n",
      "\tbalanced_accuracy: (0.745522777546619, 0.0015070429231868253)\n",
      "Max depth: 11\n",
      "\tprecision_macro: (0.7460690195022461, 0.001840893271655694)\n",
      "\trecall_macro: (0.7449304225532097, 0.0015855551575152738)\n",
      "\tbalanced_accuracy: (0.7449505734528215, 0.0016302814546487205)\n",
      "Max depth: 12\n",
      "\tprecision_macro: (0.7446765610563555, 0.001906594454890802)\n",
      "\trecall_macro: (0.7433385670181748, 0.0015185350629094662)\n",
      "\tbalanced_accuracy: (0.7434981934897672, 0.0013246547182500664)\n",
      "Max depth: 13\n",
      "\tprecision_macro: (0.741670921243362, 0.002193460219037933)\n",
      "\trecall_macro: (0.7405846396571951, 0.0017447156685999256)\n",
      "\tbalanced_accuracy: (0.740474516337249, 0.0017215104024079757)\n",
      "Max depth: 14\n",
      "\tprecision_macro: (0.739439698669012, 0.0024607664935950473)\n",
      "\trecall_macro: (0.7379275475574706, 0.0019848660742629886)\n",
      "\tbalanced_accuracy: (0.7379339007806022, 0.0020649888479486326)\n"
     ]
    }
   ],
   "source": [
    "from sklearn.model_selection import cross_val_score\n",
    "import numpy as np\n",
    "scoring = ['precision_macro', 'recall_macro','balanced_accuracy']\n",
    "for max_depth in range(2,15):\n",
    "  print(f'Max depth: {max_depth}')\n",
    "  score_mean_vec = []\n",
    "  for score in scoring:\n",
    "    clf = DecisionTreeClassifier(max_depth=max_depth).fit(X_train, y_train)\n",
    "    scores = cross_val_score(clf, X_train, y_train, cv=5,scoring = score)\n",
    "    # print(f'\\t{score}: {np.mean(scores), np.std(scores)}')\n",
    "    score_mean_vec.append(np.mean(scores))\n",
    "    # automatizar resultado"
   ]
  },
  {
   "cell_type": "markdown",
   "metadata": {},
   "source": [
    "tamanho escolhido 4, apresenta performace boa com tamanho baixo"
   ]
  },
  {
   "cell_type": "code",
   "execution_count": 116,
   "metadata": {},
   "outputs": [
    {
     "name": "stdout",
     "output_type": "stream",
     "text": [
      "              precision    recall  f1-score   support\n",
      "\n",
      "           0       0.68      0.86      0.76      9960\n",
      "           1       0.82      0.62      0.71     10554\n",
      "\n",
      "    accuracy                           0.74     20514\n",
      "   macro avg       0.75      0.74      0.73     20514\n",
      "weighted avg       0.75      0.74      0.73     20514\n",
      "\n",
      "\n"
     ]
    }
   ],
   "source": [
    "depth = 4\n",
    "clf = DecisionTreeClassifier(max_depth=depth).fit(X_train, y_train)\n",
    "clf.fit(X_train, y_train)\n",
    "predicted = clf.predict(X_test)\n",
    "print(f\"{metrics.classification_report(y_test, predicted)}\\n\")"
   ]
  },
  {
   "cell_type": "markdown",
   "metadata": {},
   "source": [
    "## b)\n",
    "Experimente variar atributos, removendo parte dos atributos."
   ]
  },
  {
   "cell_type": "code",
   "execution_count": null,
   "metadata": {},
   "outputs": [],
   "source": [
    "from sklearn import  metrics\n",
    "from sklearn.model_selection import KFold\n",
    "from sklearn.model_selection import StratifiedKFold\n",
    "from sklearn.tree import DecisionTreeClassifier\n",
    "\n",
    "# experiment trocar KFold por StratifiedKFold, e trocar o classificador\n",
    "\n",
    "\n",
    "X = get_db(colunas, db_redação)\n",
    "y = get_db([\"result\"],db_redação)\n",
    "from sklearn.model_selection import train_test_split\n",
    "    # tenta fazer stratify ser equilibrado????\n",
    "X_train, X_test, y_train, y_test = train_test_split(X, y, test_size=0.2, random_state=0, stratify=y)"
   ]
  },
  {
   "cell_type": "code",
   "execution_count": null,
   "metadata": {},
   "outputs": [],
   "source": [
    "from sklearn.model_selection import cross_val_score\n",
    "import numpy as np\n",
    "scoring = ['precision_macro', 'recall_macro','balanced_accuracy']\n",
    "for max_depth in range(2,15):\n",
    "  print(f'Max depth: {max_depth}')\n",
    "  for score in scoring:\n",
    "    clf = DecisionTreeClassifier(max_depth=max_depth).fit(X_train, y_train)\n",
    "    scores = cross_val_score(clf, X_train, y_train, cv=5,scoring = score)\n",
    "    print(f'\\t{score}: {np.mean(scores), np.std(scores)}')"
   ]
  }
 ],
 "metadata": {
  "kernelspec": {
   "display_name": "env",
   "language": "python",
   "name": "python3"
  },
  "language_info": {
   "codemirror_mode": {
    "name": "ipython",
    "version": 3
   },
   "file_extension": ".py",
   "mimetype": "text/x-python",
   "name": "python",
   "nbconvert_exporter": "python",
   "pygments_lexer": "ipython3",
   "version": "3.10.12"
  }
 },
 "nbformat": 4,
 "nbformat_minor": 2
}
